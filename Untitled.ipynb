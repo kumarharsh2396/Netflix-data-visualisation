{
 "cells": [
  {
   "cell_type": "code",
   "execution_count": 138,
   "id": "06bba417",
   "metadata": {},
   "outputs": [],
   "source": [
    "import pandas as pd\n",
    "\n",
    "import numpy as np\n",
    "\n",
    "import matplotlib. pyplot as plt\n",
    "\n",
    "import seaborn as sns\n",
    "\n",
    "import plotly.express as px"
   ]
  },
  {
   "cell_type": "code",
   "execution_count": 139,
   "id": "23722647",
   "metadata": {},
   "outputs": [],
   "source": [
    "df = pd.read_csv(\"netflix.csv\")"
   ]
  },
  {
   "cell_type": "code",
   "execution_count": 140,
   "id": "8f7a739d",
   "metadata": {},
   "outputs": [
    {
     "data": {
      "text/html": [
       "<div>\n",
       "<style scoped>\n",
       "    .dataframe tbody tr th:only-of-type {\n",
       "        vertical-align: middle;\n",
       "    }\n",
       "\n",
       "    .dataframe tbody tr th {\n",
       "        vertical-align: top;\n",
       "    }\n",
       "\n",
       "    .dataframe thead th {\n",
       "        text-align: right;\n",
       "    }\n",
       "</style>\n",
       "<table border=\"1\" class=\"dataframe\">\n",
       "  <thead>\n",
       "    <tr style=\"text-align: right;\">\n",
       "      <th></th>\n",
       "      <th>show_id</th>\n",
       "      <th>type</th>\n",
       "      <th>title</th>\n",
       "      <th>director</th>\n",
       "      <th>cast</th>\n",
       "      <th>country</th>\n",
       "      <th>date_added</th>\n",
       "      <th>release_year</th>\n",
       "      <th>rating</th>\n",
       "      <th>duration</th>\n",
       "      <th>listed_in</th>\n",
       "      <th>description</th>\n",
       "    </tr>\n",
       "  </thead>\n",
       "  <tbody>\n",
       "    <tr>\n",
       "      <th>0</th>\n",
       "      <td>s1</td>\n",
       "      <td>Movie</td>\n",
       "      <td>Dick Johnson Is Dead</td>\n",
       "      <td>Kirsten Johnson</td>\n",
       "      <td>NaN</td>\n",
       "      <td>United States</td>\n",
       "      <td>September 25, 2021</td>\n",
       "      <td>2020</td>\n",
       "      <td>PG-13</td>\n",
       "      <td>90 min</td>\n",
       "      <td>Documentaries</td>\n",
       "      <td>As her father nears the end of his life, filmm...</td>\n",
       "    </tr>\n",
       "    <tr>\n",
       "      <th>1</th>\n",
       "      <td>s2</td>\n",
       "      <td>TV Show</td>\n",
       "      <td>Blood &amp; Water</td>\n",
       "      <td>NaN</td>\n",
       "      <td>Ama Qamata, Khosi Ngema, Gail Mabalane, Thaban...</td>\n",
       "      <td>South Africa</td>\n",
       "      <td>September 24, 2021</td>\n",
       "      <td>2021</td>\n",
       "      <td>TV-MA</td>\n",
       "      <td>2 Seasons</td>\n",
       "      <td>International TV Shows, TV Dramas, TV Mysteries</td>\n",
       "      <td>After crossing paths at a party, a Cape Town t...</td>\n",
       "    </tr>\n",
       "    <tr>\n",
       "      <th>2</th>\n",
       "      <td>s3</td>\n",
       "      <td>TV Show</td>\n",
       "      <td>Ganglands</td>\n",
       "      <td>Julien Leclercq</td>\n",
       "      <td>Sami Bouajila, Tracy Gotoas, Samuel Jouy, Nabi...</td>\n",
       "      <td>NaN</td>\n",
       "      <td>September 24, 2021</td>\n",
       "      <td>2021</td>\n",
       "      <td>TV-MA</td>\n",
       "      <td>1 Season</td>\n",
       "      <td>Crime TV Shows, International TV Shows, TV Act...</td>\n",
       "      <td>To protect his family from a powerful drug lor...</td>\n",
       "    </tr>\n",
       "    <tr>\n",
       "      <th>3</th>\n",
       "      <td>s4</td>\n",
       "      <td>TV Show</td>\n",
       "      <td>Jailbirds New Orleans</td>\n",
       "      <td>NaN</td>\n",
       "      <td>NaN</td>\n",
       "      <td>NaN</td>\n",
       "      <td>September 24, 2021</td>\n",
       "      <td>2021</td>\n",
       "      <td>TV-MA</td>\n",
       "      <td>1 Season</td>\n",
       "      <td>Docuseries, Reality TV</td>\n",
       "      <td>Feuds, flirtations and toilet talk go down amo...</td>\n",
       "    </tr>\n",
       "    <tr>\n",
       "      <th>4</th>\n",
       "      <td>s5</td>\n",
       "      <td>TV Show</td>\n",
       "      <td>Kota Factory</td>\n",
       "      <td>NaN</td>\n",
       "      <td>Mayur More, Jitendra Kumar, Ranjan Raj, Alam K...</td>\n",
       "      <td>India</td>\n",
       "      <td>September 24, 2021</td>\n",
       "      <td>2021</td>\n",
       "      <td>TV-MA</td>\n",
       "      <td>2 Seasons</td>\n",
       "      <td>International TV Shows, Romantic TV Shows, TV ...</td>\n",
       "      <td>In a city of coaching centers known to train I...</td>\n",
       "    </tr>\n",
       "  </tbody>\n",
       "</table>\n",
       "</div>"
      ],
      "text/plain": [
       "  show_id     type                  title         director  \\\n",
       "0      s1    Movie   Dick Johnson Is Dead  Kirsten Johnson   \n",
       "1      s2  TV Show          Blood & Water              NaN   \n",
       "2      s3  TV Show              Ganglands  Julien Leclercq   \n",
       "3      s4  TV Show  Jailbirds New Orleans              NaN   \n",
       "4      s5  TV Show           Kota Factory              NaN   \n",
       "\n",
       "                                                cast        country  \\\n",
       "0                                                NaN  United States   \n",
       "1  Ama Qamata, Khosi Ngema, Gail Mabalane, Thaban...   South Africa   \n",
       "2  Sami Bouajila, Tracy Gotoas, Samuel Jouy, Nabi...            NaN   \n",
       "3                                                NaN            NaN   \n",
       "4  Mayur More, Jitendra Kumar, Ranjan Raj, Alam K...          India   \n",
       "\n",
       "           date_added  release_year rating   duration  \\\n",
       "0  September 25, 2021          2020  PG-13     90 min   \n",
       "1  September 24, 2021          2021  TV-MA  2 Seasons   \n",
       "2  September 24, 2021          2021  TV-MA   1 Season   \n",
       "3  September 24, 2021          2021  TV-MA   1 Season   \n",
       "4  September 24, 2021          2021  TV-MA  2 Seasons   \n",
       "\n",
       "                                           listed_in  \\\n",
       "0                                      Documentaries   \n",
       "1    International TV Shows, TV Dramas, TV Mysteries   \n",
       "2  Crime TV Shows, International TV Shows, TV Act...   \n",
       "3                             Docuseries, Reality TV   \n",
       "4  International TV Shows, Romantic TV Shows, TV ...   \n",
       "\n",
       "                                         description  \n",
       "0  As her father nears the end of his life, filmm...  \n",
       "1  After crossing paths at a party, a Cape Town t...  \n",
       "2  To protect his family from a powerful drug lor...  \n",
       "3  Feuds, flirtations and toilet talk go down amo...  \n",
       "4  In a city of coaching centers known to train I...  "
      ]
     },
     "execution_count": 140,
     "metadata": {},
     "output_type": "execute_result"
    }
   ],
   "source": [
    "df.head()"
   ]
  },
  {
   "cell_type": "markdown",
   "id": "a850b38b",
   "metadata": {},
   "source": [
    "### Basic Analysis"
   ]
  },
  {
   "cell_type": "code",
   "execution_count": 141,
   "id": "7d0ab46a",
   "metadata": {},
   "outputs": [
    {
     "data": {
      "text/plain": [
       "(8807, 12)"
      ]
     },
     "execution_count": 141,
     "metadata": {},
     "output_type": "execute_result"
    }
   ],
   "source": [
    "# Shape of Data\n",
    "df. shape"
   ]
  },
  {
   "cell_type": "code",
   "execution_count": 142,
   "id": "d62d5166",
   "metadata": {},
   "outputs": [
    {
     "data": {
      "text/plain": [
       "Index(['show_id', 'type', 'title', 'director', 'cast', 'country', 'date_added',\n",
       "       'release_year', 'rating', 'duration', 'listed_in', 'description'],\n",
       "      dtype='object')"
      ]
     },
     "execution_count": 142,
     "metadata": {},
     "output_type": "execute_result"
    }
   ],
   "source": [
    "#Getting Column Names \n",
    "df.columns"
   ]
  },
  {
   "cell_type": "code",
   "execution_count": 143,
   "id": "36cb836e",
   "metadata": {},
   "outputs": [
    {
     "data": {
      "text/plain": [
       "show_id         object\n",
       "type            object\n",
       "title           object\n",
       "director        object\n",
       "cast            object\n",
       "country         object\n",
       "date_added      object\n",
       "release_year     int64\n",
       "rating          object\n",
       "duration        object\n",
       "listed_in       object\n",
       "description     object\n",
       "dtype: object"
      ]
     },
     "execution_count": 143,
     "metadata": {},
     "output_type": "execute_result"
    }
   ],
   "source": [
    "# Datatype of each column in dataframe\n",
    "df.dtypes"
   ]
  },
  {
   "cell_type": "markdown",
   "id": "552ba420",
   "metadata": {},
   "source": [
    " It seems like there are NULL values present in few columns, which are to be treated."
   ]
  },
  {
   "cell_type": "code",
   "execution_count": 144,
   "id": "17d1f529",
   "metadata": {},
   "outputs": [],
   "source": [
    "# Date_added here is of type 'object', but it should be of type datetime\n",
    "df[ 'date_added'] = pd.to_datetime(df['date_added' ])\n",
    "# release_year is more of a categorical type rather than int64, so we need to change \n",
    "df[ 'release_year'] = df[ 'release_year'].astype('str')\n"
   ]
  },
  {
   "cell_type": "code",
   "execution_count": 145,
   "id": "6b0aa1b8",
   "metadata": {},
   "outputs": [
    {
     "data": {
      "text/plain": [
       "show_id                 object\n",
       "type                    object\n",
       "title                   object\n",
       "director                object\n",
       "cast                    object\n",
       "country                 object\n",
       "date_added      datetime64[ns]\n",
       "release_year            object\n",
       "rating                  object\n",
       "duration                object\n",
       "listed_in               object\n",
       "description             object\n",
       "dtype: object"
      ]
     },
     "execution_count": 145,
     "metadata": {},
     "output_type": "execute_result"
    }
   ],
   "source": [
    "df. dtypes\n"
   ]
  },
  {
   "cell_type": "markdown",
   "id": "073ffbbc",
   "metadata": {},
   "source": [
    "### Missing Value Detection and Treatment"
   ]
  },
  {
   "cell_type": "code",
   "execution_count": 146,
   "id": "47e512e7",
   "metadata": {},
   "outputs": [
    {
     "data": {
      "text/plain": [
       "show_id            0\n",
       "type               0\n",
       "title              0\n",
       "director        2634\n",
       "cast             825\n",
       "country          831\n",
       "date_added        10\n",
       "release_year       0\n",
       "rating             4\n",
       "duration           3\n",
       "listed_in          0\n",
       "description        0\n",
       "dtype: int64"
      ]
     },
     "execution_count": 146,
     "metadata": {},
     "output_type": "execute_result"
    }
   ],
   "source": [
    "df.isnull().sum()"
   ]
  },
  {
   "cell_type": "markdown",
   "id": "18118aa4",
   "metadata": {},
   "source": [
    "### Let's find the percentage of null values in the columns where null values are present, so that we can decide what we have to do with those records"
   ]
  },
  {
   "cell_type": "code",
   "execution_count": 147,
   "id": "64f7841c",
   "metadata": {},
   "outputs": [
    {
     "name": "stdout",
     "output_type": "stream",
     "text": [
      "Percentage of Null Values in director: 29.91%\n",
      "Percentage of Null Values in cast: 9.37%\n",
      "Percentage of Null Values in country: 9.44%\n",
      "Percentage of Null Values in date_added: 0.11%\n",
      "Percentage of Null Values in rating: 0.05%\n",
      "Percentage of Null Values in duration: 0.03%\n"
     ]
    }
   ],
   "source": [
    "for i in df.columns:\n",
    "    null_rate = df[i].isna().sum() / len(df) * 100\n",
    "    if null_rate > 0 :\n",
    "        print(\"Percentage of Null Values in {}: {}%\". format(i, round(null_rate, 2)))"
   ]
  },
  {
   "cell_type": "markdown",
   "id": "5245e866",
   "metadata": {},
   "source": [
    "### Date_added, rating and Duration columns have NULL Values with less than 0.5% of records, so we can drop them"
   ]
  },
  {
   "cell_type": "code",
   "execution_count": 148,
   "id": "8fe4b4cb",
   "metadata": {},
   "outputs": [],
   "source": [
    "df = df.loc[~df['date_added'].isnull()] # Date_added coLumn"
   ]
  },
  {
   "cell_type": "code",
   "execution_count": 149,
   "id": "359e0aff",
   "metadata": {},
   "outputs": [],
   "source": [
    "df = df.loc[~df['rating'].isnull()] # rating column\n",
    "df = df.loc[~df['duration'].isnull()] # Duration column"
   ]
  },
  {
   "cell_type": "code",
   "execution_count": 150,
   "id": "5ec0dd67",
   "metadata": {},
   "outputs": [
    {
     "name": "stdout",
     "output_type": "stream",
     "text": [
      "(8790, 12)\n"
     ]
    }
   ],
   "source": [
    "df.fillna(\"NA\", inplace = True)\n",
    "print(df.shape)"
   ]
  },
  {
   "cell_type": "code",
   "execution_count": 151,
   "id": "f79e5918",
   "metadata": {},
   "outputs": [
    {
     "data": {
      "text/plain": [
       "(8790, 12)"
      ]
     },
     "execution_count": 151,
     "metadata": {},
     "output_type": "execute_result"
    }
   ],
   "source": [
    "df.shape"
   ]
  },
  {
   "cell_type": "code",
   "execution_count": 152,
   "id": "beabc72d",
   "metadata": {},
   "outputs": [
    {
     "data": {
      "text/plain": [
       "show_id         0\n",
       "type            0\n",
       "title           0\n",
       "director        0\n",
       "cast            0\n",
       "country         0\n",
       "date_added      0\n",
       "release_year    0\n",
       "rating          0\n",
       "duration        0\n",
       "listed_in       0\n",
       "description     0\n",
       "dtype: int64"
      ]
     },
     "execution_count": 152,
     "metadata": {},
     "output_type": "execute_result"
    }
   ],
   "source": [
    "df.isna().sum()"
   ]
  },
  {
   "cell_type": "code",
   "execution_count": 153,
   "id": "ee917e0b",
   "metadata": {},
   "outputs": [
    {
     "data": {
      "text/html": [
       "<div>\n",
       "<style scoped>\n",
       "    .dataframe tbody tr th:only-of-type {\n",
       "        vertical-align: middle;\n",
       "    }\n",
       "\n",
       "    .dataframe tbody tr th {\n",
       "        vertical-align: top;\n",
       "    }\n",
       "\n",
       "    .dataframe thead th {\n",
       "        text-align: right;\n",
       "    }\n",
       "</style>\n",
       "<table border=\"1\" class=\"dataframe\">\n",
       "  <thead>\n",
       "    <tr style=\"text-align: right;\">\n",
       "      <th></th>\n",
       "      <th>show_id</th>\n",
       "      <th>type</th>\n",
       "      <th>title</th>\n",
       "      <th>director</th>\n",
       "      <th>cast</th>\n",
       "      <th>country</th>\n",
       "      <th>date_added</th>\n",
       "      <th>release_year</th>\n",
       "      <th>rating</th>\n",
       "      <th>duration</th>\n",
       "      <th>listed_in</th>\n",
       "      <th>description</th>\n",
       "    </tr>\n",
       "  </thead>\n",
       "  <tbody>\n",
       "    <tr>\n",
       "      <th>0</th>\n",
       "      <td>s1</td>\n",
       "      <td>Movie</td>\n",
       "      <td>Dick Johnson Is Dead</td>\n",
       "      <td>Kirsten Johnson</td>\n",
       "      <td>NA</td>\n",
       "      <td>United States</td>\n",
       "      <td>2021-09-25</td>\n",
       "      <td>2020</td>\n",
       "      <td>PG-13</td>\n",
       "      <td>90 min</td>\n",
       "      <td>Documentaries</td>\n",
       "      <td>As her father nears the end of his life, filmm...</td>\n",
       "    </tr>\n",
       "    <tr>\n",
       "      <th>1</th>\n",
       "      <td>s2</td>\n",
       "      <td>TV Show</td>\n",
       "      <td>Blood &amp; Water</td>\n",
       "      <td>NA</td>\n",
       "      <td>Ama Qamata, Khosi Ngema, Gail Mabalane, Thaban...</td>\n",
       "      <td>South Africa</td>\n",
       "      <td>2021-09-24</td>\n",
       "      <td>2021</td>\n",
       "      <td>TV-MA</td>\n",
       "      <td>2 Seasons</td>\n",
       "      <td>International TV Shows, TV Dramas, TV Mysteries</td>\n",
       "      <td>After crossing paths at a party, a Cape Town t...</td>\n",
       "    </tr>\n",
       "    <tr>\n",
       "      <th>2</th>\n",
       "      <td>s3</td>\n",
       "      <td>TV Show</td>\n",
       "      <td>Ganglands</td>\n",
       "      <td>Julien Leclercq</td>\n",
       "      <td>Sami Bouajila, Tracy Gotoas, Samuel Jouy, Nabi...</td>\n",
       "      <td>NA</td>\n",
       "      <td>2021-09-24</td>\n",
       "      <td>2021</td>\n",
       "      <td>TV-MA</td>\n",
       "      <td>1 Season</td>\n",
       "      <td>Crime TV Shows, International TV Shows, TV Act...</td>\n",
       "      <td>To protect his family from a powerful drug lor...</td>\n",
       "    </tr>\n",
       "    <tr>\n",
       "      <th>3</th>\n",
       "      <td>s4</td>\n",
       "      <td>TV Show</td>\n",
       "      <td>Jailbirds New Orleans</td>\n",
       "      <td>NA</td>\n",
       "      <td>NA</td>\n",
       "      <td>NA</td>\n",
       "      <td>2021-09-24</td>\n",
       "      <td>2021</td>\n",
       "      <td>TV-MA</td>\n",
       "      <td>1 Season</td>\n",
       "      <td>Docuseries, Reality TV</td>\n",
       "      <td>Feuds, flirtations and toilet talk go down amo...</td>\n",
       "    </tr>\n",
       "    <tr>\n",
       "      <th>4</th>\n",
       "      <td>s5</td>\n",
       "      <td>TV Show</td>\n",
       "      <td>Kota Factory</td>\n",
       "      <td>NA</td>\n",
       "      <td>Mayur More, Jitendra Kumar, Ranjan Raj, Alam K...</td>\n",
       "      <td>India</td>\n",
       "      <td>2021-09-24</td>\n",
       "      <td>2021</td>\n",
       "      <td>TV-MA</td>\n",
       "      <td>2 Seasons</td>\n",
       "      <td>International TV Shows, Romantic TV Shows, TV ...</td>\n",
       "      <td>In a city of coaching centers known to train I...</td>\n",
       "    </tr>\n",
       "  </tbody>\n",
       "</table>\n",
       "</div>"
      ],
      "text/plain": [
       "  show_id     type                  title         director  \\\n",
       "0      s1    Movie   Dick Johnson Is Dead  Kirsten Johnson   \n",
       "1      s2  TV Show          Blood & Water               NA   \n",
       "2      s3  TV Show              Ganglands  Julien Leclercq   \n",
       "3      s4  TV Show  Jailbirds New Orleans               NA   \n",
       "4      s5  TV Show           Kota Factory               NA   \n",
       "\n",
       "                                                cast        country  \\\n",
       "0                                                 NA  United States   \n",
       "1  Ama Qamata, Khosi Ngema, Gail Mabalane, Thaban...   South Africa   \n",
       "2  Sami Bouajila, Tracy Gotoas, Samuel Jouy, Nabi...             NA   \n",
       "3                                                 NA             NA   \n",
       "4  Mayur More, Jitendra Kumar, Ranjan Raj, Alam K...          India   \n",
       "\n",
       "  date_added release_year rating   duration  \\\n",
       "0 2021-09-25         2020  PG-13     90 min   \n",
       "1 2021-09-24         2021  TV-MA  2 Seasons   \n",
       "2 2021-09-24         2021  TV-MA   1 Season   \n",
       "3 2021-09-24         2021  TV-MA   1 Season   \n",
       "4 2021-09-24         2021  TV-MA  2 Seasons   \n",
       "\n",
       "                                           listed_in  \\\n",
       "0                                      Documentaries   \n",
       "1    International TV Shows, TV Dramas, TV Mysteries   \n",
       "2  Crime TV Shows, International TV Shows, TV Act...   \n",
       "3                             Docuseries, Reality TV   \n",
       "4  International TV Shows, Romantic TV Shows, TV ...   \n",
       "\n",
       "                                         description  \n",
       "0  As her father nears the end of his life, filmm...  \n",
       "1  After crossing paths at a party, a Cape Town t...  \n",
       "2  To protect his family from a powerful drug lor...  \n",
       "3  Feuds, flirtations and toilet talk go down amo...  \n",
       "4  In a city of coaching centers known to train I...  "
      ]
     },
     "execution_count": 153,
     "metadata": {},
     "output_type": "execute_result"
    }
   ],
   "source": [
    "df.head()"
   ]
  },
  {
   "cell_type": "code",
   "execution_count": 154,
   "id": "d76ed1a9",
   "metadata": {},
   "outputs": [
    {
     "data": {
      "text/plain": [
       "NA                                                                                                                                               825\n",
       "David Attenborough                                                                                                                                19\n",
       "Vatsal Dubey, Julie Tejwani, Rupa Bhimani, Jigna Bhardwaj, Rajesh Kava, Mousam, Swapnil                                                           14\n",
       "Samuel West                                                                                                                                       10\n",
       "Jeff Dunham                                                                                                                                        7\n",
       "                                                                                                                                                ... \n",
       "Sanjay Dutt, Arjun Kapoor, Kriti Sanon, Zeenat Aman, Mohnish Bahl, Padmini Kolhapure, Kunal Kapoor, Suhasini Mulay                                 1\n",
       "Lika Berning, Bobby van Jaarsveld, Marlee van der Merwe, Sonja Herholdt, Elize Cawood, Rouel Beukes, Kevin Leo, Paul du Toit, Sylvaine Strike      1\n",
       "Lisa Vicari, Dennis Mojen, Walid Al-Atiyat, Christina Hecke, Zoë Straub, Lisa Hagmeister, Hans-Jochen Wagner, André Eisermann, Ernst Stötzner      1\n",
       "Piotr Cyrwus, Mikołaj Kubacki, Anna Radwan, Marian Dziędziel, Jan Nowicki, Juliusz Chrząstowski, Małgorzata Krzysica, Jacek Strama                 1\n",
       "Vicky Kaushal, Sarah-Jane Dias, Raaghav Chanana, Manish Chaudhary, Meghna Malik, Malkeet Rauni, Anita Shabdish, Chittaranjan Tripathy              1\n",
       "Name: cast, Length: 7679, dtype: int64"
      ]
     },
     "execution_count": 154,
     "metadata": {},
     "output_type": "execute_result"
    }
   ],
   "source": [
    "df.cast.value_counts()"
   ]
  },
  {
   "cell_type": "markdown",
   "id": "b4e1fa3f",
   "metadata": {},
   "source": [
    "### Data is present in nested format in few cells pf cast column"
   ]
  },
  {
   "cell_type": "code",
   "execution_count": 155,
   "id": "f69557bd",
   "metadata": {},
   "outputs": [
    {
     "data": {
      "text/plain": [
       "NA                                2621\n",
       "Rajiv Chilaka                       19\n",
       "Raúl Campos, Jan Suter              18\n",
       "Suhas Kadav                         16\n",
       "Marcus Raboy                        16\n",
       "                                  ... \n",
       "Raymie Muzquiz, Stu Livingston       1\n",
       "Joe Menendez                         1\n",
       "Eric Bross                           1\n",
       "Will Eisenberg                       1\n",
       "Mozez Singh                          1\n",
       "Name: director, Length: 4527, dtype: int64"
      ]
     },
     "execution_count": 155,
     "metadata": {},
     "output_type": "execute_result"
    }
   ],
   "source": [
    "df.director.value_counts()"
   ]
  },
  {
   "cell_type": "code",
   "execution_count": 156,
   "id": "34f0c1ef",
   "metadata": {},
   "outputs": [
    {
     "data": {
      "text/plain": [
       "Dramas, International Movies                                   362\n",
       "Documentaries                                                  359\n",
       "Stand-Up Comedy                                                334\n",
       "Comedies, Dramas, International Movies                         274\n",
       "Dramas, Independent Movies, International Movies               252\n",
       "                                                              ... \n",
       "Crime TV Shows, International TV Shows, TV Sci-Fi & Fantasy      1\n",
       "International TV Shows, TV Horror, TV Sci-Fi & Fantasy           1\n",
       "Crime TV Shows, Kids' TV                                         1\n",
       "Horror Movies, International Movies, Sci-Fi & Fantasy            1\n",
       "Cult Movies, Dramas, Thrillers                                   1\n",
       "Name: listed_in, Length: 513, dtype: int64"
      ]
     },
     "execution_count": 156,
     "metadata": {},
     "output_type": "execute_result"
    }
   ],
   "source": [
    "df.listed_in.value_counts()"
   ]
  },
  {
   "cell_type": "code",
   "execution_count": 157,
   "id": "baaab365",
   "metadata": {},
   "outputs": [
    {
     "data": {
      "text/plain": [
       "United States                             2809\n",
       "India                                      972\n",
       "NA                                         829\n",
       "United Kingdom                             418\n",
       "Japan                                      243\n",
       "                                          ... \n",
       "Romania, Bulgaria, Hungary                   1\n",
       "Uruguay, Guatemala                           1\n",
       "France, Senegal, Belgium                     1\n",
       "Mexico, United States, Spain, Colombia       1\n",
       "United Arab Emirates, Jordan                 1\n",
       "Name: country, Length: 749, dtype: int64"
      ]
     },
     "execution_count": 157,
     "metadata": {},
     "output_type": "execute_result"
    }
   ],
   "source": [
    "df.country.value_counts()"
   ]
  },
  {
   "cell_type": "markdown",
   "id": "2ec9628a",
   "metadata": {},
   "source": [
    "Similar to the cast column, Data is present in nested format in few cells of Director, Country and\n",
    "Listed_in columns too. So, we need to Melt the data in these columns"
   ]
  },
  {
   "cell_type": "markdown",
   "id": "fac68b6c",
   "metadata": {},
   "source": [
    "# Melting/un-nesting data"
   ]
  },
  {
   "cell_type": "code",
   "execution_count": 158,
   "id": "b54d205a",
   "metadata": {},
   "outputs": [],
   "source": [
    "# First lets split the values in List with ','\n",
    "df_cast = df['cast'].str.split(', ',expand=True)"
   ]
  },
  {
   "cell_type": "code",
   "execution_count": 159,
   "id": "6739ecd8",
   "metadata": {},
   "outputs": [],
   "source": [
    "df_cast.columns = ['cast-' + str(x) for x in range(1, df_cast.shape[1]+1)]"
   ]
  },
  {
   "cell_type": "code",
   "execution_count": 160,
   "id": "05467a79",
   "metadata": {},
   "outputs": [
    {
     "data": {
      "text/html": [
       "<div>\n",
       "<style scoped>\n",
       "    .dataframe tbody tr th:only-of-type {\n",
       "        vertical-align: middle;\n",
       "    }\n",
       "\n",
       "    .dataframe tbody tr th {\n",
       "        vertical-align: top;\n",
       "    }\n",
       "\n",
       "    .dataframe thead th {\n",
       "        text-align: right;\n",
       "    }\n",
       "</style>\n",
       "<table border=\"1\" class=\"dataframe\">\n",
       "  <thead>\n",
       "    <tr style=\"text-align: right;\">\n",
       "      <th></th>\n",
       "      <th>cast-1</th>\n",
       "      <th>cast-2</th>\n",
       "      <th>cast-3</th>\n",
       "      <th>cast-4</th>\n",
       "      <th>cast-5</th>\n",
       "      <th>cast-6</th>\n",
       "      <th>cast-7</th>\n",
       "      <th>cast-8</th>\n",
       "      <th>cast-9</th>\n",
       "      <th>cast-10</th>\n",
       "      <th>...</th>\n",
       "      <th>cast-41</th>\n",
       "      <th>cast-42</th>\n",
       "      <th>cast-43</th>\n",
       "      <th>cast-44</th>\n",
       "      <th>cast-45</th>\n",
       "      <th>cast-46</th>\n",
       "      <th>cast-47</th>\n",
       "      <th>cast-48</th>\n",
       "      <th>cast-49</th>\n",
       "      <th>cast-50</th>\n",
       "    </tr>\n",
       "  </thead>\n",
       "  <tbody>\n",
       "    <tr>\n",
       "      <th>0</th>\n",
       "      <td>NA</td>\n",
       "      <td>None</td>\n",
       "      <td>None</td>\n",
       "      <td>None</td>\n",
       "      <td>None</td>\n",
       "      <td>None</td>\n",
       "      <td>None</td>\n",
       "      <td>None</td>\n",
       "      <td>None</td>\n",
       "      <td>None</td>\n",
       "      <td>...</td>\n",
       "      <td>None</td>\n",
       "      <td>None</td>\n",
       "      <td>None</td>\n",
       "      <td>None</td>\n",
       "      <td>None</td>\n",
       "      <td>None</td>\n",
       "      <td>None</td>\n",
       "      <td>None</td>\n",
       "      <td>None</td>\n",
       "      <td>None</td>\n",
       "    </tr>\n",
       "    <tr>\n",
       "      <th>1</th>\n",
       "      <td>Ama Qamata</td>\n",
       "      <td>Khosi Ngema</td>\n",
       "      <td>Gail Mabalane</td>\n",
       "      <td>Thabang Molaba</td>\n",
       "      <td>Dillon Windvogel</td>\n",
       "      <td>Natasha Thahane</td>\n",
       "      <td>Arno Greeff</td>\n",
       "      <td>Xolile Tshabalala</td>\n",
       "      <td>Getmore Sithole</td>\n",
       "      <td>Cindy Mahlangu</td>\n",
       "      <td>...</td>\n",
       "      <td>None</td>\n",
       "      <td>None</td>\n",
       "      <td>None</td>\n",
       "      <td>None</td>\n",
       "      <td>None</td>\n",
       "      <td>None</td>\n",
       "      <td>None</td>\n",
       "      <td>None</td>\n",
       "      <td>None</td>\n",
       "      <td>None</td>\n",
       "    </tr>\n",
       "    <tr>\n",
       "      <th>2</th>\n",
       "      <td>Sami Bouajila</td>\n",
       "      <td>Tracy Gotoas</td>\n",
       "      <td>Samuel Jouy</td>\n",
       "      <td>Nabiha Akkari</td>\n",
       "      <td>Sofia Lesaffre</td>\n",
       "      <td>Salim Kechiouche</td>\n",
       "      <td>Noureddine Farihi</td>\n",
       "      <td>Geert Van Rampelberg</td>\n",
       "      <td>Bakary Diombera</td>\n",
       "      <td>None</td>\n",
       "      <td>...</td>\n",
       "      <td>None</td>\n",
       "      <td>None</td>\n",
       "      <td>None</td>\n",
       "      <td>None</td>\n",
       "      <td>None</td>\n",
       "      <td>None</td>\n",
       "      <td>None</td>\n",
       "      <td>None</td>\n",
       "      <td>None</td>\n",
       "      <td>None</td>\n",
       "    </tr>\n",
       "    <tr>\n",
       "      <th>3</th>\n",
       "      <td>NA</td>\n",
       "      <td>None</td>\n",
       "      <td>None</td>\n",
       "      <td>None</td>\n",
       "      <td>None</td>\n",
       "      <td>None</td>\n",
       "      <td>None</td>\n",
       "      <td>None</td>\n",
       "      <td>None</td>\n",
       "      <td>None</td>\n",
       "      <td>...</td>\n",
       "      <td>None</td>\n",
       "      <td>None</td>\n",
       "      <td>None</td>\n",
       "      <td>None</td>\n",
       "      <td>None</td>\n",
       "      <td>None</td>\n",
       "      <td>None</td>\n",
       "      <td>None</td>\n",
       "      <td>None</td>\n",
       "      <td>None</td>\n",
       "    </tr>\n",
       "    <tr>\n",
       "      <th>4</th>\n",
       "      <td>Mayur More</td>\n",
       "      <td>Jitendra Kumar</td>\n",
       "      <td>Ranjan Raj</td>\n",
       "      <td>Alam Khan</td>\n",
       "      <td>Ahsaas Channa</td>\n",
       "      <td>Revathi Pillai</td>\n",
       "      <td>Urvi Singh</td>\n",
       "      <td>Arun Kumar</td>\n",
       "      <td>None</td>\n",
       "      <td>None</td>\n",
       "      <td>...</td>\n",
       "      <td>None</td>\n",
       "      <td>None</td>\n",
       "      <td>None</td>\n",
       "      <td>None</td>\n",
       "      <td>None</td>\n",
       "      <td>None</td>\n",
       "      <td>None</td>\n",
       "      <td>None</td>\n",
       "      <td>None</td>\n",
       "      <td>None</td>\n",
       "    </tr>\n",
       "  </tbody>\n",
       "</table>\n",
       "<p>5 rows × 50 columns</p>\n",
       "</div>"
      ],
      "text/plain": [
       "          cast-1          cast-2         cast-3          cast-4  \\\n",
       "0             NA            None           None            None   \n",
       "1     Ama Qamata     Khosi Ngema  Gail Mabalane  Thabang Molaba   \n",
       "2  Sami Bouajila    Tracy Gotoas    Samuel Jouy   Nabiha Akkari   \n",
       "3             NA            None           None            None   \n",
       "4     Mayur More  Jitendra Kumar     Ranjan Raj       Alam Khan   \n",
       "\n",
       "             cast-5            cast-6             cast-7  \\\n",
       "0              None              None               None   \n",
       "1  Dillon Windvogel   Natasha Thahane        Arno Greeff   \n",
       "2    Sofia Lesaffre  Salim Kechiouche  Noureddine Farihi   \n",
       "3              None              None               None   \n",
       "4     Ahsaas Channa    Revathi Pillai         Urvi Singh   \n",
       "\n",
       "                 cast-8           cast-9         cast-10  ... cast-41 cast-42  \\\n",
       "0                  None             None            None  ...    None    None   \n",
       "1     Xolile Tshabalala  Getmore Sithole  Cindy Mahlangu  ...    None    None   \n",
       "2  Geert Van Rampelberg  Bakary Diombera            None  ...    None    None   \n",
       "3                  None             None            None  ...    None    None   \n",
       "4            Arun Kumar             None            None  ...    None    None   \n",
       "\n",
       "  cast-43 cast-44 cast-45 cast-46 cast-47 cast-48 cast-49 cast-50  \n",
       "0    None    None    None    None    None    None    None    None  \n",
       "1    None    None    None    None    None    None    None    None  \n",
       "2    None    None    None    None    None    None    None    None  \n",
       "3    None    None    None    None    None    None    None    None  \n",
       "4    None    None    None    None    None    None    None    None  \n",
       "\n",
       "[5 rows x 50 columns]"
      ]
     },
     "execution_count": 160,
     "metadata": {},
     "output_type": "execute_result"
    }
   ],
   "source": [
    "df_cast.head()"
   ]
  },
  {
   "cell_type": "code",
   "execution_count": 161,
   "id": "d5ebb88c",
   "metadata": {},
   "outputs": [],
   "source": [
    "# Lets do the same for other three columns where data is in nested format\n"
   ]
  },
  {
   "cell_type": "code",
   "execution_count": 162,
   "id": "970cfb97",
   "metadata": {},
   "outputs": [
    {
     "name": "stdout",
     "output_type": "stream",
     "text": [
      "Director Columns: Index(['director-1', 'director-2', 'director-3', 'director-4', 'director-5',\n",
      "       'director-6', 'director-7', 'director-8', 'director-9', 'director-10',\n",
      "       'director-11', 'director-12', 'director-13'],\n",
      "      dtype='object')\n",
      "**************************************************\n",
      "Country Columns: Index(['country-1', 'country-2', 'country-3', 'country-4', 'country-5',\n",
      "       'country-6', 'country-7', 'country-8', 'country-9', 'country-10',\n",
      "       'country-11', 'country-12'],\n",
      "      dtype='object')\n",
      "**************************************************\n",
      "Listed_In columns: Index(['listed_in-1', 'listed_in-2', 'listed_in-3'], dtype='object')\n"
     ]
    }
   ],
   "source": [
    "#director\n",
    "df_director = df['director'].str.split(', ', expand=True)\n",
    "\n",
    "# Renaming the columns of the new DataFrame\n",
    "df_director.columns = ['director-' + str(x) for x in range(1, df_director.shape[1]+1)]\n",
    "\n",
    "# Printing the column names of the new DataFrame\n",
    "print(\"Director Columns:\", df_director.columns)\n",
    "\n",
    "#country\n",
    "df_country = df[ 'country'].str.split(', ',expand = True)\n",
    "df\n",
    "df_country.columns = ['country-' + str(x) for x in range(1, df_country.shape[1]+1)]\n",
    "print('*'*50)\n",
    "\n",
    "# Printing the column names of the DataFrame 'df_country'\n",
    "print(\"Country Columns:\", df_country.columns)\n",
    "\n",
    "# Splitting the 'listed_in' column by ', ' and expanding it into separate columns\n",
    "df_listed_in = df['listed_in'].str.split(', ', expand=True)\n",
    "\n",
    "# Renaming the columns of the new DataFrame\n",
    "df_listed_in.columns = ['listed_in-' + str(x) for x in range(1, df_listed_in.shape[1]+1)]\n",
    "\n",
    "# Printing separator\n",
    "print('*' * 50)\n",
    "\n",
    "# Printing the column names of the new DataFrame 'df_listed_in'\n",
    "print(\"Listed_In columns:\", df_listed_in.columns)\n"
   ]
  },
  {
   "cell_type": "code",
   "execution_count": 163,
   "id": "52427c9f",
   "metadata": {},
   "outputs": [
    {
     "name": "stdout",
     "output_type": "stream",
     "text": [
      "(8790, 78)\n"
     ]
    }
   ],
   "source": [
    "## Concat these individual dataframes so that we can concat the all these dataframes\n",
    "df_new = pd.concat([df_cast,df_director,df_country,df_listed_in],axis=1)\n",
    "df_new.head()\n",
    "print(df_new.shape)"
   ]
  },
  {
   "cell_type": "code",
   "execution_count": 164,
   "id": "afd93db7",
   "metadata": {},
   "outputs": [
    {
     "name": "stdout",
     "output_type": "stream",
     "text": [
      "(8790, 90)\n"
     ]
    },
    {
     "data": {
      "text/html": [
       "<div>\n",
       "<style scoped>\n",
       "    .dataframe tbody tr th:only-of-type {\n",
       "        vertical-align: middle;\n",
       "    }\n",
       "\n",
       "    .dataframe tbody tr th {\n",
       "        vertical-align: top;\n",
       "    }\n",
       "\n",
       "    .dataframe thead th {\n",
       "        text-align: right;\n",
       "    }\n",
       "</style>\n",
       "<table border=\"1\" class=\"dataframe\">\n",
       "  <thead>\n",
       "    <tr style=\"text-align: right;\">\n",
       "      <th></th>\n",
       "      <th>show_id</th>\n",
       "      <th>type</th>\n",
       "      <th>title</th>\n",
       "      <th>director</th>\n",
       "      <th>cast</th>\n",
       "      <th>country</th>\n",
       "      <th>date_added</th>\n",
       "      <th>release_year</th>\n",
       "      <th>rating</th>\n",
       "      <th>duration</th>\n",
       "      <th>...</th>\n",
       "      <th>country-6</th>\n",
       "      <th>country-7</th>\n",
       "      <th>country-8</th>\n",
       "      <th>country-9</th>\n",
       "      <th>country-10</th>\n",
       "      <th>country-11</th>\n",
       "      <th>country-12</th>\n",
       "      <th>listed_in-1</th>\n",
       "      <th>listed_in-2</th>\n",
       "      <th>listed_in-3</th>\n",
       "    </tr>\n",
       "  </thead>\n",
       "  <tbody>\n",
       "    <tr>\n",
       "      <th>0</th>\n",
       "      <td>s1</td>\n",
       "      <td>Movie</td>\n",
       "      <td>Dick Johnson Is Dead</td>\n",
       "      <td>Kirsten Johnson</td>\n",
       "      <td>NA</td>\n",
       "      <td>United States</td>\n",
       "      <td>2021-09-25</td>\n",
       "      <td>2020</td>\n",
       "      <td>PG-13</td>\n",
       "      <td>90 min</td>\n",
       "      <td>...</td>\n",
       "      <td>None</td>\n",
       "      <td>None</td>\n",
       "      <td>None</td>\n",
       "      <td>None</td>\n",
       "      <td>None</td>\n",
       "      <td>None</td>\n",
       "      <td>None</td>\n",
       "      <td>Documentaries</td>\n",
       "      <td>None</td>\n",
       "      <td>None</td>\n",
       "    </tr>\n",
       "    <tr>\n",
       "      <th>1</th>\n",
       "      <td>s2</td>\n",
       "      <td>TV Show</td>\n",
       "      <td>Blood &amp; Water</td>\n",
       "      <td>NA</td>\n",
       "      <td>Ama Qamata, Khosi Ngema, Gail Mabalane, Thaban...</td>\n",
       "      <td>South Africa</td>\n",
       "      <td>2021-09-24</td>\n",
       "      <td>2021</td>\n",
       "      <td>TV-MA</td>\n",
       "      <td>2 Seasons</td>\n",
       "      <td>...</td>\n",
       "      <td>None</td>\n",
       "      <td>None</td>\n",
       "      <td>None</td>\n",
       "      <td>None</td>\n",
       "      <td>None</td>\n",
       "      <td>None</td>\n",
       "      <td>None</td>\n",
       "      <td>International TV Shows</td>\n",
       "      <td>TV Dramas</td>\n",
       "      <td>TV Mysteries</td>\n",
       "    </tr>\n",
       "    <tr>\n",
       "      <th>2</th>\n",
       "      <td>s3</td>\n",
       "      <td>TV Show</td>\n",
       "      <td>Ganglands</td>\n",
       "      <td>Julien Leclercq</td>\n",
       "      <td>Sami Bouajila, Tracy Gotoas, Samuel Jouy, Nabi...</td>\n",
       "      <td>NA</td>\n",
       "      <td>2021-09-24</td>\n",
       "      <td>2021</td>\n",
       "      <td>TV-MA</td>\n",
       "      <td>1 Season</td>\n",
       "      <td>...</td>\n",
       "      <td>None</td>\n",
       "      <td>None</td>\n",
       "      <td>None</td>\n",
       "      <td>None</td>\n",
       "      <td>None</td>\n",
       "      <td>None</td>\n",
       "      <td>None</td>\n",
       "      <td>Crime TV Shows</td>\n",
       "      <td>International TV Shows</td>\n",
       "      <td>TV Action &amp; Adventure</td>\n",
       "    </tr>\n",
       "    <tr>\n",
       "      <th>3</th>\n",
       "      <td>s4</td>\n",
       "      <td>TV Show</td>\n",
       "      <td>Jailbirds New Orleans</td>\n",
       "      <td>NA</td>\n",
       "      <td>NA</td>\n",
       "      <td>NA</td>\n",
       "      <td>2021-09-24</td>\n",
       "      <td>2021</td>\n",
       "      <td>TV-MA</td>\n",
       "      <td>1 Season</td>\n",
       "      <td>...</td>\n",
       "      <td>None</td>\n",
       "      <td>None</td>\n",
       "      <td>None</td>\n",
       "      <td>None</td>\n",
       "      <td>None</td>\n",
       "      <td>None</td>\n",
       "      <td>None</td>\n",
       "      <td>Docuseries</td>\n",
       "      <td>Reality TV</td>\n",
       "      <td>None</td>\n",
       "    </tr>\n",
       "    <tr>\n",
       "      <th>4</th>\n",
       "      <td>s5</td>\n",
       "      <td>TV Show</td>\n",
       "      <td>Kota Factory</td>\n",
       "      <td>NA</td>\n",
       "      <td>Mayur More, Jitendra Kumar, Ranjan Raj, Alam K...</td>\n",
       "      <td>India</td>\n",
       "      <td>2021-09-24</td>\n",
       "      <td>2021</td>\n",
       "      <td>TV-MA</td>\n",
       "      <td>2 Seasons</td>\n",
       "      <td>...</td>\n",
       "      <td>None</td>\n",
       "      <td>None</td>\n",
       "      <td>None</td>\n",
       "      <td>None</td>\n",
       "      <td>None</td>\n",
       "      <td>None</td>\n",
       "      <td>None</td>\n",
       "      <td>International TV Shows</td>\n",
       "      <td>Romantic TV Shows</td>\n",
       "      <td>TV Comedies</td>\n",
       "    </tr>\n",
       "  </tbody>\n",
       "</table>\n",
       "<p>5 rows × 90 columns</p>\n",
       "</div>"
      ],
      "text/plain": [
       "  show_id     type                  title         director  \\\n",
       "0      s1    Movie   Dick Johnson Is Dead  Kirsten Johnson   \n",
       "1      s2  TV Show          Blood & Water               NA   \n",
       "2      s3  TV Show              Ganglands  Julien Leclercq   \n",
       "3      s4  TV Show  Jailbirds New Orleans               NA   \n",
       "4      s5  TV Show           Kota Factory               NA   \n",
       "\n",
       "                                                cast        country  \\\n",
       "0                                                 NA  United States   \n",
       "1  Ama Qamata, Khosi Ngema, Gail Mabalane, Thaban...   South Africa   \n",
       "2  Sami Bouajila, Tracy Gotoas, Samuel Jouy, Nabi...             NA   \n",
       "3                                                 NA             NA   \n",
       "4  Mayur More, Jitendra Kumar, Ranjan Raj, Alam K...          India   \n",
       "\n",
       "  date_added release_year rating   duration  ... country-6 country-7  \\\n",
       "0 2021-09-25         2020  PG-13     90 min  ...      None      None   \n",
       "1 2021-09-24         2021  TV-MA  2 Seasons  ...      None      None   \n",
       "2 2021-09-24         2021  TV-MA   1 Season  ...      None      None   \n",
       "3 2021-09-24         2021  TV-MA   1 Season  ...      None      None   \n",
       "4 2021-09-24         2021  TV-MA  2 Seasons  ...      None      None   \n",
       "\n",
       "  country-8 country-9 country-10 country-11 country-12  \\\n",
       "0      None      None       None       None       None   \n",
       "1      None      None       None       None       None   \n",
       "2      None      None       None       None       None   \n",
       "3      None      None       None       None       None   \n",
       "4      None      None       None       None       None   \n",
       "\n",
       "              listed_in-1             listed_in-2            listed_in-3  \n",
       "0           Documentaries                    None                   None  \n",
       "1  International TV Shows               TV Dramas           TV Mysteries  \n",
       "2          Crime TV Shows  International TV Shows  TV Action & Adventure  \n",
       "3              Docuseries              Reality TV                   None  \n",
       "4  International TV Shows       Romantic TV Shows            TV Comedies  \n",
       "\n",
       "[5 rows x 90 columns]"
      ]
     },
     "execution_count": 164,
     "metadata": {},
     "output_type": "execute_result"
    }
   ],
   "source": [
    "# Concat this dataframe to the original dataframe\n",
    "df = pd. concat([df,df_new], axis=1)\n",
    "print(df. shape) # before dropping the columns\n",
    "df.head()"
   ]
  },
  {
   "cell_type": "code",
   "execution_count": 165,
   "id": "a062cd2e",
   "metadata": {},
   "outputs": [
    {
     "data": {
      "text/plain": [
       "(8790, 86)"
      ]
     },
     "execution_count": 165,
     "metadata": {},
     "output_type": "execute_result"
    }
   ],
   "source": [
    "# Drop the columns with nested data\n",
    "df.drop(columns = ['cast', 'country', 'director', 'listed_in'], axis=1, inplace =True)\n",
    "df.shape"
   ]
  },
  {
   "cell_type": "code",
   "execution_count": 166,
   "id": "212ffa4c",
   "metadata": {},
   "outputs": [
    {
     "name": "stdout",
     "output_type": "stream",
     "text": [
      "(439500, 38)\n"
     ]
    }
   ],
   "source": [
    "mandate_cols = [i for i in df. columns if 'cast' not in i] # Columns other than cast ar\n",
    "df = df.melt(id_vars = mandate_cols, var_name = 'cast-x', value_name = 'cast')\n",
    "print(df. shape)"
   ]
  },
  {
   "cell_type": "code",
   "execution_count": 167,
   "id": "cb04fabe",
   "metadata": {},
   "outputs": [
    {
     "name": "stdout",
     "output_type": "stream",
     "text": [
      "(439500, 38)\n",
      "(64841, 37)\n"
     ]
    }
   ],
   "source": [
    "#Dropping the records with NA in cast and also dropping the 'cast-x' column as we don\n",
    "print(df. shape) # Before dropping null values\n",
    "df = df.loc[~df['cast' ].isna(), :].reset_index(drop=True)\n",
    "df.drop(['cast-x'],axis=1,inplace=True)\n",
    "print(df. shape)# after dropping null values"
   ]
  },
  {
   "cell_type": "markdown",
   "id": "9d9ba997",
   "metadata": {},
   "source": [
    "### Melting the Director coloumn"
   ]
  },
  {
   "cell_type": "code",
   "execution_count": 168,
   "id": "6fc8a419",
   "metadata": {},
   "outputs": [
    {
     "name": "stdout",
     "output_type": "stream",
     "text": [
      "(842933, 26)\n"
     ]
    }
   ],
   "source": [
    "mandate_cols = [i for i in df.columns if 'director' not in i] # Columns other than dir\n",
    "df = df.melt(id_vars= mandate_cols, var_name = 'director-x', value_name = 'director')\n",
    "print (df. shape)"
   ]
  },
  {
   "cell_type": "code",
   "execution_count": 169,
   "id": "3fea770c",
   "metadata": {},
   "outputs": [
    {
     "name": "stdout",
     "output_type": "stream",
     "text": [
      "(842933, 26)\n",
      "(70702, 25)\n"
     ]
    }
   ],
   "source": [
    "#Dropping the records with NA in cast and also dropping the 'director-x' column as we\n",
    "print(df.shape) # before Dropping Null Values\n",
    "df = df.loc[~df[ 'director']. isna(), :].reset_index(drop=True)\n",
    "df.drop(['director-x'],axis=1,inplace=True)\n",
    "print(df.shape) # after dropping null values"
   ]
  },
  {
   "cell_type": "markdown",
   "id": "c78f8cb9",
   "metadata": {},
   "source": [
    "### Melting the country column"
   ]
  },
  {
   "cell_type": "code",
   "execution_count": 170,
   "id": "59ba5129",
   "metadata": {},
   "outputs": [
    {
     "name": "stdout",
     "output_type": "stream",
     "text": [
      "(848424, 15)\n"
     ]
    }
   ],
   "source": [
    "mandate_cols = [i for i in df.columns if 'country' not in i]\n",
    "df = df.melt(id_vars = mandate_cols, var_name = 'country-x', value_name = 'country')\n",
    "print(df. shape)"
   ]
  },
  {
   "cell_type": "code",
   "execution_count": 171,
   "id": "759e96c5",
   "metadata": {},
   "outputs": [
    {
     "name": "stdout",
     "output_type": "stream",
     "text": [
      "(848424, 15)\n",
      "(89272, 14)\n"
     ]
    }
   ],
   "source": [
    "#Dropping the records with NA in cast and also dropping the 'country-x' column as we c\n",
    "print(df.shape) # Before Dropping Null Values\n",
    "df = df. loc[~df['country'].isna(), :].reset_index(drop=True)\n",
    "df.drop(['country-x'],axis=1, inplace=True)\n",
    "print(df.shape)# After dropping Null Values"
   ]
  },
  {
   "cell_type": "markdown",
   "id": "ce5c75bd",
   "metadata": {},
   "source": [
    "### Melting the listed-in coloumn"
   ]
  },
  {
   "cell_type": "code",
   "execution_count": 172,
   "id": "8f09c6c8",
   "metadata": {},
   "outputs": [
    {
     "name": "stdout",
     "output_type": "stream",
     "text": [
      "(267816, 13)\n"
     ]
    }
   ],
   "source": [
    "mandate_cols = [i for i in df.columns if 'listed' not in i]\n",
    "df = df.melt(id_vars = mandate_cols, var_name = 'listed_in-x', value_name = 'listed_in')\n",
    "print(df. shape)\n"
   ]
  },
  {
   "cell_type": "code",
   "execution_count": 173,
   "id": "6bdf89f8",
   "metadata": {},
   "outputs": [
    {
     "name": "stdout",
     "output_type": "stream",
     "text": [
      "(267816, 13)\n"
     ]
    }
   ],
   "source": [
    "#Dropping the records with NA in cast and also dropping the 'Listed_in-x' column as we\n",
    "print(df.shape) #before dropping Null values\n",
    "df = df.loc[~df[ 'listed_in'].isna(), :].reset_index(drop=True)"
   ]
  },
  {
   "cell_type": "code",
   "execution_count": 174,
   "id": "29c9b577",
   "metadata": {},
   "outputs": [
    {
     "name": "stdout",
     "output_type": "stream",
     "text": [
      "(201763, 12)\n"
     ]
    }
   ],
   "source": [
    "df. drop(['listed_in-x'], axis=1, inplace=True)\n",
    "print(df.shape) # After Dropping Null Values"
   ]
  },
  {
   "cell_type": "code",
   "execution_count": 175,
   "id": "f30f4c05",
   "metadata": {},
   "outputs": [
    {
     "data": {
      "text/html": [
       "<div>\n",
       "<style scoped>\n",
       "    .dataframe tbody tr th:only-of-type {\n",
       "        vertical-align: middle;\n",
       "    }\n",
       "\n",
       "    .dataframe tbody tr th {\n",
       "        vertical-align: top;\n",
       "    }\n",
       "\n",
       "    .dataframe thead th {\n",
       "        text-align: right;\n",
       "    }\n",
       "</style>\n",
       "<table border=\"1\" class=\"dataframe\">\n",
       "  <thead>\n",
       "    <tr style=\"text-align: right;\">\n",
       "      <th></th>\n",
       "      <th>show_id</th>\n",
       "      <th>type</th>\n",
       "      <th>title</th>\n",
       "      <th>date_added</th>\n",
       "      <th>release_year</th>\n",
       "      <th>rating</th>\n",
       "      <th>duration</th>\n",
       "      <th>description</th>\n",
       "      <th>cast</th>\n",
       "      <th>director</th>\n",
       "      <th>country</th>\n",
       "      <th>listed_in</th>\n",
       "    </tr>\n",
       "  </thead>\n",
       "  <tbody>\n",
       "    <tr>\n",
       "      <th>0</th>\n",
       "      <td>s1</td>\n",
       "      <td>Movie</td>\n",
       "      <td>Dick Johnson Is Dead</td>\n",
       "      <td>2021-09-25</td>\n",
       "      <td>2020</td>\n",
       "      <td>PG-13</td>\n",
       "      <td>90 min</td>\n",
       "      <td>As her father nears the end of his life, filmm...</td>\n",
       "      <td>NA</td>\n",
       "      <td>Kirsten Johnson</td>\n",
       "      <td>United States</td>\n",
       "      <td>Documentaries</td>\n",
       "    </tr>\n",
       "    <tr>\n",
       "      <th>1</th>\n",
       "      <td>s2</td>\n",
       "      <td>TV Show</td>\n",
       "      <td>Blood &amp; Water</td>\n",
       "      <td>2021-09-24</td>\n",
       "      <td>2021</td>\n",
       "      <td>TV-MA</td>\n",
       "      <td>2 Seasons</td>\n",
       "      <td>After crossing paths at a party, a Cape Town t...</td>\n",
       "      <td>Ama Qamata</td>\n",
       "      <td>NA</td>\n",
       "      <td>South Africa</td>\n",
       "      <td>International TV Shows</td>\n",
       "    </tr>\n",
       "    <tr>\n",
       "      <th>2</th>\n",
       "      <td>s3</td>\n",
       "      <td>TV Show</td>\n",
       "      <td>Ganglands</td>\n",
       "      <td>2021-09-24</td>\n",
       "      <td>2021</td>\n",
       "      <td>TV-MA</td>\n",
       "      <td>1 Season</td>\n",
       "      <td>To protect his family from a powerful drug lor...</td>\n",
       "      <td>Sami Bouajila</td>\n",
       "      <td>Julien Leclercq</td>\n",
       "      <td>NA</td>\n",
       "      <td>Crime TV Shows</td>\n",
       "    </tr>\n",
       "    <tr>\n",
       "      <th>3</th>\n",
       "      <td>s4</td>\n",
       "      <td>TV Show</td>\n",
       "      <td>Jailbirds New Orleans</td>\n",
       "      <td>2021-09-24</td>\n",
       "      <td>2021</td>\n",
       "      <td>TV-MA</td>\n",
       "      <td>1 Season</td>\n",
       "      <td>Feuds, flirtations and toilet talk go down amo...</td>\n",
       "      <td>NA</td>\n",
       "      <td>NA</td>\n",
       "      <td>NA</td>\n",
       "      <td>Docuseries</td>\n",
       "    </tr>\n",
       "    <tr>\n",
       "      <th>4</th>\n",
       "      <td>s5</td>\n",
       "      <td>TV Show</td>\n",
       "      <td>Kota Factory</td>\n",
       "      <td>2021-09-24</td>\n",
       "      <td>2021</td>\n",
       "      <td>TV-MA</td>\n",
       "      <td>2 Seasons</td>\n",
       "      <td>In a city of coaching centers known to train I...</td>\n",
       "      <td>Mayur More</td>\n",
       "      <td>NA</td>\n",
       "      <td>India</td>\n",
       "      <td>International TV Shows</td>\n",
       "    </tr>\n",
       "  </tbody>\n",
       "</table>\n",
       "</div>"
      ],
      "text/plain": [
       "  show_id     type                  title date_added release_year rating  \\\n",
       "0      s1    Movie   Dick Johnson Is Dead 2021-09-25         2020  PG-13   \n",
       "1      s2  TV Show          Blood & Water 2021-09-24         2021  TV-MA   \n",
       "2      s3  TV Show              Ganglands 2021-09-24         2021  TV-MA   \n",
       "3      s4  TV Show  Jailbirds New Orleans 2021-09-24         2021  TV-MA   \n",
       "4      s5  TV Show           Kota Factory 2021-09-24         2021  TV-MA   \n",
       "\n",
       "    duration                                        description  \\\n",
       "0     90 min  As her father nears the end of his life, filmm...   \n",
       "1  2 Seasons  After crossing paths at a party, a Cape Town t...   \n",
       "2   1 Season  To protect his family from a powerful drug lor...   \n",
       "3   1 Season  Feuds, flirtations and toilet talk go down amo...   \n",
       "4  2 Seasons  In a city of coaching centers known to train I...   \n",
       "\n",
       "            cast         director        country               listed_in  \n",
       "0             NA  Kirsten Johnson  United States           Documentaries  \n",
       "1     Ama Qamata               NA   South Africa  International TV Shows  \n",
       "2  Sami Bouajila  Julien Leclercq             NA          Crime TV Shows  \n",
       "3             NA               NA             NA              Docuseries  \n",
       "4     Mayur More               NA          India  International TV Shows  "
      ]
     },
     "execution_count": 175,
     "metadata": {},
     "output_type": "execute_result"
    }
   ],
   "source": [
    "df.head()"
   ]
  },
  {
   "cell_type": "code",
   "execution_count": 176,
   "id": "c8a4eb3f",
   "metadata": {},
   "outputs": [
    {
     "name": "stdout",
     "output_type": "stream",
     "text": [
      "<class 'pandas.core.frame.DataFrame'>\n",
      "RangeIndex: 201763 entries, 0 to 201762\n",
      "Data columns (total 12 columns):\n",
      " #   Column        Non-Null Count   Dtype         \n",
      "---  ------        --------------   -----         \n",
      " 0   show_id       201763 non-null  object        \n",
      " 1   type          201763 non-null  object        \n",
      " 2   title         201763 non-null  object        \n",
      " 3   date_added    201763 non-null  datetime64[ns]\n",
      " 4   release_year  201763 non-null  object        \n",
      " 5   rating        201763 non-null  object        \n",
      " 6   duration      201763 non-null  object        \n",
      " 7   description   201763 non-null  object        \n",
      " 8   cast          201763 non-null  object        \n",
      " 9   director      201763 non-null  object        \n",
      " 10  country       201763 non-null  object        \n",
      " 11  listed_in     201763 non-null  object        \n",
      "dtypes: datetime64[ns](1), object(11)\n",
      "memory usage: 18.5+ MB\n"
     ]
    }
   ],
   "source": [
    "df.info()"
   ]
  },
  {
   "cell_type": "code",
   "execution_count": 177,
   "id": "da542f24",
   "metadata": {},
   "outputs": [
    {
     "data": {
      "text/plain": [
       "Index(['show_id', 'type', 'title', 'date_added', 'release_year', 'rating',\n",
       "       'duration', 'description', 'cast', 'director', 'country', 'listed_in'],\n",
       "      dtype='object')"
      ]
     },
     "execution_count": 177,
     "metadata": {},
     "output_type": "execute_result"
    }
   ],
   "source": [
    "df.columns"
   ]
  },
  {
   "cell_type": "code",
   "execution_count": 178,
   "id": "75b2c422",
   "metadata": {},
   "outputs": [
    {
     "data": {
      "text/plain": [
       "show_id         0\n",
       "type            0\n",
       "title           0\n",
       "date_added      0\n",
       "release_year    0\n",
       "rating          0\n",
       "duration        0\n",
       "description     0\n",
       "cast            0\n",
       "director        0\n",
       "country         0\n",
       "listed_in       0\n",
       "dtype: int64"
      ]
     },
     "execution_count": 178,
     "metadata": {},
     "output_type": "execute_result"
    }
   ],
   "source": [
    "df.isna().sum()"
   ]
  },
  {
   "cell_type": "markdown",
   "id": "b6e320ef",
   "metadata": {},
   "source": [
    "#### No null values are present now."
   ]
  },
  {
   "cell_type": "markdown",
   "id": "393bf2fb",
   "metadata": {},
   "source": [
    "## Other Necessary steps"
   ]
  },
  {
   "cell_type": "code",
   "execution_count": 179,
   "id": "e14d636b",
   "metadata": {},
   "outputs": [
    {
     "data": {
      "text/plain": [
       "(201763, 11)"
      ]
     },
     "execution_count": 179,
     "metadata": {},
     "output_type": "execute_result"
    }
   ],
   "source": [
    "# We don't need the description column, so Lets drop it\n",
    "df.drop(['description'], axis=1, inplace=True)\n",
    "df. shape"
   ]
  },
  {
   "cell_type": "code",
   "execution_count": 180,
   "id": "6124cdc4",
   "metadata": {},
   "outputs": [],
   "source": [
    "# Drop Duplicates if there are any\n",
    "df. drop_duplicates (inplace= True)"
   ]
  },
  {
   "cell_type": "code",
   "execution_count": 181,
   "id": "2e7ee601",
   "metadata": {},
   "outputs": [
    {
     "name": "stdout",
     "output_type": "stream",
     "text": [
      "(201708, 14)\n"
     ]
    },
    {
     "data": {
      "text/html": [
       "<div>\n",
       "<style scoped>\n",
       "    .dataframe tbody tr th:only-of-type {\n",
       "        vertical-align: middle;\n",
       "    }\n",
       "\n",
       "    .dataframe tbody tr th {\n",
       "        vertical-align: top;\n",
       "    }\n",
       "\n",
       "    .dataframe thead th {\n",
       "        text-align: right;\n",
       "    }\n",
       "</style>\n",
       "<table border=\"1\" class=\"dataframe\">\n",
       "  <thead>\n",
       "    <tr style=\"text-align: right;\">\n",
       "      <th></th>\n",
       "      <th>show_id</th>\n",
       "      <th>type</th>\n",
       "      <th>title</th>\n",
       "      <th>date_added</th>\n",
       "      <th>release_year</th>\n",
       "      <th>rating</th>\n",
       "      <th>duration</th>\n",
       "      <th>cast</th>\n",
       "      <th>director</th>\n",
       "      <th>country</th>\n",
       "      <th>listed_in</th>\n",
       "      <th>month_added</th>\n",
       "      <th>month_name</th>\n",
       "      <th>year_added</th>\n",
       "    </tr>\n",
       "  </thead>\n",
       "  <tbody>\n",
       "    <tr>\n",
       "      <th>0</th>\n",
       "      <td>s1</td>\n",
       "      <td>Movie</td>\n",
       "      <td>Dick Johnson Is Dead</td>\n",
       "      <td>2021-09-25</td>\n",
       "      <td>2020</td>\n",
       "      <td>PG-13</td>\n",
       "      <td>90 min</td>\n",
       "      <td>NA</td>\n",
       "      <td>Kirsten Johnson</td>\n",
       "      <td>United States</td>\n",
       "      <td>Documentaries</td>\n",
       "      <td>9</td>\n",
       "      <td>September</td>\n",
       "      <td>2021</td>\n",
       "    </tr>\n",
       "    <tr>\n",
       "      <th>1</th>\n",
       "      <td>s2</td>\n",
       "      <td>TV Show</td>\n",
       "      <td>Blood &amp; Water</td>\n",
       "      <td>2021-09-24</td>\n",
       "      <td>2021</td>\n",
       "      <td>TV-MA</td>\n",
       "      <td>2 Seasons</td>\n",
       "      <td>Ama Qamata</td>\n",
       "      <td>NA</td>\n",
       "      <td>South Africa</td>\n",
       "      <td>International TV Shows</td>\n",
       "      <td>9</td>\n",
       "      <td>September</td>\n",
       "      <td>2021</td>\n",
       "    </tr>\n",
       "    <tr>\n",
       "      <th>2</th>\n",
       "      <td>s3</td>\n",
       "      <td>TV Show</td>\n",
       "      <td>Ganglands</td>\n",
       "      <td>2021-09-24</td>\n",
       "      <td>2021</td>\n",
       "      <td>TV-MA</td>\n",
       "      <td>1 Season</td>\n",
       "      <td>Sami Bouajila</td>\n",
       "      <td>Julien Leclercq</td>\n",
       "      <td>NA</td>\n",
       "      <td>Crime TV Shows</td>\n",
       "      <td>9</td>\n",
       "      <td>September</td>\n",
       "      <td>2021</td>\n",
       "    </tr>\n",
       "  </tbody>\n",
       "</table>\n",
       "</div>"
      ],
      "text/plain": [
       "  show_id     type                 title date_added release_year rating  \\\n",
       "0      s1    Movie  Dick Johnson Is Dead 2021-09-25         2020  PG-13   \n",
       "1      s2  TV Show         Blood & Water 2021-09-24         2021  TV-MA   \n",
       "2      s3  TV Show             Ganglands 2021-09-24         2021  TV-MA   \n",
       "\n",
       "    duration           cast         director        country  \\\n",
       "0     90 min             NA  Kirsten Johnson  United States   \n",
       "1  2 Seasons     Ama Qamata               NA   South Africa   \n",
       "2   1 Season  Sami Bouajila  Julien Leclercq             NA   \n",
       "\n",
       "                listed_in  month_added month_name  year_added  \n",
       "0           Documentaries            9  September        2021  \n",
       "1  International TV Shows            9  September        2021  \n",
       "2          Crime TV Shows            9  September        2021  "
      ]
     },
     "execution_count": 181,
     "metadata": {},
     "output_type": "execute_result"
    }
   ],
   "source": [
    "df['month_added'] = df['date_added'].dt.month\n",
    "df['month_name'] = df['date_added'].dt.month_name()\n",
    "df['year_added'] = df['date_added'].dt.year\n",
    "print(df.shape)\n",
    "df.head(3)\n"
   ]
  },
  {
   "cell_type": "markdown",
   "id": "af192393",
   "metadata": {},
   "source": [
    "release_year is the year it was released and year_added is the year in which it was added to the\n",
    "Netlfix"
   ]
  },
  {
   "cell_type": "markdown",
   "id": "bd202650",
   "metadata": {},
   "source": [
    "### Analyze the Data"
   ]
  },
  {
   "cell_type": "markdown",
   "id": "1f870f54",
   "metadata": {},
   "source": [
    "### Number of content available based on type"
   ]
  },
  {
   "cell_type": "code",
   "execution_count": 182,
   "id": "b190e23f",
   "metadata": {},
   "outputs": [
    {
     "data": {
      "text/plain": [
       "Movie      145776\n",
       "TV Show     55932\n",
       "Name: type, dtype: int64"
      ]
     },
     "execution_count": 182,
     "metadata": {},
     "output_type": "execute_result"
    }
   ],
   "source": [
    "df.type.value_counts()"
   ]
  },
  {
   "cell_type": "code",
   "execution_count": 183,
   "id": "6ed975b7",
   "metadata": {},
   "outputs": [
    {
     "data": {
      "text/plain": [
       "<AxesSubplot:xlabel='type', ylabel='count'>"
      ]
     },
     "execution_count": 183,
     "metadata": {},
     "output_type": "execute_result"
    },
    {
     "data": {
      "image/png": "[encoded data removed]",
      "text/plain": [
       "<Figure size 432x288 with 1 Axes>"
      ]
     },
     "metadata": {
      "needs_background": "light"
     },
     "output_type": "display_data"
    }
   ],
   "source": [
    "sns.countplot(x=\"type\", data = df,palette=\"RdBu\")"
   ]
  },
  {
   "cell_type": "markdown",
   "id": "0a40bcd4",
   "metadata": {},
   "source": [
    "Number of movies in netflix is more than no of tv shows on Netflix"
   ]
  },
  {
   "cell_type": "code",
   "execution_count": 184,
   "id": "0185ff4b",
   "metadata": {},
   "outputs": [
    {
     "data": {
      "image/png": "[encoded data removed]",
      "text/plain": [
       "<Figure size 864x720 with 1 Axes>"
      ]
     },
     "metadata": {
      "needs_background": "light"
     },
     "output_type": "display_data"
    }
   ],
   "source": [
    "\n",
    "\n",
    "plt.figure(figsize=(12, 10))\n",
    "sns.countplot(data=df, y=\"year_added\", order=df.year_added.value_counts().index[:15], palette=\"RdBu\")\n",
    "plt.show()\n"
   ]
  },
  {
   "cell_type": "markdown",
   "id": "5662f1e1",
   "metadata": {},
   "source": [
    "Content added in year 2019 is greater tha 2020 and 2021.Covid-19 could the reason for this as very less movies were releases in 2019 and 2020"
   ]
  },
  {
   "cell_type": "markdown",
   "id": "fcff4d5e",
   "metadata": {},
   "source": [
    "### Content added in each based on type"
   ]
  },
  {
   "cell_type": "code",
   "execution_count": 185,
   "id": "22e7a932",
   "metadata": {},
   "outputs": [
    {
     "data": {
      "text/plain": [
       "<AxesSubplot:xlabel='year_added', ylabel='count'>"
      ]
     },
     "execution_count": 185,
     "metadata": {},
     "output_type": "execute_result"
    },
    {
     "data": {
      "image/png": "[encoded data removed]",
      "text/plain": [
       "<Figure size 1080x360 with 1 Axes>"
      ]
     },
     "metadata": {
      "needs_background": "light"
     },
     "output_type": "display_data"
    }
   ],
   "source": [
    "## Lets check the number of movies and TV shows added in these years\n",
    "plt. figure (figsize= (15,5))\n",
    "sns.countplot(x=\"year_added\", data = df, palette =\"RdBu\", hue=\"type\")"
   ]
  },
  {
   "cell_type": "markdown",
   "id": "e12ceb3a",
   "metadata": {},
   "source": [
    "1.Number of movies added is highest in 2019 followed   by 2020 and 2018.\n",
    "2.Number of TV shows added is highest in 2020 followed by 2019 and 2021.\n",
    "\n",
    "From this we call tell that, the popularity of TV shows increases in Covid time (2019) as everyone started working from home."
   ]
  },
  {
   "cell_type": "markdown",
   "id": "bd7e09fd",
   "metadata": {},
   "source": [
    "## Rating Analysis"
   ]
  },
  {
   "cell_type": "code",
   "execution_count": 186,
   "id": "6ad727d0",
   "metadata": {},
   "outputs": [
    {
     "data": {
      "text/plain": [
       "TV-MA       73787\n",
       "TV-14       43853\n",
       "R           25859\n",
       "PG-13       16246\n",
       "TV-PG       14913\n",
       "PG          10919\n",
       "TV-Y7        6294\n",
       "TV-Y         3664\n",
       "TV-G         2779\n",
       "NR           1543\n",
       "G            1530\n",
       "NC-17         149\n",
       "TV-Y7-FV       86\n",
       "UR             86\n",
       "Name: rating, dtype: int64"
      ]
     },
     "execution_count": 186,
     "metadata": {},
     "output_type": "execute_result"
    }
   ],
   "source": [
    "df.rating.value_counts()"
   ]
  },
  {
   "cell_type": "markdown",
   "id": "40cb7b6f",
   "metadata": {},
   "source": [
    "Ratings here are not understandable by everyone , so lets add a colomn called \"Target_audience\" based on the rating"
   ]
  },
  {
   "cell_type": "code",
   "execution_count": 187,
   "id": "4843b9aa",
   "metadata": {},
   "outputs": [
    {
     "data": {
      "application/vnd.plotly.v1+json": {
       "config": {
        "plotlyServerURL": "https://plot.ly"
       },
       "data": [
        {
         "hovertemplate": "rating=%{y}<br>counts=%{marker.size}<extra></extra>",
         "legendgroup": "G",
         "marker": {
          "color": "#636efa",
          "size": [
           1530
          ],
          "sizemode": "area",
          "sizeref": 81.98555555555555,
          "symbol": "circle"
         },
         "mode": "markers",
         "name": "G",
         "orientation": "h",
         "showlegend": true,
         "type": "scatter",
         "x": [
          1530
         ],
         "xaxis": "x",
         "y": [
          "G"
         ],
         "yaxis": "y"
        },
        {
         "hovertemplate": "rating=%{y}<br>counts=%{marker.size}<extra></extra>",
         "legendgroup": "NC-17",
         "marker": {
          "color": "#EF553B",
          "size": [
           149
          ],
          "sizemode": "area",
          "sizeref": 81.98555555555555,
          "symbol": "circle"
         },
         "mode": "markers",
         "name": "NC-17",
         "orientation": "h",
         "showlegend": true,
         "type": "scatter",
         "x": [
          149
         ],
         "xaxis": "x",
         "y": [
          "NC-17"
         ],
         "yaxis": "y"
        },
        {
         "hovertemplate": "rating=%{y}<br>counts=%{marker.size}<extra></extra>",
         "legendgroup": "NR",
         "marker": {
          "color": "#00cc96",
          "size": [
           1543
          ],
          "sizemode": "area",
          "sizeref": 81.98555555555555,
          "symbol": "circle"
         },
         "mode": "markers",
         "name": "NR",
         "orientation": "h",
         "showlegend": true,
         "type": "scatter",
         "x": [
          1543
         ],
         "xaxis": "x",
         "y": [
          "NR"
         ],
         "yaxis": "y"
        },
        {
         "hovertemplate": "rating=%{y}<br>counts=%{marker.size}<extra></extra>",
         "legendgroup": "PG",
         "marker": {
          "color": "#ab63fa",
          "size": [
           10919
          ],
          "sizemode": "area",
          "sizeref": 81.98555555555555,
          "symbol": "circle"
         },
         "mode": "markers",
         "name": "PG",
         "orientation": "h",
         "showlegend": true,
         "type": "scatter",
         "x": [
          10919
         ],
         "xaxis": "x",
         "y": [
          "PG"
         ],
         "yaxis": "y"
        },
        {
         "hovertemplate": "rating=%{y}<br>counts=%{marker.size}<extra></extra>",
         "legendgroup": "PG-13",
         "marker": {
          "color": "#FFA15A",
          "size": [
           16246
          ],
          "sizemode": "area",
          "sizeref": 81.98555555555555,
          "symbol": "circle"
         },
         "mode": "markers",
         "name": "PG-13",
         "orientation": "h",
         "showlegend": true,
         "type": "scatter",
         "x": [
          16246
         ],
         "xaxis": "x",
         "y": [
          "PG-13"
         ],
         "yaxis": "y"
        },
        {
         "hovertemplate": "rating=%{y}<br>counts=%{marker.size}<extra></extra>",
         "legendgroup": "R",
         "marker": {
          "color": "#19d3f3",
          "size": [
           25859
          ],
          "sizemode": "area",
          "sizeref": 81.98555555555555,
          "symbol": "circle"
         },
         "mode": "markers",
         "name": "R",
         "orientation": "h",
         "showlegend": true,
         "type": "scatter",
         "x": [
          25859
         ],
         "xaxis": "x",
         "y": [
          "R"
         ],
         "yaxis": "y"
        },
        {
         "hovertemplate": "rating=%{y}<br>counts=%{marker.size}<extra></extra>",
         "legendgroup": "TV-14",
         "marker": {
          "color": "#FF6692",
          "size": [
           43853
          ],
          "sizemode": "area",
          "sizeref": 81.98555555555555,
          "symbol": "circle"
         },
         "mode": "markers",
         "name": "TV-14",
         "orientation": "h",
         "showlegend": true,
         "type": "scatter",
         "x": [
          43853
         ],
         "xaxis": "x",
         "y": [
          "TV-14"
         ],
         "yaxis": "y"
        },
        {
         "hovertemplate": "rating=%{y}<br>counts=%{marker.size}<extra></extra>",
         "legendgroup": "TV-G",
         "marker": {
          "color": "#B6E880",
          "size": [
           2779
          ],
          "sizemode": "area",
          "sizeref": 81.98555555555555,
          "symbol": "circle"
         },
         "mode": "markers",
         "name": "TV-G",
         "orientation": "h",
         "showlegend": true,
         "type": "scatter",
         "x": [
          2779
         ],
         "xaxis": "x",
         "y": [
          "TV-G"
         ],
         "yaxis": "y"
        },
        {
         "hovertemplate": "rating=%{y}<br>counts=%{marker.size}<extra></extra>",
         "legendgroup": "TV-MA",
         "marker": {
          "color": "#FF97FF",
          "size": [
           73787
          ],
          "sizemode": "area",
          "sizeref": 81.98555555555555,
          "symbol": "circle"
         },
         "mode": "markers",
         "name": "TV-MA",
         "orientation": "h",
         "showlegend": true,
         "type": "scatter",
         "x": [
          73787
         ],
         "xaxis": "x",
         "y": [
          "TV-MA"
         ],
         "yaxis": "y"
        },
        {
         "hovertemplate": "rating=%{y}<br>counts=%{marker.size}<extra></extra>",
         "legendgroup": "TV-PG",
         "marker": {
          "color": "#FECB52",
          "size": [
           14913
          ],
          "sizemode": "area",
          "sizeref": 81.98555555555555,
          "symbol": "circle"
         },
         "mode": "markers",
         "name": "TV-PG",
         "orientation": "h",
         "showlegend": true,
         "type": "scatter",
         "x": [
          14913
         ],
         "xaxis": "x",
         "y": [
          "TV-PG"
         ],
         "yaxis": "y"
        },
        {
         "hovertemplate": "rating=%{y}<br>counts=%{marker.size}<extra></extra>",
         "legendgroup": "TV-Y",
         "marker": {
          "color": "#636efa",
          "size": [
           3664
          ],
          "sizemode": "area",
          "sizeref": 81.98555555555555,
          "symbol": "circle"
         },
         "mode": "markers",
         "name": "TV-Y",
         "orientation": "h",
         "showlegend": true,
         "type": "scatter",
         "x": [
          3664
         ],
         "xaxis": "x",
         "y": [
          "TV-Y"
         ],
         "yaxis": "y"
        },
        {
         "hovertemplate": "rating=%{y}<br>counts=%{marker.size}<extra></extra>",
         "legendgroup": "TV-Y7",
         "marker": {
          "color": "#EF553B",
          "size": [
           6294
          ],
          "sizemode": "area",
          "sizeref": 81.98555555555555,
          "symbol": "circle"
         },
         "mode": "markers",
         "name": "TV-Y7",
         "orientation": "h",
         "showlegend": true,
         "type": "scatter",
         "x": [
          6294
         ],
         "xaxis": "x",
         "y": [
          "TV-Y7"
         ],
         "yaxis": "y"
        },
        {
         "hovertemplate": "rating=%{y}<br>counts=%{marker.size}<extra></extra>",
         "legendgroup": "TV-Y7-FV",
         "marker": {
          "color": "#00cc96",
          "size": [
           86
          ],
          "sizemode": "area",
          "sizeref": 81.98555555555555,
          "symbol": "circle"
         },
         "mode": "markers",
         "name": "TV-Y7-FV",
         "orientation": "h",
         "showlegend": true,
         "type": "scatter",
         "x": [
          86
         ],
         "xaxis": "x",
         "y": [
          "TV-Y7-FV"
         ],
         "yaxis": "y"
        },
        {
         "hovertemplate": "rating=%{y}<br>counts=%{marker.size}<extra></extra>",
         "legendgroup": "UR",
         "marker": {
          "color": "#ab63fa",
          "size": [
           86
          ],
          "sizemode": "area",
          "sizeref": 81.98555555555555,
          "symbol": "circle"
         },
         "mode": "markers",
         "name": "UR",
         "orientation": "h",
         "showlegend": true,
         "type": "scatter",
         "x": [
          86
         ],
         "xaxis": "x",
         "y": [
          "UR"
         ],
         "yaxis": "y"
        }
       ],
       "layout": {
        "legend": {
         "itemsizing": "constant",
         "title": {
          "text": "rating"
         },
         "tracegroupgap": 0
        },
        "template": {
         "data": {
          "bar": [
           {
            "error_x": {
             "color": "#2a3f5f"
            },
            "error_y": {
             "color": "#2a3f5f"
            },
            "marker": {
             "line": {
              "color": "#E5ECF6",
              "width": 0.5
             },
             "pattern": {
              "fillmode": "overlay",
              "size": 10,
              "solidity": 0.2
             }
            },
            "type": "bar"
           }
          ],
          "barpolar": [
           {
            "marker": {
             "line": {
              "color": "#E5ECF6",
              "width": 0.5
             },
             "pattern": {
              "fillmode": "overlay",
              "size": 10,
              "solidity": 0.2
             }
            },
            "type": "barpolar"
           }
          ],
          "carpet": [
           {
            "aaxis": {
             "endlinecolor": "#2a3f5f",
             "gridcolor": "white",
             "linecolor": "white",
             "minorgridcolor": "white",
             "startlinecolor": "#2a3f5f"
            },
            "baxis": {
             "endlinecolor": "#2a3f5f",
             "gridcolor": "white",
             "linecolor": "white",
             "minorgridcolor": "white",
             "startlinecolor": "#2a3f5f"
            },
            "type": "carpet"
           }
          ],
          "choropleth": [
           {
            "colorbar": {
             "outlinewidth": 0,
             "ticks": ""
            },
            "type": "choropleth"
           }
          ],
          "contour": [
           {
            "colorbar": {
             "outlinewidth": 0,
             "ticks": ""
            },
            "colorscale": [
             [
              0,
              "#0d0887"
             ],
             [
              0.1111111111111111,
              "#46039f"
             ],
             [
              0.2222222222222222,
              "#7201a8"
             ],
             [
              0.3333333333333333,
              "#9c179e"
             ],
             [
              0.4444444444444444,
              "#bd3786"
             ],
             [
              0.5555555555555556,
              "#d8576b"
             ],
             [
              0.6666666666666666,
              "#ed7953"
             ],
             [
              0.7777777777777778,
              "#fb9f3a"
             ],
             [
              0.8888888888888888,
              "#fdca26"
             ],
             [
              1,
              "#f0f921"
             ]
            ],
            "type": "contour"
           }
          ],
          "contourcarpet": [
           {
            "colorbar": {
             "outlinewidth": 0,
             "ticks": ""
            },
            "type": "contourcarpet"
           }
          ],
          "heatmap": [
           {
            "colorbar": {
             "outlinewidth": 0,
             "ticks": ""
            },
            "colorscale": [
             [
              0,
              "#0d0887"
             ],
             [
              0.1111111111111111,
              "#46039f"
             ],
             [
              0.2222222222222222,
              "#7201a8"
             ],
             [
              0.3333333333333333,
              "#9c179e"
             ],
             [
              0.4444444444444444,
              "#bd3786"
             ],
             [
              0.5555555555555556,
              "#d8576b"
             ],
             [
              0.6666666666666666,
              "#ed7953"
             ],
             [
              0.7777777777777778,
              "#fb9f3a"
             ],
             [
              0.8888888888888888,
              "#fdca26"
             ],
             [
              1,
              "#f0f921"
             ]
            ],
            "type": "heatmap"
           }
          ],
          "heatmapgl": [
           {
            "colorbar": {
             "outlinewidth": 0,
             "ticks": ""
            },
            "colorscale": [
             [
              0,
              "#0d0887"
             ],
             [
              0.1111111111111111,
              "#46039f"
             ],
             [
              0.2222222222222222,
              "#7201a8"
             ],
             [
              0.3333333333333333,
              "#9c179e"
             ],
             [
              0.4444444444444444,
              "#bd3786"
             ],
             [
              0.5555555555555556,
              "#d8576b"
             ],
             [
              0.6666666666666666,
              "#ed7953"
             ],
             [
              0.7777777777777778,
              "#fb9f3a"
             ],
             [
              0.8888888888888888,
              "#fdca26"
             ],
             [
              1,
              "#f0f921"
             ]
            ],
            "type": "heatmapgl"
           }
          ],
          "histogram": [
           {
            "marker": {
             "pattern": {
              "fillmode": "overlay",
              "size": 10,
              "solidity": 0.2
             }
            },
            "type": "histogram"
           }
          ],
          "histogram2d": [
           {
            "colorbar": {
             "outlinewidth": 0,
             "ticks": ""
            },
            "colorscale": [
             [
              0,
              "#0d0887"
             ],
             [
              0.1111111111111111,
              "#46039f"
             ],
             [
              0.2222222222222222,
              "#7201a8"
             ],
             [
              0.3333333333333333,
              "#9c179e"
             ],
             [
              0.4444444444444444,
              "#bd3786"
             ],
             [
              0.5555555555555556,
              "#d8576b"
             ],
             [
              0.6666666666666666,
              "#ed7953"
             ],
             [
              0.7777777777777778,
              "#fb9f3a"
             ],
             [
              0.8888888888888888,
              "#fdca26"
             ],
             [
              1,
              "#f0f921"
             ]
            ],
            "type": "histogram2d"
           }
          ],
          "histogram2dcontour": [
           {
            "colorbar": {
             "outlinewidth": 0,
             "ticks": ""
            },
            "colorscale": [
             [
              0,
              "#0d0887"
             ],
             [
              0.1111111111111111,
              "#46039f"
             ],
             [
              0.2222222222222222,
              "#7201a8"
             ],
             [
              0.3333333333333333,
              "#9c179e"
             ],
             [
              0.4444444444444444,
              "#bd3786"
             ],
             [
              0.5555555555555556,
              "#d8576b"
             ],
             [
              0.6666666666666666,
              "#ed7953"
             ],
             [
              0.7777777777777778,
              "#fb9f3a"
             ],
             [
              0.8888888888888888,
              "#fdca26"
             ],
             [
              1,
              "#f0f921"
             ]
            ],
            "type": "histogram2dcontour"
           }
          ],
          "mesh3d": [
           {
            "colorbar": {
             "outlinewidth": 0,
             "ticks": ""
            },
            "type": "mesh3d"
           }
          ],
          "parcoords": [
           {
            "line": {
             "colorbar": {
              "outlinewidth": 0,
              "ticks": ""
             }
            },
            "type": "parcoords"
           }
          ],
          "pie": [
           {
            "automargin": true,
            "type": "pie"
           }
          ],
          "scatter": [
           {
            "fillpattern": {
             "fillmode": "overlay",
             "size": 10,
             "solidity": 0.2
            },
            "type": "scatter"
           }
          ],
          "scatter3d": [
           {
            "line": {
             "colorbar": {
              "outlinewidth": 0,
              "ticks": ""
             }
            },
            "marker": {
             "colorbar": {
              "outlinewidth": 0,
              "ticks": ""
             }
            },
            "type": "scatter3d"
           }
          ],
          "scattercarpet": [
           {
            "marker": {
             "colorbar": {
              "outlinewidth": 0,
              "ticks": ""
             }
            },
            "type": "scattercarpet"
           }
          ],
          "scattergeo": [
           {
            "marker": {
             "colorbar": {
              "outlinewidth": 0,
              "ticks": ""
             }
            },
            "type": "scattergeo"
           }
          ],
          "scattergl": [
           {
            "marker": {
             "colorbar": {
              "outlinewidth": 0,
              "ticks": ""
             }
            },
            "type": "scattergl"
           }
          ],
          "scattermapbox": [
           {
            "marker": {
             "colorbar": {
              "outlinewidth": 0,
              "ticks": ""
             }
            },
            "type": "scattermapbox"
           }
          ],
          "scatterpolar": [
           {
            "marker": {
             "colorbar": {
              "outlinewidth": 0,
              "ticks": ""
             }
            },
            "type": "scatterpolar"
           }
          ],
          "scatterpolargl": [
           {
            "marker": {
             "colorbar": {
              "outlinewidth": 0,
              "ticks": ""
             }
            },
            "type": "scatterpolargl"
           }
          ],
          "scatterternary": [
           {
            "marker": {
             "colorbar": {
              "outlinewidth": 0,
              "ticks": ""
             }
            },
            "type": "scatterternary"
           }
          ],
          "surface": [
           {
            "colorbar": {
             "outlinewidth": 0,
             "ticks": ""
            },
            "colorscale": [
             [
              0,
              "#0d0887"
             ],
             [
              0.1111111111111111,
              "#46039f"
             ],
             [
              0.2222222222222222,
              "#7201a8"
             ],
             [
              0.3333333333333333,
              "#9c179e"
             ],
             [
              0.4444444444444444,
              "#bd3786"
             ],
             [
              0.5555555555555556,
              "#d8576b"
             ],
             [
              0.6666666666666666,
              "#ed7953"
             ],
             [
              0.7777777777777778,
              "#fb9f3a"
             ],
             [
              0.8888888888888888,
              "#fdca26"
             ],
             [
              1,
              "#f0f921"
             ]
            ],
            "type": "surface"
           }
          ],
          "table": [
           {
            "cells": {
             "fill": {
              "color": "#EBF0F8"
             },
             "line": {
              "color": "white"
             }
            },
            "header": {
             "fill": {
              "color": "#C8D4E3"
             },
             "line": {
              "color": "white"
             }
            },
            "type": "table"
           }
          ]
         },
         "layout": {
          "annotationdefaults": {
           "arrowcolor": "#2a3f5f",
           "arrowhead": 0,
           "arrowwidth": 1
          },
          "autotypenumbers": "strict",
          "coloraxis": {
           "colorbar": {
            "outlinewidth": 0,
            "ticks": ""
           }
          },
          "colorscale": {
           "diverging": [
            [
             0,
             "#8e0152"
            ],
            [
             0.1,
             "#c51b7d"
            ],
            [
             0.2,
             "#de77ae"
            ],
            [
             0.3,
             "#f1b6da"
            ],
            [
             0.4,
             "#fde0ef"
            ],
            [
             0.5,
             "#f7f7f7"
            ],
            [
             0.6,
             "#e6f5d0"
            ],
            [
             0.7,
             "#b8e186"
            ],
            [
             0.8,
             "#7fbc41"
            ],
            [
             0.9,
             "#4d9221"
            ],
            [
             1,
             "#276419"
            ]
           ],
           "sequential": [
            [
             0,
             "#0d0887"
            ],
            [
             0.1111111111111111,
             "#46039f"
            ],
            [
             0.2222222222222222,
             "#7201a8"
            ],
            [
             0.3333333333333333,
             "#9c179e"
            ],
            [
             0.4444444444444444,
             "#bd3786"
            ],
            [
             0.5555555555555556,
             "#d8576b"
            ],
            [
             0.6666666666666666,
             "#ed7953"
            ],
            [
             0.7777777777777778,
             "#fb9f3a"
            ],
            [
             0.8888888888888888,
             "#fdca26"
            ],
            [
             1,
             "#f0f921"
            ]
           ],
           "sequentialminus": [
            [
             0,
             "#0d0887"
            ],
            [
             0.1111111111111111,
             "#46039f"
            ],
            [
             0.2222222222222222,
             "#7201a8"
            ],
            [
             0.3333333333333333,
             "#9c179e"
            ],
            [
             0.4444444444444444,
             "#bd3786"
            ],
            [
             0.5555555555555556,
             "#d8576b"
            ],
            [
             0.6666666666666666,
             "#ed7953"
            ],
            [
             0.7777777777777778,
             "#fb9f3a"
            ],
            [
             0.8888888888888888,
             "#fdca26"
            ],
            [
             1,
             "#f0f921"
            ]
           ]
          },
          "colorway": [
           "#636efa",
           "#EF553B",
           "#00cc96",
           "#ab63fa",
           "#FFA15A",
           "#19d3f3",
           "#FF6692",
           "#B6E880",
           "#FF97FF",
           "#FECB52"
          ],
          "font": {
           "color": "#2a3f5f"
          },
          "geo": {
           "bgcolor": "white",
           "lakecolor": "white",
           "landcolor": "#E5ECF6",
           "showlakes": true,
           "showland": true,
           "subunitcolor": "white"
          },
          "hoverlabel": {
           "align": "left"
          },
          "hovermode": "closest",
          "mapbox": {
           "style": "light"
          },
          "paper_bgcolor": "white",
          "plot_bgcolor": "#E5ECF6",
          "polar": {
           "angularaxis": {
            "gridcolor": "white",
            "linecolor": "white",
            "ticks": ""
           },
           "bgcolor": "#E5ECF6",
           "radialaxis": {
            "gridcolor": "white",
            "linecolor": "white",
            "ticks": ""
           }
          },
          "scene": {
           "xaxis": {
            "backgroundcolor": "#E5ECF6",
            "gridcolor": "white",
            "gridwidth": 2,
            "linecolor": "white",
            "showbackground": true,
            "ticks": "",
            "zerolinecolor": "white"
           },
           "yaxis": {
            "backgroundcolor": "#E5ECF6",
            "gridcolor": "white",
            "gridwidth": 2,
            "linecolor": "white",
            "showbackground": true,
            "ticks": "",
            "zerolinecolor": "white"
           },
           "zaxis": {
            "backgroundcolor": "#E5ECF6",
            "gridcolor": "white",
            "gridwidth": 2,
            "linecolor": "white",
            "showbackground": true,
            "ticks": "",
            "zerolinecolor": "white"
           }
          },
          "shapedefaults": {
           "line": {
            "color": "#2a3f5f"
           }
          },
          "ternary": {
           "aaxis": {
            "gridcolor": "white",
            "linecolor": "white",
            "ticks": ""
           },
           "baxis": {
            "gridcolor": "white",
            "linecolor": "white",
            "ticks": ""
           },
           "bgcolor": "#E5ECF6",
           "caxis": {
            "gridcolor": "white",
            "linecolor": "white",
            "ticks": ""
           }
          },
          "title": {
           "x": 0.05
          },
          "xaxis": {
           "automargin": true,
           "gridcolor": "white",
           "linecolor": "white",
           "ticks": "",
           "title": {
            "standoff": 15
           },
           "zerolinecolor": "white",
           "zerolinewidth": 2
          },
          "yaxis": {
           "automargin": true,
           "gridcolor": "white",
           "linecolor": "white",
           "ticks": "",
           "title": {
            "standoff": 15
           },
           "zerolinecolor": "white",
           "zerolinewidth": 2
          }
         }
        },
        "title": {
         "text": "Total Content Rating"
        },
        "xaxis": {
         "anchor": "y",
         "domain": [
          0,
          1
         ],
         "title": {
          "text": "counts"
         }
        },
        "yaxis": {
         "anchor": "x",
         "categoryarray": [
          "UR",
          "TV-Y7-FV",
          "TV-Y7",
          "TV-Y",
          "TV-PG",
          "TV-MA",
          "TV-G",
          "TV-14",
          "R",
          "PG-13",
          "PG",
          "NR",
          "NC-17",
          "G"
         ],
         "categoryorder": "array",
         "domain": [
          0,
          1
         ],
         "title": {
          "text": "rating"
         }
        }
       }
      },
      "text/html": [
       "<div>                            <div id=\"bb4c71f6-c467-42c4-89ef-0a2bc257f6d4\" class=\"plotly-graph-div\" style=\"height:525px; width:100%;\"></div>            <script type=\"text/javascript\">                require([\"plotly\"], function(Plotly) {                    window.PLOTLYENV=window.PLOTLYENV || {};                                    if (document.getElementById(\"bb4c71f6-c467-42c4-89ef-0a2bc257f6d4\")) {                    Plotly.newPlot(                        \"bb4c71f6-c467-42c4-89ef-0a2bc257f6d4\",                        [{\"hovertemplate\":\"rating=%{y}\\u003cbr\\u003ecounts=%{marker.size}\\u003cextra\\u003e\\u003c\\u002fextra\\u003e\",\"legendgroup\":\"G\",\"marker\":{\"color\":\"#636efa\",\"size\":[1530],\"sizemode\":\"area\",\"sizeref\":81.98555555555555,\"symbol\":\"circle\"},\"mode\":\"markers\",\"name\":\"G\",\"orientation\":\"h\",\"showlegend\":true,\"x\":[1530],\"xaxis\":\"x\",\"y\":[\"G\"],\"yaxis\":\"y\",\"type\":\"scatter\"},{\"hovertemplate\":\"rating=%{y}\\u003cbr\\u003ecounts=%{marker.size}\\u003cextra\\u003e\\u003c\\u002fextra\\u003e\",\"legendgroup\":\"NC-17\",\"marker\":{\"color\":\"#EF553B\",\"size\":[149],\"sizemode\":\"area\",\"sizeref\":81.98555555555555,\"symbol\":\"circle\"},\"mode\":\"markers\",\"name\":\"NC-17\",\"orientation\":\"h\",\"showlegend\":true,\"x\":[149],\"xaxis\":\"x\",\"y\":[\"NC-17\"],\"yaxis\":\"y\",\"type\":\"scatter\"},{\"hovertemplate\":\"rating=%{y}\\u003cbr\\u003ecounts=%{marker.size}\\u003cextra\\u003e\\u003c\\u002fextra\\u003e\",\"legendgroup\":\"NR\",\"marker\":{\"color\":\"#00cc96\",\"size\":[1543],\"sizemode\":\"area\",\"sizeref\":81.98555555555555,\"symbol\":\"circle\"},\"mode\":\"markers\",\"name\":\"NR\",\"orientation\":\"h\",\"showlegend\":true,\"x\":[1543],\"xaxis\":\"x\",\"y\":[\"NR\"],\"yaxis\":\"y\",\"type\":\"scatter\"},{\"hovertemplate\":\"rating=%{y}\\u003cbr\\u003ecounts=%{marker.size}\\u003cextra\\u003e\\u003c\\u002fextra\\u003e\",\"legendgroup\":\"PG\",\"marker\":{\"color\":\"#ab63fa\",\"size\":[10919],\"sizemode\":\"area\",\"sizeref\":81.98555555555555,\"symbol\":\"circle\"},\"mode\":\"markers\",\"name\":\"PG\",\"orientation\":\"h\",\"showlegend\":true,\"x\":[10919],\"xaxis\":\"x\",\"y\":[\"PG\"],\"yaxis\":\"y\",\"type\":\"scatter\"},{\"hovertemplate\":\"rating=%{y}\\u003cbr\\u003ecounts=%{marker.size}\\u003cextra\\u003e\\u003c\\u002fextra\\u003e\",\"legendgroup\":\"PG-13\",\"marker\":{\"color\":\"#FFA15A\",\"size\":[16246],\"sizemode\":\"area\",\"sizeref\":81.98555555555555,\"symbol\":\"circle\"},\"mode\":\"markers\",\"name\":\"PG-13\",\"orientation\":\"h\",\"showlegend\":true,\"x\":[16246],\"xaxis\":\"x\",\"y\":[\"PG-13\"],\"yaxis\":\"y\",\"type\":\"scatter\"},{\"hovertemplate\":\"rating=%{y}\\u003cbr\\u003ecounts=%{marker.size}\\u003cextra\\u003e\\u003c\\u002fextra\\u003e\",\"legendgroup\":\"R\",\"marker\":{\"color\":\"#19d3f3\",\"size\":[25859],\"sizemode\":\"area\",\"sizeref\":81.98555555555555,\"symbol\":\"circle\"},\"mode\":\"markers\",\"name\":\"R\",\"orientation\":\"h\",\"showlegend\":true,\"x\":[25859],\"xaxis\":\"x\",\"y\":[\"R\"],\"yaxis\":\"y\",\"type\":\"scatter\"},{\"hovertemplate\":\"rating=%{y}\\u003cbr\\u003ecounts=%{marker.size}\\u003cextra\\u003e\\u003c\\u002fextra\\u003e\",\"legendgroup\":\"TV-14\",\"marker\":{\"color\":\"#FF6692\",\"size\":[43853],\"sizemode\":\"area\",\"sizeref\":81.98555555555555,\"symbol\":\"circle\"},\"mode\":\"markers\",\"name\":\"TV-14\",\"orientation\":\"h\",\"showlegend\":true,\"x\":[43853],\"xaxis\":\"x\",\"y\":[\"TV-14\"],\"yaxis\":\"y\",\"type\":\"scatter\"},{\"hovertemplate\":\"rating=%{y}\\u003cbr\\u003ecounts=%{marker.size}\\u003cextra\\u003e\\u003c\\u002fextra\\u003e\",\"legendgroup\":\"TV-G\",\"marker\":{\"color\":\"#B6E880\",\"size\":[2779],\"sizemode\":\"area\",\"sizeref\":81.98555555555555,\"symbol\":\"circle\"},\"mode\":\"markers\",\"name\":\"TV-G\",\"orientation\":\"h\",\"showlegend\":true,\"x\":[2779],\"xaxis\":\"x\",\"y\":[\"TV-G\"],\"yaxis\":\"y\",\"type\":\"scatter\"},{\"hovertemplate\":\"rating=%{y}\\u003cbr\\u003ecounts=%{marker.size}\\u003cextra\\u003e\\u003c\\u002fextra\\u003e\",\"legendgroup\":\"TV-MA\",\"marker\":{\"color\":\"#FF97FF\",\"size\":[73787],\"sizemode\":\"area\",\"sizeref\":81.98555555555555,\"symbol\":\"circle\"},\"mode\":\"markers\",\"name\":\"TV-MA\",\"orientation\":\"h\",\"showlegend\":true,\"x\":[73787],\"xaxis\":\"x\",\"y\":[\"TV-MA\"],\"yaxis\":\"y\",\"type\":\"scatter\"},{\"hovertemplate\":\"rating=%{y}\\u003cbr\\u003ecounts=%{marker.size}\\u003cextra\\u003e\\u003c\\u002fextra\\u003e\",\"legendgroup\":\"TV-PG\",\"marker\":{\"color\":\"#FECB52\",\"size\":[14913],\"sizemode\":\"area\",\"sizeref\":81.98555555555555,\"symbol\":\"circle\"},\"mode\":\"markers\",\"name\":\"TV-PG\",\"orientation\":\"h\",\"showlegend\":true,\"x\":[14913],\"xaxis\":\"x\",\"y\":[\"TV-PG\"],\"yaxis\":\"y\",\"type\":\"scatter\"},{\"hovertemplate\":\"rating=%{y}\\u003cbr\\u003ecounts=%{marker.size}\\u003cextra\\u003e\\u003c\\u002fextra\\u003e\",\"legendgroup\":\"TV-Y\",\"marker\":{\"color\":\"#636efa\",\"size\":[3664],\"sizemode\":\"area\",\"sizeref\":81.98555555555555,\"symbol\":\"circle\"},\"mode\":\"markers\",\"name\":\"TV-Y\",\"orientation\":\"h\",\"showlegend\":true,\"x\":[3664],\"xaxis\":\"x\",\"y\":[\"TV-Y\"],\"yaxis\":\"y\",\"type\":\"scatter\"},{\"hovertemplate\":\"rating=%{y}\\u003cbr\\u003ecounts=%{marker.size}\\u003cextra\\u003e\\u003c\\u002fextra\\u003e\",\"legendgroup\":\"TV-Y7\",\"marker\":{\"color\":\"#EF553B\",\"size\":[6294],\"sizemode\":\"area\",\"sizeref\":81.98555555555555,\"symbol\":\"circle\"},\"mode\":\"markers\",\"name\":\"TV-Y7\",\"orientation\":\"h\",\"showlegend\":true,\"x\":[6294],\"xaxis\":\"x\",\"y\":[\"TV-Y7\"],\"yaxis\":\"y\",\"type\":\"scatter\"},{\"hovertemplate\":\"rating=%{y}\\u003cbr\\u003ecounts=%{marker.size}\\u003cextra\\u003e\\u003c\\u002fextra\\u003e\",\"legendgroup\":\"TV-Y7-FV\",\"marker\":{\"color\":\"#00cc96\",\"size\":[86],\"sizemode\":\"area\",\"sizeref\":81.98555555555555,\"symbol\":\"circle\"},\"mode\":\"markers\",\"name\":\"TV-Y7-FV\",\"orientation\":\"h\",\"showlegend\":true,\"x\":[86],\"xaxis\":\"x\",\"y\":[\"TV-Y7-FV\"],\"yaxis\":\"y\",\"type\":\"scatter\"},{\"hovertemplate\":\"rating=%{y}\\u003cbr\\u003ecounts=%{marker.size}\\u003cextra\\u003e\\u003c\\u002fextra\\u003e\",\"legendgroup\":\"UR\",\"marker\":{\"color\":\"#ab63fa\",\"size\":[86],\"sizemode\":\"area\",\"sizeref\":81.98555555555555,\"symbol\":\"circle\"},\"mode\":\"markers\",\"name\":\"UR\",\"orientation\":\"h\",\"showlegend\":true,\"x\":[86],\"xaxis\":\"x\",\"y\":[\"UR\"],\"yaxis\":\"y\",\"type\":\"scatter\"}],                        {\"template\":{\"data\":{\"histogram2dcontour\":[{\"type\":\"histogram2dcontour\",\"colorbar\":{\"outlinewidth\":0,\"ticks\":\"\"},\"colorscale\":[[0.0,\"#0d0887\"],[0.1111111111111111,\"#46039f\"],[0.2222222222222222,\"#7201a8\"],[0.3333333333333333,\"#9c179e\"],[0.4444444444444444,\"#bd3786\"],[0.5555555555555556,\"#d8576b\"],[0.6666666666666666,\"#ed7953\"],[0.7777777777777778,\"#fb9f3a\"],[0.8888888888888888,\"#fdca26\"],[1.0,\"#f0f921\"]]}],\"choropleth\":[{\"type\":\"choropleth\",\"colorbar\":{\"outlinewidth\":0,\"ticks\":\"\"}}],\"histogram2d\":[{\"type\":\"histogram2d\",\"colorbar\":{\"outlinewidth\":0,\"ticks\":\"\"},\"colorscale\":[[0.0,\"#0d0887\"],[0.1111111111111111,\"#46039f\"],[0.2222222222222222,\"#7201a8\"],[0.3333333333333333,\"#9c179e\"],[0.4444444444444444,\"#bd3786\"],[0.5555555555555556,\"#d8576b\"],[0.6666666666666666,\"#ed7953\"],[0.7777777777777778,\"#fb9f3a\"],[0.8888888888888888,\"#fdca26\"],[1.0,\"#f0f921\"]]}],\"heatmap\":[{\"type\":\"heatmap\",\"colorbar\":{\"outlinewidth\":0,\"ticks\":\"\"},\"colorscale\":[[0.0,\"#0d0887\"],[0.1111111111111111,\"#46039f\"],[0.2222222222222222,\"#7201a8\"],[0.3333333333333333,\"#9c179e\"],[0.4444444444444444,\"#bd3786\"],[0.5555555555555556,\"#d8576b\"],[0.6666666666666666,\"#ed7953\"],[0.7777777777777778,\"#fb9f3a\"],[0.8888888888888888,\"#fdca26\"],[1.0,\"#f0f921\"]]}],\"heatmapgl\":[{\"type\":\"heatmapgl\",\"colorbar\":{\"outlinewidth\":0,\"ticks\":\"\"},\"colorscale\":[[0.0,\"#0d0887\"],[0.1111111111111111,\"#46039f\"],[0.2222222222222222,\"#7201a8\"],[0.3333333333333333,\"#9c179e\"],[0.4444444444444444,\"#bd3786\"],[0.5555555555555556,\"#d8576b\"],[0.6666666666666666,\"#ed7953\"],[0.7777777777777778,\"#fb9f3a\"],[0.8888888888888888,\"#fdca26\"],[1.0,\"#f0f921\"]]}],\"contourcarpet\":[{\"type\":\"contourcarpet\",\"colorbar\":{\"outlinewidth\":0,\"ticks\":\"\"}}],\"contour\":[{\"type\":\"contour\",\"colorbar\":{\"outlinewidth\":0,\"ticks\":\"\"},\"colorscale\":[[0.0,\"#0d0887\"],[0.1111111111111111,\"#46039f\"],[0.2222222222222222,\"#7201a8\"],[0.3333333333333333,\"#9c179e\"],[0.4444444444444444,\"#bd3786\"],[0.5555555555555556,\"#d8576b\"],[0.6666666666666666,\"#ed7953\"],[0.7777777777777778,\"#fb9f3a\"],[0.8888888888888888,\"#fdca26\"],[1.0,\"#f0f921\"]]}],\"surface\":[{\"type\":\"surface\",\"colorbar\":{\"outlinewidth\":0,\"ticks\":\"\"},\"colorscale\":[[0.0,\"#0d0887\"],[0.1111111111111111,\"#46039f\"],[0.2222222222222222,\"#7201a8\"],[0.3333333333333333,\"#9c179e\"],[0.4444444444444444,\"#bd3786\"],[0.5555555555555556,\"#d8576b\"],[0.6666666666666666,\"#ed7953\"],[0.7777777777777778,\"#fb9f3a\"],[0.8888888888888888,\"#fdca26\"],[1.0,\"#f0f921\"]]}],\"mesh3d\":[{\"type\":\"mesh3d\",\"colorbar\":{\"outlinewidth\":0,\"ticks\":\"\"}}],\"scatter\":[{\"fillpattern\":{\"fillmode\":\"overlay\",\"size\":10,\"solidity\":0.2},\"type\":\"scatter\"}],\"parcoords\":[{\"type\":\"parcoords\",\"line\":{\"colorbar\":{\"outlinewidth\":0,\"ticks\":\"\"}}}],\"scatterpolargl\":[{\"type\":\"scatterpolargl\",\"marker\":{\"colorbar\":{\"outlinewidth\":0,\"ticks\":\"\"}}}],\"bar\":[{\"error_x\":{\"color\":\"#2a3f5f\"},\"error_y\":{\"color\":\"#2a3f5f\"},\"marker\":{\"line\":{\"color\":\"#E5ECF6\",\"width\":0.5},\"pattern\":{\"fillmode\":\"overlay\",\"size\":10,\"solidity\":0.2}},\"type\":\"bar\"}],\"scattergeo\":[{\"type\":\"scattergeo\",\"marker\":{\"colorbar\":{\"outlinewidth\":0,\"ticks\":\"\"}}}],\"scatterpolar\":[{\"type\":\"scatterpolar\",\"marker\":{\"colorbar\":{\"outlinewidth\":0,\"ticks\":\"\"}}}],\"histogram\":[{\"marker\":{\"pattern\":{\"fillmode\":\"overlay\",\"size\":10,\"solidity\":0.2}},\"type\":\"histogram\"}],\"scattergl\":[{\"type\":\"scattergl\",\"marker\":{\"colorbar\":{\"outlinewidth\":0,\"ticks\":\"\"}}}],\"scatter3d\":[{\"type\":\"scatter3d\",\"line\":{\"colorbar\":{\"outlinewidth\":0,\"ticks\":\"\"}},\"marker\":{\"colorbar\":{\"outlinewidth\":0,\"ticks\":\"\"}}}],\"scattermapbox\":[{\"type\":\"scattermapbox\",\"marker\":{\"colorbar\":{\"outlinewidth\":0,\"ticks\":\"\"}}}],\"scatterternary\":[{\"type\":\"scatterternary\",\"marker\":{\"colorbar\":{\"outlinewidth\":0,\"ticks\":\"\"}}}],\"scattercarpet\":[{\"type\":\"scattercarpet\",\"marker\":{\"colorbar\":{\"outlinewidth\":0,\"ticks\":\"\"}}}],\"carpet\":[{\"aaxis\":{\"endlinecolor\":\"#2a3f5f\",\"gridcolor\":\"white\",\"linecolor\":\"white\",\"minorgridcolor\":\"white\",\"startlinecolor\":\"#2a3f5f\"},\"baxis\":{\"endlinecolor\":\"#2a3f5f\",\"gridcolor\":\"white\",\"linecolor\":\"white\",\"minorgridcolor\":\"white\",\"startlinecolor\":\"#2a3f5f\"},\"type\":\"carpet\"}],\"table\":[{\"cells\":{\"fill\":{\"color\":\"#EBF0F8\"},\"line\":{\"color\":\"white\"}},\"header\":{\"fill\":{\"color\":\"#C8D4E3\"},\"line\":{\"color\":\"white\"}},\"type\":\"table\"}],\"barpolar\":[{\"marker\":{\"line\":{\"color\":\"#E5ECF6\",\"width\":0.5},\"pattern\":{\"fillmode\":\"overlay\",\"size\":10,\"solidity\":0.2}},\"type\":\"barpolar\"}],\"pie\":[{\"automargin\":true,\"type\":\"pie\"}]},\"layout\":{\"autotypenumbers\":\"strict\",\"colorway\":[\"#636efa\",\"#EF553B\",\"#00cc96\",\"#ab63fa\",\"#FFA15A\",\"#19d3f3\",\"#FF6692\",\"#B6E880\",\"#FF97FF\",\"#FECB52\"],\"font\":{\"color\":\"#2a3f5f\"},\"hovermode\":\"closest\",\"hoverlabel\":{\"align\":\"left\"},\"paper_bgcolor\":\"white\",\"plot_bgcolor\":\"#E5ECF6\",\"polar\":{\"bgcolor\":\"#E5ECF6\",\"angularaxis\":{\"gridcolor\":\"white\",\"linecolor\":\"white\",\"ticks\":\"\"},\"radialaxis\":{\"gridcolor\":\"white\",\"linecolor\":\"white\",\"ticks\":\"\"}},\"ternary\":{\"bgcolor\":\"#E5ECF6\",\"aaxis\":{\"gridcolor\":\"white\",\"linecolor\":\"white\",\"ticks\":\"\"},\"baxis\":{\"gridcolor\":\"white\",\"linecolor\":\"white\",\"ticks\":\"\"},\"caxis\":{\"gridcolor\":\"white\",\"linecolor\":\"white\",\"ticks\":\"\"}},\"coloraxis\":{\"colorbar\":{\"outlinewidth\":0,\"ticks\":\"\"}},\"colorscale\":{\"sequential\":[[0.0,\"#0d0887\"],[0.1111111111111111,\"#46039f\"],[0.2222222222222222,\"#7201a8\"],[0.3333333333333333,\"#9c179e\"],[0.4444444444444444,\"#bd3786\"],[0.5555555555555556,\"#d8576b\"],[0.6666666666666666,\"#ed7953\"],[0.7777777777777778,\"#fb9f3a\"],[0.8888888888888888,\"#fdca26\"],[1.0,\"#f0f921\"]],\"sequentialminus\":[[0.0,\"#0d0887\"],[0.1111111111111111,\"#46039f\"],[0.2222222222222222,\"#7201a8\"],[0.3333333333333333,\"#9c179e\"],[0.4444444444444444,\"#bd3786\"],[0.5555555555555556,\"#d8576b\"],[0.6666666666666666,\"#ed7953\"],[0.7777777777777778,\"#fb9f3a\"],[0.8888888888888888,\"#fdca26\"],[1.0,\"#f0f921\"]],\"diverging\":[[0,\"#8e0152\"],[0.1,\"#c51b7d\"],[0.2,\"#de77ae\"],[0.3,\"#f1b6da\"],[0.4,\"#fde0ef\"],[0.5,\"#f7f7f7\"],[0.6,\"#e6f5d0\"],[0.7,\"#b8e186\"],[0.8,\"#7fbc41\"],[0.9,\"#4d9221\"],[1,\"#276419\"]]},\"xaxis\":{\"gridcolor\":\"white\",\"linecolor\":\"white\",\"ticks\":\"\",\"title\":{\"standoff\":15},\"zerolinecolor\":\"white\",\"automargin\":true,\"zerolinewidth\":2},\"yaxis\":{\"gridcolor\":\"white\",\"linecolor\":\"white\",\"ticks\":\"\",\"title\":{\"standoff\":15},\"zerolinecolor\":\"white\",\"automargin\":true,\"zerolinewidth\":2},\"scene\":{\"xaxis\":{\"backgroundcolor\":\"#E5ECF6\",\"gridcolor\":\"white\",\"linecolor\":\"white\",\"showbackground\":true,\"ticks\":\"\",\"zerolinecolor\":\"white\",\"gridwidth\":2},\"yaxis\":{\"backgroundcolor\":\"#E5ECF6\",\"gridcolor\":\"white\",\"linecolor\":\"white\",\"showbackground\":true,\"ticks\":\"\",\"zerolinecolor\":\"white\",\"gridwidth\":2},\"zaxis\":{\"backgroundcolor\":\"#E5ECF6\",\"gridcolor\":\"white\",\"linecolor\":\"white\",\"showbackground\":true,\"ticks\":\"\",\"zerolinecolor\":\"white\",\"gridwidth\":2}},\"shapedefaults\":{\"line\":{\"color\":\"#2a3f5f\"}},\"annotationdefaults\":{\"arrowcolor\":\"#2a3f5f\",\"arrowhead\":0,\"arrowwidth\":1},\"geo\":{\"bgcolor\":\"white\",\"landcolor\":\"#E5ECF6\",\"subunitcolor\":\"white\",\"showland\":true,\"showlakes\":true,\"lakecolor\":\"white\"},\"title\":{\"x\":0.05},\"mapbox\":{\"style\":\"light\"}}},\"xaxis\":{\"anchor\":\"y\",\"domain\":[0.0,1.0],\"title\":{\"text\":\"counts\"}},\"yaxis\":{\"anchor\":\"x\",\"domain\":[0.0,1.0],\"title\":{\"text\":\"rating\"},\"categoryorder\":\"array\",\"categoryarray\":[\"UR\",\"TV-Y7-FV\",\"TV-Y7\",\"TV-Y\",\"TV-PG\",\"TV-MA\",\"TV-G\",\"TV-14\",\"R\",\"PG-13\",\"PG\",\"NR\",\"NC-17\",\"G\"]},\"legend\":{\"title\":{\"text\":\"rating\"},\"tracegroupgap\":0,\"itemsizing\":\"constant\"},\"title\":{\"text\":\"Total Content Rating\"}},                        {\"responsive\": true}                    ).then(function(){\n",
       "                            \n",
       "var gd = document.getElementById('bb4c71f6-c467-42c4-89ef-0a2bc257f6d4');\n",
       "var x = new MutationObserver(function (mutations, observer) {{\n",
       "        var display = window.getComputedStyle(gd).display;\n",
       "        if (!display || display === 'none') {{\n",
       "            console.log([gd, 'removed!']);\n",
       "            Plotly.purge(gd);\n",
       "            observer.disconnect();\n",
       "        }}\n",
       "}});\n",
       "\n",
       "// Listen for the removal of the full notebook cells\n",
       "var notebookContainer = gd.closest('#notebook-container');\n",
       "if (notebookContainer) {{\n",
       "    x.observe(notebookContainer, {childList: true});\n",
       "}}\n",
       "\n",
       "// Listen for the clearing of the current output cell\n",
       "var outputEl = gd.closest('.output');\n",
       "if (outputEl) {{\n",
       "    x.observe(outputEl, {childList: true});\n",
       "}}\n",
       "\n",
       "                        })                };                });            </script>        </div>"
      ]
     },
     "metadata": {},
     "output_type": "display_data"
    }
   ],
   "source": [
    "\n",
    "\n",
    "# Grouping the DataFrame by 'rating' and calculating the size of each group\n",
    "df1 = df.groupby(['rating']).size().reset_index(name='counts')\n",
    "\n",
    "# Creating the scatter plot using Plotly Express\n",
    "fig = px.scatter(df1, x=\"counts\", y=\"rating\", color=\"rating\",\n",
    "                 size=\"counts\", size_max=30, title=\"Total Content Rating\")\n",
    "fig.show()\n"
   ]
  },
  {
   "cell_type": "code",
   "execution_count": 188,
   "id": "0c128b14",
   "metadata": {},
   "outputs": [
    {
     "ename": "SyntaxError",
     "evalue": "invalid syntax (4166353635.py, line 3)",
     "output_type": "error",
     "traceback": [
      "\u001b[0;36m  Input \u001b[0;32mIn [188]\u001b[0;36m\u001b[0m\n\u001b[0;31m    'TV-PG\": 'Parental Guidance',\u001b[0m\n\u001b[0m              ^\u001b[0m\n\u001b[0;31mSyntaxError\u001b[0m\u001b[0;31m:\u001b[0m invalid syntax\n"
     ]
    }
   ],
   "source": [
    "# Based on information from Google, the ratings and their relation to what age of people belong to which rating mostly\n",
    "ratings_based_on_age = {\n",
    "'TV-PG\": 'Parental Guidance',\n",
    "'TV-MA\" : 'Mature Audience',\n",
    "'TV-Y7-FV': 'Teens',\n",
    "'TV-Y7': 'Teens'\n",
    "'TV-14\": 'Teens',\n",
    "'R': 'Mature Audience',\n",
    "'TV-Y': 'General Audience',\n",
    "'NR': 'Mature Audience'\n",
    "'PG-13': 'Teens',\n",
    "'TV-G': 'General Audience'\n",
    "'PG\": 'Teens',\n",
    "'G': 'General Audience',\n",
    "'UR': 'Mature Audience'\n",
    "'NC-17': 'Mature Audience'\n",
    "}\n",
    "\n",
    "#Adding a new column which tells what kind of audience are eligible to watch\n",
    "df[ 'Target_audience'] = df['rating']. replace(ratings_based_on_age)\n",
    "df[ 'Target_audience'] unique ()\n",
    "                                               \n",
    "                                               "
   ]
  },
  {
   "cell_type": "code",
   "execution_count": 189,
   "id": "1161cce3",
   "metadata": {},
   "outputs": [
    {
     "name": "stdout",
     "output_type": "stream",
     "text": [
      "['Teens' 'Mature Audience' 'Parental Guidance' 'General Audience']\n"
     ]
    }
   ],
   "source": [
    "# Based on information from Google, the ratings and their relation to what age of people belong to which rating mostly\n",
    "ratings_based_on_age = {\n",
    "    'TV-PG': 'Parental Guidance',\n",
    "    'TV-MA': 'Mature Audience',\n",
    "    'TV-Y7-FV': 'Teens',\n",
    "    'TV-Y7': 'Teens',\n",
    "    'TV-14': 'Teens',\n",
    "    'R': 'Mature Audience',\n",
    "    'TV-Y': 'General Audience',\n",
    "    'NR': 'Mature Audience',\n",
    "    'PG-13': 'Teens',\n",
    "    'TV-G': 'General Audience',\n",
    "    'PG': 'Teens',\n",
    "    'G': 'General Audience',\n",
    "    'UR': 'Mature Audience',\n",
    "    'NC-17': 'Mature Audience'\n",
    "}\n",
    "\n",
    "# Adding a new column which tells what kind of audience are eligible to watch\n",
    "df['Target_audience'] = df['rating'].replace(ratings_based_on_age)\n",
    "df_unique_target_audience = df['Target_audience'].unique()\n",
    "\n",
    "print(df_unique_target_audience)\n"
   ]
  },
  {
   "cell_type": "code",
   "execution_count": 190,
   "id": "6207048e",
   "metadata": {},
   "outputs": [
    {
     "data": {
      "text/html": [
       "<div>\n",
       "<style scoped>\n",
       "    .dataframe tbody tr th:only-of-type {\n",
       "        vertical-align: middle;\n",
       "    }\n",
       "\n",
       "    .dataframe tbody tr th {\n",
       "        vertical-align: top;\n",
       "    }\n",
       "\n",
       "    .dataframe thead th {\n",
       "        text-align: right;\n",
       "    }\n",
       "</style>\n",
       "<table border=\"1\" class=\"dataframe\">\n",
       "  <thead>\n",
       "    <tr style=\"text-align: right;\">\n",
       "      <th></th>\n",
       "      <th>show_id</th>\n",
       "      <th>type</th>\n",
       "      <th>title</th>\n",
       "      <th>date_added</th>\n",
       "      <th>release_year</th>\n",
       "      <th>rating</th>\n",
       "      <th>duration</th>\n",
       "      <th>cast</th>\n",
       "      <th>director</th>\n",
       "      <th>country</th>\n",
       "      <th>listed_in</th>\n",
       "      <th>month_added</th>\n",
       "      <th>month_name</th>\n",
       "      <th>year_added</th>\n",
       "      <th>Target_audience</th>\n",
       "    </tr>\n",
       "  </thead>\n",
       "  <tbody>\n",
       "    <tr>\n",
       "      <th>0</th>\n",
       "      <td>s1</td>\n",
       "      <td>Movie</td>\n",
       "      <td>Dick Johnson Is Dead</td>\n",
       "      <td>2021-09-25</td>\n",
       "      <td>2020</td>\n",
       "      <td>PG-13</td>\n",
       "      <td>90 min</td>\n",
       "      <td>NA</td>\n",
       "      <td>Kirsten Johnson</td>\n",
       "      <td>United States</td>\n",
       "      <td>Documentaries</td>\n",
       "      <td>9</td>\n",
       "      <td>September</td>\n",
       "      <td>2021</td>\n",
       "      <td>Teens</td>\n",
       "    </tr>\n",
       "    <tr>\n",
       "      <th>1</th>\n",
       "      <td>s2</td>\n",
       "      <td>TV Show</td>\n",
       "      <td>Blood &amp; Water</td>\n",
       "      <td>2021-09-24</td>\n",
       "      <td>2021</td>\n",
       "      <td>TV-MA</td>\n",
       "      <td>2 Seasons</td>\n",
       "      <td>Ama Qamata</td>\n",
       "      <td>NA</td>\n",
       "      <td>South Africa</td>\n",
       "      <td>International TV Shows</td>\n",
       "      <td>9</td>\n",
       "      <td>September</td>\n",
       "      <td>2021</td>\n",
       "      <td>Mature Audience</td>\n",
       "    </tr>\n",
       "    <tr>\n",
       "      <th>2</th>\n",
       "      <td>s3</td>\n",
       "      <td>TV Show</td>\n",
       "      <td>Ganglands</td>\n",
       "      <td>2021-09-24</td>\n",
       "      <td>2021</td>\n",
       "      <td>TV-MA</td>\n",
       "      <td>1 Season</td>\n",
       "      <td>Sami Bouajila</td>\n",
       "      <td>Julien Leclercq</td>\n",
       "      <td>NA</td>\n",
       "      <td>Crime TV Shows</td>\n",
       "      <td>9</td>\n",
       "      <td>September</td>\n",
       "      <td>2021</td>\n",
       "      <td>Mature Audience</td>\n",
       "    </tr>\n",
       "    <tr>\n",
       "      <th>3</th>\n",
       "      <td>s4</td>\n",
       "      <td>TV Show</td>\n",
       "      <td>Jailbirds New Orleans</td>\n",
       "      <td>2021-09-24</td>\n",
       "      <td>2021</td>\n",
       "      <td>TV-MA</td>\n",
       "      <td>1 Season</td>\n",
       "      <td>NA</td>\n",
       "      <td>NA</td>\n",
       "      <td>NA</td>\n",
       "      <td>Docuseries</td>\n",
       "      <td>9</td>\n",
       "      <td>September</td>\n",
       "      <td>2021</td>\n",
       "      <td>Mature Audience</td>\n",
       "    </tr>\n",
       "    <tr>\n",
       "      <th>4</th>\n",
       "      <td>s5</td>\n",
       "      <td>TV Show</td>\n",
       "      <td>Kota Factory</td>\n",
       "      <td>2021-09-24</td>\n",
       "      <td>2021</td>\n",
       "      <td>TV-MA</td>\n",
       "      <td>2 Seasons</td>\n",
       "      <td>Mayur More</td>\n",
       "      <td>NA</td>\n",
       "      <td>India</td>\n",
       "      <td>International TV Shows</td>\n",
       "      <td>9</td>\n",
       "      <td>September</td>\n",
       "      <td>2021</td>\n",
       "      <td>Mature Audience</td>\n",
       "    </tr>\n",
       "  </tbody>\n",
       "</table>\n",
       "</div>"
      ],
      "text/plain": [
       "  show_id     type                  title date_added release_year rating  \\\n",
       "0      s1    Movie   Dick Johnson Is Dead 2021-09-25         2020  PG-13   \n",
       "1      s2  TV Show          Blood & Water 2021-09-24         2021  TV-MA   \n",
       "2      s3  TV Show              Ganglands 2021-09-24         2021  TV-MA   \n",
       "3      s4  TV Show  Jailbirds New Orleans 2021-09-24         2021  TV-MA   \n",
       "4      s5  TV Show           Kota Factory 2021-09-24         2021  TV-MA   \n",
       "\n",
       "    duration           cast         director        country  \\\n",
       "0     90 min             NA  Kirsten Johnson  United States   \n",
       "1  2 Seasons     Ama Qamata               NA   South Africa   \n",
       "2   1 Season  Sami Bouajila  Julien Leclercq             NA   \n",
       "3   1 Season             NA               NA             NA   \n",
       "4  2 Seasons     Mayur More               NA          India   \n",
       "\n",
       "                listed_in  month_added month_name  year_added  Target_audience  \n",
       "0           Documentaries            9  September        2021            Teens  \n",
       "1  International TV Shows            9  September        2021  Mature Audience  \n",
       "2          Crime TV Shows            9  September        2021  Mature Audience  \n",
       "3              Docuseries            9  September        2021  Mature Audience  \n",
       "4  International TV Shows            9  September        2021  Mature Audience  "
      ]
     },
     "execution_count": 190,
     "metadata": {},
     "output_type": "execute_result"
    }
   ],
   "source": [
    "df.head(5)"
   ]
  },
  {
   "cell_type": "code",
   "execution_count": 191,
   "id": "777a5b19",
   "metadata": {},
   "outputs": [
    {
     "data": {
      "text/plain": [
       "Mature Audience      101424\n",
       "Teens                 77398\n",
       "Parental Guidance     14913\n",
       "General Audience       7973\n",
       "Name: Target_audience, dtype: int64"
      ]
     },
     "execution_count": 191,
     "metadata": {},
     "output_type": "execute_result"
    }
   ],
   "source": [
    "df.Target_audience.value_counts()"
   ]
  },
  {
   "cell_type": "code",
   "execution_count": 192,
   "id": "feb10c94",
   "metadata": {},
   "outputs": [
    {
     "data": {
      "text/plain": [
       "<AxesSubplot:xlabel='Target_audience', ylabel='count'>"
      ]
     },
     "execution_count": 192,
     "metadata": {},
     "output_type": "execute_result"
    },
    {
     "data": {
      "image/png": "[encoded data removed]",
      "text/plain": [
       "<Figure size 720x360 with 1 Axes>"
      ]
     },
     "metadata": {
      "needs_background": "light"
     },
     "output_type": "display_data"
    }
   ],
   "source": [
    "plt.figure(figsize=(10,5))\n",
    "sns.countplot(x=\"Target_audience\",data= df)"
   ]
  },
  {
   "cell_type": "code",
   "execution_count": 193,
   "id": "33f13d5e",
   "metadata": {},
   "outputs": [
    {
     "data": {
      "text/plain": [
       "<AxesSubplot:xlabel='Target_audience', ylabel='count'>"
      ]
     },
     "execution_count": 193,
     "metadata": {},
     "output_type": "execute_result"
    },
    {
     "data": {
      "image/png": "[encoded data removed]",
      "text/plain": [
       "<Figure size 720x360 with 1 Axes>"
      ]
     },
     "metadata": {
      "needs_background": "light"
     },
     "output_type": "display_data"
    }
   ],
   "source": [
    "plt.figure(figsize=(10,5))\n",
    "sns.countplot(x=\"Target_audience\",data=df, palette= \"Blues\",hue=\"type\")"
   ]
  },
  {
   "cell_type": "markdown",
   "id": "b81666fb",
   "metadata": {},
   "source": [
    "There is more content for mature Audience in Netflix followed by Teens and \"Kids with Parental Guidance\" in both Movies and TV shows"
   ]
  },
  {
   "cell_type": "markdown",
   "id": "397e1720",
   "metadata": {},
   "source": [
    "### Duration Analysis"
   ]
  },
  {
   "cell_type": "code",
   "execution_count": 194,
   "id": "2e55e604",
   "metadata": {},
   "outputs": [
    {
     "data": {
      "text/plain": [
       "1 Season     34977\n",
       "2 Seasons     9485\n",
       "3 Seasons     5060\n",
       "94 min        4343\n",
       "106 min       4040\n",
       "             ...  \n",
       "3 min            4\n",
       "5 min            3\n",
       "11 min           2\n",
       "8 min            2\n",
       "9 min            2\n",
       "Name: duration, Length: 220, dtype: int64"
      ]
     },
     "execution_count": 194,
     "metadata": {},
     "output_type": "execute_result"
    }
   ],
   "source": [
    "df.duration.value_counts()"
   ]
  },
  {
   "cell_type": "code",
   "execution_count": 195,
   "id": "d971c699",
   "metadata": {},
   "outputs": [
    {
     "name": "stderr",
     "output_type": "stream",
     "text": [
      "/Users/harshkumar/opt/anaconda3/envs/iitg/lib/python3.8/site-packages/seaborn/distributions.py:2619: FutureWarning:\n",
      "\n",
      "`distplot` is a deprecated function and will be removed in a future version. Please adapt your code to use either `displot` (a figure-level function with similar flexibility) or `histplot` (an axes-level function for histograms).\n",
      "\n"
     ]
    },
    {
     "data": {
      "image/png": "[encoded data removed]",
      "text/plain": [
       "<Figure size 1080x504 with 1 Axes>"
      ]
     },
     "metadata": {
      "needs_background": "light"
     },
     "output_type": "display_data"
    }
   ],
   "source": [
    "\n",
    "\n",
    "# Selecting rows where type is 'Movie'\n",
    "df_movies = df[df['type'] == 'Movie']\n",
    "\n",
    "# Extracting numeric values from the 'duration' column\n",
    "duration_numeric = df_movies['duration'].str.extract('(\\d+)', expand=False).astype(float)\n",
    "\n",
    "# Plotting the distribution\n",
    "plt.figure(figsize=(15, 7))\n",
    "sns.distplot(duration_numeric, fit=norm, kde=False, color='red', fit_kws={\"color\":\"blue\"})  # Corrected color argument\n",
    "plt.title('Distplot with Normal distribution for Movies', fontweight=\"bold\")\n",
    "plt.show()\n"
   ]
  },
  {
   "cell_type": "code",
   "execution_count": 196,
   "id": "bcac3e46",
   "metadata": {},
   "outputs": [
    {
     "data": {
      "image/png": "[encoded data removed]",
      "text/plain": [
       "<Figure size 1080x504 with 1 Axes>"
      ]
     },
     "metadata": {
      "needs_background": "light"
     },
     "output_type": "display_data"
    }
   ],
   "source": [
    "df_tv_show = df.loc[df['type'] == 'TV Show']\n",
    "plt.figure(figsize=(15, 7))\n",
    "ax = sns.countplot(data=df_tv_show, x='duration', order=df_tv_show['duration'].value_counts().index)\n",
    "plt.title('Countplot for Seasons in TV_Shows', fontweight=\"bold\")\n",
    "plt.xticks(rotation=90)\n",
    "plt.show()\n"
   ]
  },
  {
   "cell_type": "markdown",
   "id": "2513e3fe",
   "metadata": {},
   "source": [
    "1.Netflix has very few short films 2.There are maximum number of films closer to 100 minutes"
   ]
  },
  {
   "cell_type": "markdown",
   "id": "9e540759",
   "metadata": {},
   "source": [
    "## Duration Analysis of TV Shows"
   ]
  },
  {
   "cell_type": "code",
   "execution_count": 197,
   "id": "eba1c35e",
   "metadata": {},
   "outputs": [
    {
     "data": {
      "image/png": "[encoded data removed]",
      "text/plain": [
       "<Figure size 1080x504 with 1 Axes>"
      ]
     },
     "metadata": {
      "needs_background": "light"
     },
     "output_type": "display_data"
    }
   ],
   "source": [
    "df_tv_show = df.loc[df['type'] == 'TV Show']\n",
    "plt.figure(figsize=(15, 7))\n",
    "ax = sns.countplot(data=df_tv_show, x='duration', order=df_tv_show['duration'].value_counts().index)\n",
    "plt.title('Countplot for Seasons in TV_Shows', fontweight=\"bold\")\n",
    "plt.xticks(rotation=90)\n",
    "plt.show()\n"
   ]
  },
  {
   "cell_type": "markdown",
   "id": "d064055d",
   "metadata": {},
   "source": [
    " 1. Most of the TV Shows available o netflix has only one season. 2.Very few TV Shows have more than 8 seasons"
   ]
  },
  {
   "cell_type": "markdown",
   "id": "1db4ba6a",
   "metadata": {},
   "source": [
    "### Top Countries based on content available"
   ]
  },
  {
   "cell_type": "code",
   "execution_count": 198,
   "id": "b996d2c6",
   "metadata": {},
   "outputs": [
    {
     "data": {
      "application/vnd.plotly.v1+json": {
       "config": {
        "plotlyServerURL": "https://plot.ly"
       },
       "data": [
        {
         "alignmentgroup": "True",
         "hovertemplate": "color=United States<br>Country=%{x}<br>Count=%{y}<extra></extra>",
         "legendgroup": "United States",
         "marker": {
          "color": "#636efa",
          "pattern": {
           "shape": ""
          }
         },
         "name": "United States",
         "offsetgroup": "United States",
         "orientation": "v",
         "showlegend": true,
         "textposition": "auto",
         "type": "bar",
         "x": [
          "United States"
         ],
         "xaxis": "x",
         "y": [
          59237
         ],
         "yaxis": "y"
        },
        {
         "alignmentgroup": "True",
         "hovertemplate": "color=India<br>Country=%{x}<br>Count=%{y}<extra></extra>",
         "legendgroup": "India",
         "marker": {
          "color": "#EF553B",
          "pattern": {
           "shape": ""
          }
         },
         "name": "India",
         "offsetgroup": "India",
         "orientation": "v",
         "showlegend": true,
         "textposition": "auto",
         "type": "bar",
         "x": [
          "India"
         ],
         "xaxis": "x",
         "y": [
          22814
         ],
         "yaxis": "y"
        },
        {
         "alignmentgroup": "True",
         "hovertemplate": "color=United Kingdom<br>Country=%{x}<br>Count=%{y}<extra></extra>",
         "legendgroup": "United Kingdom",
         "marker": {
          "color": "#00cc96",
          "pattern": {
           "shape": ""
          }
         },
         "name": "United Kingdom",
         "offsetgroup": "United Kingdom",
         "orientation": "v",
         "showlegend": true,
         "textposition": "auto",
         "type": "bar",
         "x": [
          "United Kingdom"
         ],
         "xaxis": "x",
         "y": [
          12918
         ],
         "yaxis": "y"
        },
        {
         "alignmentgroup": "True",
         "hovertemplate": "color=NA<br>Country=%{x}<br>Count=%{y}<extra></extra>",
         "legendgroup": "NA",
         "marker": {
          "color": "#ab63fa",
          "pattern": {
           "shape": ""
          }
         },
         "name": "NA",
         "offsetgroup": "NA",
         "orientation": "v",
         "showlegend": true,
         "textposition": "auto",
         "type": "bar",
         "x": [
          "NA"
         ],
         "xaxis": "x",
         "y": [
          11894
         ],
         "yaxis": "y"
        },
        {
         "alignmentgroup": "True",
         "hovertemplate": "color=Japan<br>Country=%{x}<br>Count=%{y}<extra></extra>",
         "legendgroup": "Japan",
         "marker": {
          "color": "#FFA15A",
          "pattern": {
           "shape": ""
          }
         },
         "name": "Japan",
         "offsetgroup": "Japan",
         "orientation": "v",
         "showlegend": true,
         "textposition": "auto",
         "type": "bar",
         "x": [
          "Japan"
         ],
         "xaxis": "x",
         "y": [
          8599
         ],
         "yaxis": "y"
        },
        {
         "alignmentgroup": "True",
         "hovertemplate": "color=France<br>Country=%{x}<br>Count=%{y}<extra></extra>",
         "legendgroup": "France",
         "marker": {
          "color": "#19d3f3",
          "pattern": {
           "shape": ""
          }
         },
         "name": "France",
         "offsetgroup": "France",
         "orientation": "v",
         "showlegend": true,
         "textposition": "auto",
         "type": "bar",
         "x": [
          "France"
         ],
         "xaxis": "x",
         "y": [
          8252
         ],
         "yaxis": "y"
        },
        {
         "alignmentgroup": "True",
         "hovertemplate": "color=Canada<br>Country=%{x}<br>Count=%{y}<extra></extra>",
         "legendgroup": "Canada",
         "marker": {
          "color": "#FF6692",
          "pattern": {
           "shape": ""
          }
         },
         "name": "Canada",
         "offsetgroup": "Canada",
         "orientation": "v",
         "showlegend": true,
         "textposition": "auto",
         "type": "bar",
         "x": [
          "Canada"
         ],
         "xaxis": "x",
         "y": [
          7915
         ],
         "yaxis": "y"
        },
        {
         "alignmentgroup": "True",
         "hovertemplate": "color=Spain<br>Country=%{x}<br>Count=%{y}<extra></extra>",
         "legendgroup": "Spain",
         "marker": {
          "color": "#B6E880",
          "pattern": {
           "shape": ""
          }
         },
         "name": "Spain",
         "offsetgroup": "Spain",
         "orientation": "v",
         "showlegend": true,
         "textposition": "auto",
         "type": "bar",
         "x": [
          "Spain"
         ],
         "xaxis": "x",
         "y": [
          5315
         ],
         "yaxis": "y"
        },
        {
         "alignmentgroup": "True",
         "hovertemplate": "color=South Korea<br>Country=%{x}<br>Count=%{y}<extra></extra>",
         "legendgroup": "South Korea",
         "marker": {
          "color": "#FF97FF",
          "pattern": {
           "shape": ""
          }
         },
         "name": "South Korea",
         "offsetgroup": "South Korea",
         "orientation": "v",
         "showlegend": true,
         "textposition": "auto",
         "type": "bar",
         "x": [
          "South Korea"
         ],
         "xaxis": "x",
         "y": [
          5043
         ],
         "yaxis": "y"
        },
        {
         "alignmentgroup": "True",
         "hovertemplate": "color=Germany<br>Country=%{x}<br>Count=%{y}<extra></extra>",
         "legendgroup": "Germany",
         "marker": {
          "color": "#FECB52",
          "pattern": {
           "shape": ""
          }
         },
         "name": "Germany",
         "offsetgroup": "Germany",
         "orientation": "v",
         "showlegend": true,
         "textposition": "auto",
         "type": "bar",
         "x": [
          "Germany"
         ],
         "xaxis": "x",
         "y": [
          4383
         ],
         "yaxis": "y"
        }
       ],
       "layout": {
        "barmode": "relative",
        "legend": {
         "title": {
          "text": "color"
         },
         "tracegroupgap": 0
        },
        "template": {
         "data": {
          "bar": [
           {
            "error_x": {
             "color": "#2a3f5f"
            },
            "error_y": {
             "color": "#2a3f5f"
            },
            "marker": {
             "line": {
              "color": "#E5ECF6",
              "width": 0.5
             },
             "pattern": {
              "fillmode": "overlay",
              "size": 10,
              "solidity": 0.2
             }
            },
            "type": "bar"
           }
          ],
          "barpolar": [
           {
            "marker": {
             "line": {
              "color": "#E5ECF6",
              "width": 0.5
             },
             "pattern": {
              "fillmode": "overlay",
              "size": 10,
              "solidity": 0.2
             }
            },
            "type": "barpolar"
           }
          ],
          "carpet": [
           {
            "aaxis": {
             "endlinecolor": "#2a3f5f",
             "gridcolor": "white",
             "linecolor": "white",
             "minorgridcolor": "white",
             "startlinecolor": "#2a3f5f"
            },
            "baxis": {
             "endlinecolor": "#2a3f5f",
             "gridcolor": "white",
             "linecolor": "white",
             "minorgridcolor": "white",
             "startlinecolor": "#2a3f5f"
            },
            "type": "carpet"
           }
          ],
          "choropleth": [
           {
            "colorbar": {
             "outlinewidth": 0,
             "ticks": ""
            },
            "type": "choropleth"
           }
          ],
          "contour": [
           {
            "colorbar": {
             "outlinewidth": 0,
             "ticks": ""
            },
            "colorscale": [
             [
              0,
              "#0d0887"
             ],
             [
              0.1111111111111111,
              "#46039f"
             ],
             [
              0.2222222222222222,
              "#7201a8"
             ],
             [
              0.3333333333333333,
              "#9c179e"
             ],
             [
              0.4444444444444444,
              "#bd3786"
             ],
             [
              0.5555555555555556,
              "#d8576b"
             ],
             [
              0.6666666666666666,
              "#ed7953"
             ],
             [
              0.7777777777777778,
              "#fb9f3a"
             ],
             [
              0.8888888888888888,
              "#fdca26"
             ],
             [
              1,
              "#f0f921"
             ]
            ],
            "type": "contour"
           }
          ],
          "contourcarpet": [
           {
            "colorbar": {
             "outlinewidth": 0,
             "ticks": ""
            },
            "type": "contourcarpet"
           }
          ],
          "heatmap": [
           {
            "colorbar": {
             "outlinewidth": 0,
             "ticks": ""
            },
            "colorscale": [
             [
              0,
              "#0d0887"
             ],
             [
              0.1111111111111111,
              "#46039f"
             ],
             [
              0.2222222222222222,
              "#7201a8"
             ],
             [
              0.3333333333333333,
              "#9c179e"
             ],
             [
              0.4444444444444444,
              "#bd3786"
             ],
             [
              0.5555555555555556,
              "#d8576b"
             ],
             [
              0.6666666666666666,
              "#ed7953"
             ],
             [
              0.7777777777777778,
              "#fb9f3a"
             ],
             [
              0.8888888888888888,
              "#fdca26"
             ],
             [
              1,
              "#f0f921"
             ]
            ],
            "type": "heatmap"
           }
          ],
          "heatmapgl": [
           {
            "colorbar": {
             "outlinewidth": 0,
             "ticks": ""
            },
            "colorscale": [
             [
              0,
              "#0d0887"
             ],
             [
              0.1111111111111111,
              "#46039f"
             ],
             [
              0.2222222222222222,
              "#7201a8"
             ],
             [
              0.3333333333333333,
              "#9c179e"
             ],
             [
              0.4444444444444444,
              "#bd3786"
             ],
             [
              0.5555555555555556,
              "#d8576b"
             ],
             [
              0.6666666666666666,
              "#ed7953"
             ],
             [
              0.7777777777777778,
              "#fb9f3a"
             ],
             [
              0.8888888888888888,
              "#fdca26"
             ],
             [
              1,
              "#f0f921"
             ]
            ],
            "type": "heatmapgl"
           }
          ],
          "histogram": [
           {
            "marker": {
             "pattern": {
              "fillmode": "overlay",
              "size": 10,
              "solidity": 0.2
             }
            },
            "type": "histogram"
           }
          ],
          "histogram2d": [
           {
            "colorbar": {
             "outlinewidth": 0,
             "ticks": ""
            },
            "colorscale": [
             [
              0,
              "#0d0887"
             ],
             [
              0.1111111111111111,
              "#46039f"
             ],
             [
              0.2222222222222222,
              "#7201a8"
             ],
             [
              0.3333333333333333,
              "#9c179e"
             ],
             [
              0.4444444444444444,
              "#bd3786"
             ],
             [
              0.5555555555555556,
              "#d8576b"
             ],
             [
              0.6666666666666666,
              "#ed7953"
             ],
             [
              0.7777777777777778,
              "#fb9f3a"
             ],
             [
              0.8888888888888888,
              "#fdca26"
             ],
             [
              1,
              "#f0f921"
             ]
            ],
            "type": "histogram2d"
           }
          ],
          "histogram2dcontour": [
           {
            "colorbar": {
             "outlinewidth": 0,
             "ticks": ""
            },
            "colorscale": [
             [
              0,
              "#0d0887"
             ],
             [
              0.1111111111111111,
              "#46039f"
             ],
             [
              0.2222222222222222,
              "#7201a8"
             ],
             [
              0.3333333333333333,
              "#9c179e"
             ],
             [
              0.4444444444444444,
              "#bd3786"
             ],
             [
              0.5555555555555556,
              "#d8576b"
             ],
             [
              0.6666666666666666,
              "#ed7953"
             ],
             [
              0.7777777777777778,
              "#fb9f3a"
             ],
             [
              0.8888888888888888,
              "#fdca26"
             ],
             [
              1,
              "#f0f921"
             ]
            ],
            "type": "histogram2dcontour"
           }
          ],
          "mesh3d": [
           {
            "colorbar": {
             "outlinewidth": 0,
             "ticks": ""
            },
            "type": "mesh3d"
           }
          ],
          "parcoords": [
           {
            "line": {
             "colorbar": {
              "outlinewidth": 0,
              "ticks": ""
             }
            },
            "type": "parcoords"
           }
          ],
          "pie": [
           {
            "automargin": true,
            "type": "pie"
           }
          ],
          "scatter": [
           {
            "fillpattern": {
             "fillmode": "overlay",
             "size": 10,
             "solidity": 0.2
            },
            "type": "scatter"
           }
          ],
          "scatter3d": [
           {
            "line": {
             "colorbar": {
              "outlinewidth": 0,
              "ticks": ""
             }
            },
            "marker": {
             "colorbar": {
              "outlinewidth": 0,
              "ticks": ""
             }
            },
            "type": "scatter3d"
           }
          ],
          "scattercarpet": [
           {
            "marker": {
             "colorbar": {
              "outlinewidth": 0,
              "ticks": ""
             }
            },
            "type": "scattercarpet"
           }
          ],
          "scattergeo": [
           {
            "marker": {
             "colorbar": {
              "outlinewidth": 0,
              "ticks": ""
             }
            },
            "type": "scattergeo"
           }
          ],
          "scattergl": [
           {
            "marker": {
             "colorbar": {
              "outlinewidth": 0,
              "ticks": ""
             }
            },
            "type": "scattergl"
           }
          ],
          "scattermapbox": [
           {
            "marker": {
             "colorbar": {
              "outlinewidth": 0,
              "ticks": ""
             }
            },
            "type": "scattermapbox"
           }
          ],
          "scatterpolar": [
           {
            "marker": {
             "colorbar": {
              "outlinewidth": 0,
              "ticks": ""
             }
            },
            "type": "scatterpolar"
           }
          ],
          "scatterpolargl": [
           {
            "marker": {
             "colorbar": {
              "outlinewidth": 0,
              "ticks": ""
             }
            },
            "type": "scatterpolargl"
           }
          ],
          "scatterternary": [
           {
            "marker": {
             "colorbar": {
              "outlinewidth": 0,
              "ticks": ""
             }
            },
            "type": "scatterternary"
           }
          ],
          "surface": [
           {
            "colorbar": {
             "outlinewidth": 0,
             "ticks": ""
            },
            "colorscale": [
             [
              0,
              "#0d0887"
             ],
             [
              0.1111111111111111,
              "#46039f"
             ],
             [
              0.2222222222222222,
              "#7201a8"
             ],
             [
              0.3333333333333333,
              "#9c179e"
             ],
             [
              0.4444444444444444,
              "#bd3786"
             ],
             [
              0.5555555555555556,
              "#d8576b"
             ],
             [
              0.6666666666666666,
              "#ed7953"
             ],
             [
              0.7777777777777778,
              "#fb9f3a"
             ],
             [
              0.8888888888888888,
              "#fdca26"
             ],
             [
              1,
              "#f0f921"
             ]
            ],
            "type": "surface"
           }
          ],
          "table": [
           {
            "cells": {
             "fill": {
              "color": "#EBF0F8"
             },
             "line": {
              "color": "white"
             }
            },
            "header": {
             "fill": {
              "color": "#C8D4E3"
             },
             "line": {
              "color": "white"
             }
            },
            "type": "table"
           }
          ]
         },
         "layout": {
          "annotationdefaults": {
           "arrowcolor": "#2a3f5f",
           "arrowhead": 0,
           "arrowwidth": 1
          },
          "autotypenumbers": "strict",
          "coloraxis": {
           "colorbar": {
            "outlinewidth": 0,
            "ticks": ""
           }
          },
          "colorscale": {
           "diverging": [
            [
             0,
             "#8e0152"
            ],
            [
             0.1,
             "#c51b7d"
            ],
            [
             0.2,
             "#de77ae"
            ],
            [
             0.3,
             "#f1b6da"
            ],
            [
             0.4,
             "#fde0ef"
            ],
            [
             0.5,
             "#f7f7f7"
            ],
            [
             0.6,
             "#e6f5d0"
            ],
            [
             0.7,
             "#b8e186"
            ],
            [
             0.8,
             "#7fbc41"
            ],
            [
             0.9,
             "#4d9221"
            ],
            [
             1,
             "#276419"
            ]
           ],
           "sequential": [
            [
             0,
             "#0d0887"
            ],
            [
             0.1111111111111111,
             "#46039f"
            ],
            [
             0.2222222222222222,
             "#7201a8"
            ],
            [
             0.3333333333333333,
             "#9c179e"
            ],
            [
             0.4444444444444444,
             "#bd3786"
            ],
            [
             0.5555555555555556,
             "#d8576b"
            ],
            [
             0.6666666666666666,
             "#ed7953"
            ],
            [
             0.7777777777777778,
             "#fb9f3a"
            ],
            [
             0.8888888888888888,
             "#fdca26"
            ],
            [
             1,
             "#f0f921"
            ]
           ],
           "sequentialminus": [
            [
             0,
             "#0d0887"
            ],
            [
             0.1111111111111111,
             "#46039f"
            ],
            [
             0.2222222222222222,
             "#7201a8"
            ],
            [
             0.3333333333333333,
             "#9c179e"
            ],
            [
             0.4444444444444444,
             "#bd3786"
            ],
            [
             0.5555555555555556,
             "#d8576b"
            ],
            [
             0.6666666666666666,
             "#ed7953"
            ],
            [
             0.7777777777777778,
             "#fb9f3a"
            ],
            [
             0.8888888888888888,
             "#fdca26"
            ],
            [
             1,
             "#f0f921"
            ]
           ]
          },
          "colorway": [
           "#636efa",
           "#EF553B",
           "#00cc96",
           "#ab63fa",
           "#FFA15A",
           "#19d3f3",
           "#FF6692",
           "#B6E880",
           "#FF97FF",
           "#FECB52"
          ],
          "font": {
           "color": "#2a3f5f"
          },
          "geo": {
           "bgcolor": "white",
           "lakecolor": "white",
           "landcolor": "#E5ECF6",
           "showlakes": true,
           "showland": true,
           "subunitcolor": "white"
          },
          "hoverlabel": {
           "align": "left"
          },
          "hovermode": "closest",
          "mapbox": {
           "style": "light"
          },
          "paper_bgcolor": "white",
          "plot_bgcolor": "#E5ECF6",
          "polar": {
           "angularaxis": {
            "gridcolor": "white",
            "linecolor": "white",
            "ticks": ""
           },
           "bgcolor": "#E5ECF6",
           "radialaxis": {
            "gridcolor": "white",
            "linecolor": "white",
            "ticks": ""
           }
          },
          "scene": {
           "xaxis": {
            "backgroundcolor": "#E5ECF6",
            "gridcolor": "white",
            "gridwidth": 2,
            "linecolor": "white",
            "showbackground": true,
            "ticks": "",
            "zerolinecolor": "white"
           },
           "yaxis": {
            "backgroundcolor": "#E5ECF6",
            "gridcolor": "white",
            "gridwidth": 2,
            "linecolor": "white",
            "showbackground": true,
            "ticks": "",
            "zerolinecolor": "white"
           },
           "zaxis": {
            "backgroundcolor": "#E5ECF6",
            "gridcolor": "white",
            "gridwidth": 2,
            "linecolor": "white",
            "showbackground": true,
            "ticks": "",
            "zerolinecolor": "white"
           }
          },
          "shapedefaults": {
           "line": {
            "color": "#2a3f5f"
           }
          },
          "ternary": {
           "aaxis": {
            "gridcolor": "white",
            "linecolor": "white",
            "ticks": ""
           },
           "baxis": {
            "gridcolor": "white",
            "linecolor": "white",
            "ticks": ""
           },
           "bgcolor": "#E5ECF6",
           "caxis": {
            "gridcolor": "white",
            "linecolor": "white",
            "ticks": ""
           }
          },
          "title": {
           "x": 0.05
          },
          "xaxis": {
           "automargin": true,
           "gridcolor": "white",
           "linecolor": "white",
           "ticks": "",
           "title": {
            "standoff": 15
           },
           "zerolinecolor": "white",
           "zerolinewidth": 2
          },
          "yaxis": {
           "automargin": true,
           "gridcolor": "white",
           "linecolor": "white",
           "ticks": "",
           "title": {
            "standoff": 15
           },
           "zerolinecolor": "white",
           "zerolinewidth": 2
          }
         }
        },
        "title": {
         "text": "Top 10 Countries"
        },
        "xaxis": {
         "anchor": "y",
         "domain": [
          0,
          1
         ],
         "title": {
          "text": "Country"
         }
        },
        "yaxis": {
         "anchor": "x",
         "domain": [
          0,
          1
         ],
         "title": {
          "text": "Count"
         }
        }
       }
      },
      "text/html": [
       "<div>                            <div id=\"00167029-c6af-40d2-86b9-b6c961f5fa9f\" class=\"plotly-graph-div\" style=\"height:525px; width:100%;\"></div>            <script type=\"text/javascript\">                require([\"plotly\"], function(Plotly) {                    window.PLOTLYENV=window.PLOTLYENV || {};                                    if (document.getElementById(\"00167029-c6af-40d2-86b9-b6c961f5fa9f\")) {                    Plotly.newPlot(                        \"00167029-c6af-40d2-86b9-b6c961f5fa9f\",                        [{\"alignmentgroup\":\"True\",\"hovertemplate\":\"color=United States\\u003cbr\\u003eCountry=%{x}\\u003cbr\\u003eCount=%{y}\\u003cextra\\u003e\\u003c\\u002fextra\\u003e\",\"legendgroup\":\"United States\",\"marker\":{\"color\":\"#636efa\",\"pattern\":{\"shape\":\"\"}},\"name\":\"United States\",\"offsetgroup\":\"United States\",\"orientation\":\"v\",\"showlegend\":true,\"textposition\":\"auto\",\"x\":[\"United States\"],\"xaxis\":\"x\",\"y\":[59237],\"yaxis\":\"y\",\"type\":\"bar\"},{\"alignmentgroup\":\"True\",\"hovertemplate\":\"color=India\\u003cbr\\u003eCountry=%{x}\\u003cbr\\u003eCount=%{y}\\u003cextra\\u003e\\u003c\\u002fextra\\u003e\",\"legendgroup\":\"India\",\"marker\":{\"color\":\"#EF553B\",\"pattern\":{\"shape\":\"\"}},\"name\":\"India\",\"offsetgroup\":\"India\",\"orientation\":\"v\",\"showlegend\":true,\"textposition\":\"auto\",\"x\":[\"India\"],\"xaxis\":\"x\",\"y\":[22814],\"yaxis\":\"y\",\"type\":\"bar\"},{\"alignmentgroup\":\"True\",\"hovertemplate\":\"color=United Kingdom\\u003cbr\\u003eCountry=%{x}\\u003cbr\\u003eCount=%{y}\\u003cextra\\u003e\\u003c\\u002fextra\\u003e\",\"legendgroup\":\"United Kingdom\",\"marker\":{\"color\":\"#00cc96\",\"pattern\":{\"shape\":\"\"}},\"name\":\"United Kingdom\",\"offsetgroup\":\"United Kingdom\",\"orientation\":\"v\",\"showlegend\":true,\"textposition\":\"auto\",\"x\":[\"United Kingdom\"],\"xaxis\":\"x\",\"y\":[12918],\"yaxis\":\"y\",\"type\":\"bar\"},{\"alignmentgroup\":\"True\",\"hovertemplate\":\"color=NA\\u003cbr\\u003eCountry=%{x}\\u003cbr\\u003eCount=%{y}\\u003cextra\\u003e\\u003c\\u002fextra\\u003e\",\"legendgroup\":\"NA\",\"marker\":{\"color\":\"#ab63fa\",\"pattern\":{\"shape\":\"\"}},\"name\":\"NA\",\"offsetgroup\":\"NA\",\"orientation\":\"v\",\"showlegend\":true,\"textposition\":\"auto\",\"x\":[\"NA\"],\"xaxis\":\"x\",\"y\":[11894],\"yaxis\":\"y\",\"type\":\"bar\"},{\"alignmentgroup\":\"True\",\"hovertemplate\":\"color=Japan\\u003cbr\\u003eCountry=%{x}\\u003cbr\\u003eCount=%{y}\\u003cextra\\u003e\\u003c\\u002fextra\\u003e\",\"legendgroup\":\"Japan\",\"marker\":{\"color\":\"#FFA15A\",\"pattern\":{\"shape\":\"\"}},\"name\":\"Japan\",\"offsetgroup\":\"Japan\",\"orientation\":\"v\",\"showlegend\":true,\"textposition\":\"auto\",\"x\":[\"Japan\"],\"xaxis\":\"x\",\"y\":[8599],\"yaxis\":\"y\",\"type\":\"bar\"},{\"alignmentgroup\":\"True\",\"hovertemplate\":\"color=France\\u003cbr\\u003eCountry=%{x}\\u003cbr\\u003eCount=%{y}\\u003cextra\\u003e\\u003c\\u002fextra\\u003e\",\"legendgroup\":\"France\",\"marker\":{\"color\":\"#19d3f3\",\"pattern\":{\"shape\":\"\"}},\"name\":\"France\",\"offsetgroup\":\"France\",\"orientation\":\"v\",\"showlegend\":true,\"textposition\":\"auto\",\"x\":[\"France\"],\"xaxis\":\"x\",\"y\":[8252],\"yaxis\":\"y\",\"type\":\"bar\"},{\"alignmentgroup\":\"True\",\"hovertemplate\":\"color=Canada\\u003cbr\\u003eCountry=%{x}\\u003cbr\\u003eCount=%{y}\\u003cextra\\u003e\\u003c\\u002fextra\\u003e\",\"legendgroup\":\"Canada\",\"marker\":{\"color\":\"#FF6692\",\"pattern\":{\"shape\":\"\"}},\"name\":\"Canada\",\"offsetgroup\":\"Canada\",\"orientation\":\"v\",\"showlegend\":true,\"textposition\":\"auto\",\"x\":[\"Canada\"],\"xaxis\":\"x\",\"y\":[7915],\"yaxis\":\"y\",\"type\":\"bar\"},{\"alignmentgroup\":\"True\",\"hovertemplate\":\"color=Spain\\u003cbr\\u003eCountry=%{x}\\u003cbr\\u003eCount=%{y}\\u003cextra\\u003e\\u003c\\u002fextra\\u003e\",\"legendgroup\":\"Spain\",\"marker\":{\"color\":\"#B6E880\",\"pattern\":{\"shape\":\"\"}},\"name\":\"Spain\",\"offsetgroup\":\"Spain\",\"orientation\":\"v\",\"showlegend\":true,\"textposition\":\"auto\",\"x\":[\"Spain\"],\"xaxis\":\"x\",\"y\":[5315],\"yaxis\":\"y\",\"type\":\"bar\"},{\"alignmentgroup\":\"True\",\"hovertemplate\":\"color=South Korea\\u003cbr\\u003eCountry=%{x}\\u003cbr\\u003eCount=%{y}\\u003cextra\\u003e\\u003c\\u002fextra\\u003e\",\"legendgroup\":\"South Korea\",\"marker\":{\"color\":\"#FF97FF\",\"pattern\":{\"shape\":\"\"}},\"name\":\"South Korea\",\"offsetgroup\":\"South Korea\",\"orientation\":\"v\",\"showlegend\":true,\"textposition\":\"auto\",\"x\":[\"South Korea\"],\"xaxis\":\"x\",\"y\":[5043],\"yaxis\":\"y\",\"type\":\"bar\"},{\"alignmentgroup\":\"True\",\"hovertemplate\":\"color=Germany\\u003cbr\\u003eCountry=%{x}\\u003cbr\\u003eCount=%{y}\\u003cextra\\u003e\\u003c\\u002fextra\\u003e\",\"legendgroup\":\"Germany\",\"marker\":{\"color\":\"#FECB52\",\"pattern\":{\"shape\":\"\"}},\"name\":\"Germany\",\"offsetgroup\":\"Germany\",\"orientation\":\"v\",\"showlegend\":true,\"textposition\":\"auto\",\"x\":[\"Germany\"],\"xaxis\":\"x\",\"y\":[4383],\"yaxis\":\"y\",\"type\":\"bar\"}],                        {\"template\":{\"data\":{\"histogram2dcontour\":[{\"type\":\"histogram2dcontour\",\"colorbar\":{\"outlinewidth\":0,\"ticks\":\"\"},\"colorscale\":[[0.0,\"#0d0887\"],[0.1111111111111111,\"#46039f\"],[0.2222222222222222,\"#7201a8\"],[0.3333333333333333,\"#9c179e\"],[0.4444444444444444,\"#bd3786\"],[0.5555555555555556,\"#d8576b\"],[0.6666666666666666,\"#ed7953\"],[0.7777777777777778,\"#fb9f3a\"],[0.8888888888888888,\"#fdca26\"],[1.0,\"#f0f921\"]]}],\"choropleth\":[{\"type\":\"choropleth\",\"colorbar\":{\"outlinewidth\":0,\"ticks\":\"\"}}],\"histogram2d\":[{\"type\":\"histogram2d\",\"colorbar\":{\"outlinewidth\":0,\"ticks\":\"\"},\"colorscale\":[[0.0,\"#0d0887\"],[0.1111111111111111,\"#46039f\"],[0.2222222222222222,\"#7201a8\"],[0.3333333333333333,\"#9c179e\"],[0.4444444444444444,\"#bd3786\"],[0.5555555555555556,\"#d8576b\"],[0.6666666666666666,\"#ed7953\"],[0.7777777777777778,\"#fb9f3a\"],[0.8888888888888888,\"#fdca26\"],[1.0,\"#f0f921\"]]}],\"heatmap\":[{\"type\":\"heatmap\",\"colorbar\":{\"outlinewidth\":0,\"ticks\":\"\"},\"colorscale\":[[0.0,\"#0d0887\"],[0.1111111111111111,\"#46039f\"],[0.2222222222222222,\"#7201a8\"],[0.3333333333333333,\"#9c179e\"],[0.4444444444444444,\"#bd3786\"],[0.5555555555555556,\"#d8576b\"],[0.6666666666666666,\"#ed7953\"],[0.7777777777777778,\"#fb9f3a\"],[0.8888888888888888,\"#fdca26\"],[1.0,\"#f0f921\"]]}],\"heatmapgl\":[{\"type\":\"heatmapgl\",\"colorbar\":{\"outlinewidth\":0,\"ticks\":\"\"},\"colorscale\":[[0.0,\"#0d0887\"],[0.1111111111111111,\"#46039f\"],[0.2222222222222222,\"#7201a8\"],[0.3333333333333333,\"#9c179e\"],[0.4444444444444444,\"#bd3786\"],[0.5555555555555556,\"#d8576b\"],[0.6666666666666666,\"#ed7953\"],[0.7777777777777778,\"#fb9f3a\"],[0.8888888888888888,\"#fdca26\"],[1.0,\"#f0f921\"]]}],\"contourcarpet\":[{\"type\":\"contourcarpet\",\"colorbar\":{\"outlinewidth\":0,\"ticks\":\"\"}}],\"contour\":[{\"type\":\"contour\",\"colorbar\":{\"outlinewidth\":0,\"ticks\":\"\"},\"colorscale\":[[0.0,\"#0d0887\"],[0.1111111111111111,\"#46039f\"],[0.2222222222222222,\"#7201a8\"],[0.3333333333333333,\"#9c179e\"],[0.4444444444444444,\"#bd3786\"],[0.5555555555555556,\"#d8576b\"],[0.6666666666666666,\"#ed7953\"],[0.7777777777777778,\"#fb9f3a\"],[0.8888888888888888,\"#fdca26\"],[1.0,\"#f0f921\"]]}],\"surface\":[{\"type\":\"surface\",\"colorbar\":{\"outlinewidth\":0,\"ticks\":\"\"},\"colorscale\":[[0.0,\"#0d0887\"],[0.1111111111111111,\"#46039f\"],[0.2222222222222222,\"#7201a8\"],[0.3333333333333333,\"#9c179e\"],[0.4444444444444444,\"#bd3786\"],[0.5555555555555556,\"#d8576b\"],[0.6666666666666666,\"#ed7953\"],[0.7777777777777778,\"#fb9f3a\"],[0.8888888888888888,\"#fdca26\"],[1.0,\"#f0f921\"]]}],\"mesh3d\":[{\"type\":\"mesh3d\",\"colorbar\":{\"outlinewidth\":0,\"ticks\":\"\"}}],\"scatter\":[{\"fillpattern\":{\"fillmode\":\"overlay\",\"size\":10,\"solidity\":0.2},\"type\":\"scatter\"}],\"parcoords\":[{\"type\":\"parcoords\",\"line\":{\"colorbar\":{\"outlinewidth\":0,\"ticks\":\"\"}}}],\"scatterpolargl\":[{\"type\":\"scatterpolargl\",\"marker\":{\"colorbar\":{\"outlinewidth\":0,\"ticks\":\"\"}}}],\"bar\":[{\"error_x\":{\"color\":\"#2a3f5f\"},\"error_y\":{\"color\":\"#2a3f5f\"},\"marker\":{\"line\":{\"color\":\"#E5ECF6\",\"width\":0.5},\"pattern\":{\"fillmode\":\"overlay\",\"size\":10,\"solidity\":0.2}},\"type\":\"bar\"}],\"scattergeo\":[{\"type\":\"scattergeo\",\"marker\":{\"colorbar\":{\"outlinewidth\":0,\"ticks\":\"\"}}}],\"scatterpolar\":[{\"type\":\"scatterpolar\",\"marker\":{\"colorbar\":{\"outlinewidth\":0,\"ticks\":\"\"}}}],\"histogram\":[{\"marker\":{\"pattern\":{\"fillmode\":\"overlay\",\"size\":10,\"solidity\":0.2}},\"type\":\"histogram\"}],\"scattergl\":[{\"type\":\"scattergl\",\"marker\":{\"colorbar\":{\"outlinewidth\":0,\"ticks\":\"\"}}}],\"scatter3d\":[{\"type\":\"scatter3d\",\"line\":{\"colorbar\":{\"outlinewidth\":0,\"ticks\":\"\"}},\"marker\":{\"colorbar\":{\"outlinewidth\":0,\"ticks\":\"\"}}}],\"scattermapbox\":[{\"type\":\"scattermapbox\",\"marker\":{\"colorbar\":{\"outlinewidth\":0,\"ticks\":\"\"}}}],\"scatterternary\":[{\"type\":\"scatterternary\",\"marker\":{\"colorbar\":{\"outlinewidth\":0,\"ticks\":\"\"}}}],\"scattercarpet\":[{\"type\":\"scattercarpet\",\"marker\":{\"colorbar\":{\"outlinewidth\":0,\"ticks\":\"\"}}}],\"carpet\":[{\"aaxis\":{\"endlinecolor\":\"#2a3f5f\",\"gridcolor\":\"white\",\"linecolor\":\"white\",\"minorgridcolor\":\"white\",\"startlinecolor\":\"#2a3f5f\"},\"baxis\":{\"endlinecolor\":\"#2a3f5f\",\"gridcolor\":\"white\",\"linecolor\":\"white\",\"minorgridcolor\":\"white\",\"startlinecolor\":\"#2a3f5f\"},\"type\":\"carpet\"}],\"table\":[{\"cells\":{\"fill\":{\"color\":\"#EBF0F8\"},\"line\":{\"color\":\"white\"}},\"header\":{\"fill\":{\"color\":\"#C8D4E3\"},\"line\":{\"color\":\"white\"}},\"type\":\"table\"}],\"barpolar\":[{\"marker\":{\"line\":{\"color\":\"#E5ECF6\",\"width\":0.5},\"pattern\":{\"fillmode\":\"overlay\",\"size\":10,\"solidity\":0.2}},\"type\":\"barpolar\"}],\"pie\":[{\"automargin\":true,\"type\":\"pie\"}]},\"layout\":{\"autotypenumbers\":\"strict\",\"colorway\":[\"#636efa\",\"#EF553B\",\"#00cc96\",\"#ab63fa\",\"#FFA15A\",\"#19d3f3\",\"#FF6692\",\"#B6E880\",\"#FF97FF\",\"#FECB52\"],\"font\":{\"color\":\"#2a3f5f\"},\"hovermode\":\"closest\",\"hoverlabel\":{\"align\":\"left\"},\"paper_bgcolor\":\"white\",\"plot_bgcolor\":\"#E5ECF6\",\"polar\":{\"bgcolor\":\"#E5ECF6\",\"angularaxis\":{\"gridcolor\":\"white\",\"linecolor\":\"white\",\"ticks\":\"\"},\"radialaxis\":{\"gridcolor\":\"white\",\"linecolor\":\"white\",\"ticks\":\"\"}},\"ternary\":{\"bgcolor\":\"#E5ECF6\",\"aaxis\":{\"gridcolor\":\"white\",\"linecolor\":\"white\",\"ticks\":\"\"},\"baxis\":{\"gridcolor\":\"white\",\"linecolor\":\"white\",\"ticks\":\"\"},\"caxis\":{\"gridcolor\":\"white\",\"linecolor\":\"white\",\"ticks\":\"\"}},\"coloraxis\":{\"colorbar\":{\"outlinewidth\":0,\"ticks\":\"\"}},\"colorscale\":{\"sequential\":[[0.0,\"#0d0887\"],[0.1111111111111111,\"#46039f\"],[0.2222222222222222,\"#7201a8\"],[0.3333333333333333,\"#9c179e\"],[0.4444444444444444,\"#bd3786\"],[0.5555555555555556,\"#d8576b\"],[0.6666666666666666,\"#ed7953\"],[0.7777777777777778,\"#fb9f3a\"],[0.8888888888888888,\"#fdca26\"],[1.0,\"#f0f921\"]],\"sequentialminus\":[[0.0,\"#0d0887\"],[0.1111111111111111,\"#46039f\"],[0.2222222222222222,\"#7201a8\"],[0.3333333333333333,\"#9c179e\"],[0.4444444444444444,\"#bd3786\"],[0.5555555555555556,\"#d8576b\"],[0.6666666666666666,\"#ed7953\"],[0.7777777777777778,\"#fb9f3a\"],[0.8888888888888888,\"#fdca26\"],[1.0,\"#f0f921\"]],\"diverging\":[[0,\"#8e0152\"],[0.1,\"#c51b7d\"],[0.2,\"#de77ae\"],[0.3,\"#f1b6da\"],[0.4,\"#fde0ef\"],[0.5,\"#f7f7f7\"],[0.6,\"#e6f5d0\"],[0.7,\"#b8e186\"],[0.8,\"#7fbc41\"],[0.9,\"#4d9221\"],[1,\"#276419\"]]},\"xaxis\":{\"gridcolor\":\"white\",\"linecolor\":\"white\",\"ticks\":\"\",\"title\":{\"standoff\":15},\"zerolinecolor\":\"white\",\"automargin\":true,\"zerolinewidth\":2},\"yaxis\":{\"gridcolor\":\"white\",\"linecolor\":\"white\",\"ticks\":\"\",\"title\":{\"standoff\":15},\"zerolinecolor\":\"white\",\"automargin\":true,\"zerolinewidth\":2},\"scene\":{\"xaxis\":{\"backgroundcolor\":\"#E5ECF6\",\"gridcolor\":\"white\",\"linecolor\":\"white\",\"showbackground\":true,\"ticks\":\"\",\"zerolinecolor\":\"white\",\"gridwidth\":2},\"yaxis\":{\"backgroundcolor\":\"#E5ECF6\",\"gridcolor\":\"white\",\"linecolor\":\"white\",\"showbackground\":true,\"ticks\":\"\",\"zerolinecolor\":\"white\",\"gridwidth\":2},\"zaxis\":{\"backgroundcolor\":\"#E5ECF6\",\"gridcolor\":\"white\",\"linecolor\":\"white\",\"showbackground\":true,\"ticks\":\"\",\"zerolinecolor\":\"white\",\"gridwidth\":2}},\"shapedefaults\":{\"line\":{\"color\":\"#2a3f5f\"}},\"annotationdefaults\":{\"arrowcolor\":\"#2a3f5f\",\"arrowhead\":0,\"arrowwidth\":1},\"geo\":{\"bgcolor\":\"white\",\"landcolor\":\"#E5ECF6\",\"subunitcolor\":\"white\",\"showland\":true,\"showlakes\":true,\"lakecolor\":\"white\"},\"title\":{\"x\":0.05},\"mapbox\":{\"style\":\"light\"}}},\"xaxis\":{\"anchor\":\"y\",\"domain\":[0.0,1.0],\"title\":{\"text\":\"Country\"}},\"yaxis\":{\"anchor\":\"x\",\"domain\":[0.0,1.0],\"title\":{\"text\":\"Count\"}},\"legend\":{\"title\":{\"text\":\"color\"},\"tracegroupgap\":0},\"title\":{\"text\":\"Top 10 Countries\"},\"barmode\":\"relative\"},                        {\"responsive\": true}                    ).then(function(){\n",
       "                            \n",
       "var gd = document.getElementById('00167029-c6af-40d2-86b9-b6c961f5fa9f');\n",
       "var x = new MutationObserver(function (mutations, observer) {{\n",
       "        var display = window.getComputedStyle(gd).display;\n",
       "        if (!display || display === 'none') {{\n",
       "            console.log([gd, 'removed!']);\n",
       "            Plotly.purge(gd);\n",
       "            observer.disconnect();\n",
       "        }}\n",
       "}});\n",
       "\n",
       "// Listen for the removal of the full notebook cells\n",
       "var notebookContainer = gd.closest('#notebook-container');\n",
       "if (notebookContainer) {{\n",
       "    x.observe(notebookContainer, {childList: true});\n",
       "}}\n",
       "\n",
       "// Listen for the clearing of the current output cell\n",
       "var outputEl = gd.closest('.output');\n",
       "if (outputEl) {{\n",
       "    x.observe(outputEl, {childList: true});\n",
       "}}\n",
       "\n",
       "                        })                };                });            </script>        </div>"
      ]
     },
     "metadata": {},
     "output_type": "display_data"
    }
   ],
   "source": [
    "\n",
    "\n",
    "df_country_mx = df['country'].value_counts()[:10]\n",
    "fig = px.bar(x=df_country_mx.index, y=df_country_mx.values, color=df_country_mx.index, title='Top 10 Countries', labels={'x': 'Country', 'y': 'Count'})\n",
    "fig.show()\n"
   ]
  },
  {
   "cell_type": "markdown",
   "id": "d67bf692",
   "metadata": {},
   "source": [
    "United States has the maximum content available followed by India and United Kingdom"
   ]
  },
  {
   "cell_type": "markdown",
   "id": "a66b2114",
   "metadata": {},
   "source": [
    "### Countries having minimum content on netflix"
   ]
  },
  {
   "cell_type": "code",
   "execution_count": 199,
   "id": "3bea5b42",
   "metadata": {},
   "outputs": [
    {
     "data": {
      "application/vnd.plotly.v1+json": {
       "config": {
        "plotlyServerURL": "https://plot.ly"
       },
       "data": [
        {
         "alignmentgroup": "True",
         "hovertemplate": "color=Nicaragua<br>x=%{x}<br>y=%{y}<extra></extra>",
         "legendgroup": "Nicaragua",
         "marker": {
          "color": "#636efa",
          "pattern": {
           "shape": ""
          }
         },
         "name": "Nicaragua",
         "offsetgroup": "Nicaragua",
         "orientation": "v",
         "showlegend": true,
         "textposition": "auto",
         "type": "bar",
         "x": [
          "Nicaragua"
         ],
         "xaxis": "x",
         "y": [
          1
         ],
         "yaxis": "y"
        },
        {
         "alignmentgroup": "True",
         "hovertemplate": "color=Afghanistan<br>x=%{x}<br>y=%{y}<extra></extra>",
         "legendgroup": "Afghanistan",
         "marker": {
          "color": "#EF553B",
          "pattern": {
           "shape": ""
          }
         },
         "name": "Afghanistan",
         "offsetgroup": "Afghanistan",
         "orientation": "v",
         "showlegend": true,
         "textposition": "auto",
         "type": "bar",
         "x": [
          "Afghanistan"
         ],
         "xaxis": "x",
         "y": [
          2
         ],
         "yaxis": "y"
        },
        {
         "alignmentgroup": "True",
         "hovertemplate": "color=Ecuador<br>x=%{x}<br>y=%{y}<extra></extra>",
         "legendgroup": "Ecuador",
         "marker": {
          "color": "#00cc96",
          "pattern": {
           "shape": ""
          }
         },
         "name": "Ecuador",
         "offsetgroup": "Ecuador",
         "orientation": "v",
         "showlegend": true,
         "textposition": "auto",
         "type": "bar",
         "x": [
          "Ecuador"
         ],
         "xaxis": "x",
         "y": [
          12
         ],
         "yaxis": "y"
        },
        {
         "alignmentgroup": "True",
         "hovertemplate": "color=Latvia<br>x=%{x}<br>y=%{y}<extra></extra>",
         "legendgroup": "Latvia",
         "marker": {
          "color": "#ab63fa",
          "pattern": {
           "shape": ""
          }
         },
         "name": "Latvia",
         "offsetgroup": "Latvia",
         "orientation": "v",
         "showlegend": true,
         "textposition": "auto",
         "type": "bar",
         "x": [
          "Latvia"
         ],
         "xaxis": "x",
         "y": [
          22
         ],
         "yaxis": "y"
        },
        {
         "alignmentgroup": "True",
         "hovertemplate": "color=Poland,<br>x=%{x}<br>y=%{y}<extra></extra>",
         "legendgroup": "Poland,",
         "marker": {
          "color": "#FFA15A",
          "pattern": {
           "shape": ""
          }
         },
         "name": "Poland,",
         "offsetgroup": "Poland,",
         "orientation": "v",
         "showlegend": true,
         "textposition": "auto",
         "type": "bar",
         "x": [
          "Poland,"
         ],
         "xaxis": "x",
         "y": [
          27
         ],
         "yaxis": "y"
        },
        {
         "alignmentgroup": "True",
         "hovertemplate": "color=Nepal<br>x=%{x}<br>y=%{y}<extra></extra>",
         "legendgroup": "Nepal",
         "marker": {
          "color": "#19d3f3",
          "pattern": {
           "shape": ""
          }
         },
         "name": "Nepal",
         "offsetgroup": "Nepal",
         "orientation": "v",
         "showlegend": true,
         "textposition": "auto",
         "type": "bar",
         "x": [
          "Nepal"
         ],
         "xaxis": "x",
         "y": [
          48
         ],
         "yaxis": "y"
        },
        {
         "alignmentgroup": "True",
         "hovertemplate": "color=Cambodia<br>x=%{x}<br>y=%{y}<extra></extra>",
         "legendgroup": "Cambodia",
         "marker": {
          "color": "#FF6692",
          "pattern": {
           "shape": ""
          }
         },
         "name": "Cambodia",
         "offsetgroup": "Cambodia",
         "orientation": "v",
         "showlegend": true,
         "textposition": "auto",
         "type": "bar",
         "x": [
          "Cambodia"
         ],
         "xaxis": "x",
         "y": [
          90
         ],
         "yaxis": "y"
        },
        {
         "alignmentgroup": "True",
         "hovertemplate": "color=Bulgaria<br>x=%{x}<br>y=%{y}<extra></extra>",
         "legendgroup": "Bulgaria",
         "marker": {
          "color": "#B6E880",
          "pattern": {
           "shape": ""
          }
         },
         "name": "Bulgaria",
         "offsetgroup": "Bulgaria",
         "orientation": "v",
         "showlegend": true,
         "textposition": "auto",
         "type": "bar",
         "x": [
          "Bulgaria"
         ],
         "xaxis": "x",
         "y": [
          173
         ],
         "yaxis": "y"
        },
        {
         "alignmentgroup": "True",
         "hovertemplate": "color=Romania<br>x=%{x}<br>y=%{y}<extra></extra>",
         "legendgroup": "Romania",
         "marker": {
          "color": "#FF97FF",
          "pattern": {
           "shape": ""
          }
         },
         "name": "Romania",
         "offsetgroup": "Romania",
         "orientation": "v",
         "showlegend": true,
         "textposition": "auto",
         "type": "bar",
         "x": [
          "Romania"
         ],
         "xaxis": "x",
         "y": [
          279
         ],
         "yaxis": "y"
        },
        {
         "alignmentgroup": "True",
         "hovertemplate": "color=New Zealand<br>x=%{x}<br>y=%{y}<extra></extra>",
         "legendgroup": "New Zealand",
         "marker": {
          "color": "#FECB52",
          "pattern": {
           "shape": ""
          }
         },
         "name": "New Zealand",
         "offsetgroup": "New Zealand",
         "orientation": "v",
         "showlegend": true,
         "textposition": "auto",
         "type": "bar",
         "x": [
          "New Zealand"
         ],
         "xaxis": "x",
         "y": [
          579
         ],
         "yaxis": "y"
        },
        {
         "alignmentgroup": "True",
         "hovertemplate": "color=Ireland<br>x=%{x}<br>y=%{y}<extra></extra>",
         "legendgroup": "Ireland",
         "marker": {
          "color": "#636efa",
          "pattern": {
           "shape": ""
          }
         },
         "name": "Ireland",
         "offsetgroup": "Ireland",
         "orientation": "v",
         "showlegend": true,
         "textposition": "auto",
         "type": "bar",
         "x": [
          "Ireland"
         ],
         "xaxis": "x",
         "y": [
          1071
         ],
         "yaxis": "y"
        },
        {
         "alignmentgroup": "True",
         "hovertemplate": "color=Indonesia<br>x=%{x}<br>y=%{y}<extra></extra>",
         "legendgroup": "Indonesia",
         "marker": {
          "color": "#EF553B",
          "pattern": {
           "shape": ""
          }
         },
         "name": "Indonesia",
         "offsetgroup": "Indonesia",
         "orientation": "v",
         "showlegend": true,
         "textposition": "auto",
         "type": "bar",
         "x": [
          "Indonesia"
         ],
         "xaxis": "x",
         "y": [
          2126
         ],
         "yaxis": "y"
        },
        {
         "alignmentgroup": "True",
         "hovertemplate": "color=Spain<br>x=%{x}<br>y=%{y}<extra></extra>",
         "legendgroup": "Spain",
         "marker": {
          "color": "#00cc96",
          "pattern": {
           "shape": ""
          }
         },
         "name": "Spain",
         "offsetgroup": "Spain",
         "orientation": "v",
         "showlegend": true,
         "textposition": "auto",
         "type": "bar",
         "x": [
          "Spain"
         ],
         "xaxis": "x",
         "y": [
          5315
         ],
         "yaxis": "y"
        }
       ],
       "layout": {
        "barmode": "relative",
        "legend": {
         "title": {
          "text": "color"
         },
         "tracegroupgap": 0
        },
        "template": {
         "data": {
          "bar": [
           {
            "error_x": {
             "color": "#2a3f5f"
            },
            "error_y": {
             "color": "#2a3f5f"
            },
            "marker": {
             "line": {
              "color": "#E5ECF6",
              "width": 0.5
             },
             "pattern": {
              "fillmode": "overlay",
              "size": 10,
              "solidity": 0.2
             }
            },
            "type": "bar"
           }
          ],
          "barpolar": [
           {
            "marker": {
             "line": {
              "color": "#E5ECF6",
              "width": 0.5
             },
             "pattern": {
              "fillmode": "overlay",
              "size": 10,
              "solidity": 0.2
             }
            },
            "type": "barpolar"
           }
          ],
          "carpet": [
           {
            "aaxis": {
             "endlinecolor": "#2a3f5f",
             "gridcolor": "white",
             "linecolor": "white",
             "minorgridcolor": "white",
             "startlinecolor": "#2a3f5f"
            },
            "baxis": {
             "endlinecolor": "#2a3f5f",
             "gridcolor": "white",
             "linecolor": "white",
             "minorgridcolor": "white",
             "startlinecolor": "#2a3f5f"
            },
            "type": "carpet"
           }
          ],
          "choropleth": [
           {
            "colorbar": {
             "outlinewidth": 0,
             "ticks": ""
            },
            "type": "choropleth"
           }
          ],
          "contour": [
           {
            "colorbar": {
             "outlinewidth": 0,
             "ticks": ""
            },
            "colorscale": [
             [
              0,
              "#0d0887"
             ],
             [
              0.1111111111111111,
              "#46039f"
             ],
             [
              0.2222222222222222,
              "#7201a8"
             ],
             [
              0.3333333333333333,
              "#9c179e"
             ],
             [
              0.4444444444444444,
              "#bd3786"
             ],
             [
              0.5555555555555556,
              "#d8576b"
             ],
             [
              0.6666666666666666,
              "#ed7953"
             ],
             [
              0.7777777777777778,
              "#fb9f3a"
             ],
             [
              0.8888888888888888,
              "#fdca26"
             ],
             [
              1,
              "#f0f921"
             ]
            ],
            "type": "contour"
           }
          ],
          "contourcarpet": [
           {
            "colorbar": {
             "outlinewidth": 0,
             "ticks": ""
            },
            "type": "contourcarpet"
           }
          ],
          "heatmap": [
           {
            "colorbar": {
             "outlinewidth": 0,
             "ticks": ""
            },
            "colorscale": [
             [
              0,
              "#0d0887"
             ],
             [
              0.1111111111111111,
              "#46039f"
             ],
             [
              0.2222222222222222,
              "#7201a8"
             ],
             [
              0.3333333333333333,
              "#9c179e"
             ],
             [
              0.4444444444444444,
              "#bd3786"
             ],
             [
              0.5555555555555556,
              "#d8576b"
             ],
             [
              0.6666666666666666,
              "#ed7953"
             ],
             [
              0.7777777777777778,
              "#fb9f3a"
             ],
             [
              0.8888888888888888,
              "#fdca26"
             ],
             [
              1,
              "#f0f921"
             ]
            ],
            "type": "heatmap"
           }
          ],
          "heatmapgl": [
           {
            "colorbar": {
             "outlinewidth": 0,
             "ticks": ""
            },
            "colorscale": [
             [
              0,
              "#0d0887"
             ],
             [
              0.1111111111111111,
              "#46039f"
             ],
             [
              0.2222222222222222,
              "#7201a8"
             ],
             [
              0.3333333333333333,
              "#9c179e"
             ],
             [
              0.4444444444444444,
              "#bd3786"
             ],
             [
              0.5555555555555556,
              "#d8576b"
             ],
             [
              0.6666666666666666,
              "#ed7953"
             ],
             [
              0.7777777777777778,
              "#fb9f3a"
             ],
             [
              0.8888888888888888,
              "#fdca26"
             ],
             [
              1,
              "#f0f921"
             ]
            ],
            "type": "heatmapgl"
           }
          ],
          "histogram": [
           {
            "marker": {
             "pattern": {
              "fillmode": "overlay",
              "size": 10,
              "solidity": 0.2
             }
            },
            "type": "histogram"
           }
          ],
          "histogram2d": [
           {
            "colorbar": {
             "outlinewidth": 0,
             "ticks": ""
            },
            "colorscale": [
             [
              0,
              "#0d0887"
             ],
             [
              0.1111111111111111,
              "#46039f"
             ],
             [
              0.2222222222222222,
              "#7201a8"
             ],
             [
              0.3333333333333333,
              "#9c179e"
             ],
             [
              0.4444444444444444,
              "#bd3786"
             ],
             [
              0.5555555555555556,
              "#d8576b"
             ],
             [
              0.6666666666666666,
              "#ed7953"
             ],
             [
              0.7777777777777778,
              "#fb9f3a"
             ],
             [
              0.8888888888888888,
              "#fdca26"
             ],
             [
              1,
              "#f0f921"
             ]
            ],
            "type": "histogram2d"
           }
          ],
          "histogram2dcontour": [
           {
            "colorbar": {
             "outlinewidth": 0,
             "ticks": ""
            },
            "colorscale": [
             [
              0,
              "#0d0887"
             ],
             [
              0.1111111111111111,
              "#46039f"
             ],
             [
              0.2222222222222222,
              "#7201a8"
             ],
             [
              0.3333333333333333,
              "#9c179e"
             ],
             [
              0.4444444444444444,
              "#bd3786"
             ],
             [
              0.5555555555555556,
              "#d8576b"
             ],
             [
              0.6666666666666666,
              "#ed7953"
             ],
             [
              0.7777777777777778,
              "#fb9f3a"
             ],
             [
              0.8888888888888888,
              "#fdca26"
             ],
             [
              1,
              "#f0f921"
             ]
            ],
            "type": "histogram2dcontour"
           }
          ],
          "mesh3d": [
           {
            "colorbar": {
             "outlinewidth": 0,
             "ticks": ""
            },
            "type": "mesh3d"
           }
          ],
          "parcoords": [
           {
            "line": {
             "colorbar": {
              "outlinewidth": 0,
              "ticks": ""
             }
            },
            "type": "parcoords"
           }
          ],
          "pie": [
           {
            "automargin": true,
            "type": "pie"
           }
          ],
          "scatter": [
           {
            "fillpattern": {
             "fillmode": "overlay",
             "size": 10,
             "solidity": 0.2
            },
            "type": "scatter"
           }
          ],
          "scatter3d": [
           {
            "line": {
             "colorbar": {
              "outlinewidth": 0,
              "ticks": ""
             }
            },
            "marker": {
             "colorbar": {
              "outlinewidth": 0,
              "ticks": ""
             }
            },
            "type": "scatter3d"
           }
          ],
          "scattercarpet": [
           {
            "marker": {
             "colorbar": {
              "outlinewidth": 0,
              "ticks": ""
             }
            },
            "type": "scattercarpet"
           }
          ],
          "scattergeo": [
           {
            "marker": {
             "colorbar": {
              "outlinewidth": 0,
              "ticks": ""
             }
            },
            "type": "scattergeo"
           }
          ],
          "scattergl": [
           {
            "marker": {
             "colorbar": {
              "outlinewidth": 0,
              "ticks": ""
             }
            },
            "type": "scattergl"
           }
          ],
          "scattermapbox": [
           {
            "marker": {
             "colorbar": {
              "outlinewidth": 0,
              "ticks": ""
             }
            },
            "type": "scattermapbox"
           }
          ],
          "scatterpolar": [
           {
            "marker": {
             "colorbar": {
              "outlinewidth": 0,
              "ticks": ""
             }
            },
            "type": "scatterpolar"
           }
          ],
          "scatterpolargl": [
           {
            "marker": {
             "colorbar": {
              "outlinewidth": 0,
              "ticks": ""
             }
            },
            "type": "scatterpolargl"
           }
          ],
          "scatterternary": [
           {
            "marker": {
             "colorbar": {
              "outlinewidth": 0,
              "ticks": ""
             }
            },
            "type": "scatterternary"
           }
          ],
          "surface": [
           {
            "colorbar": {
             "outlinewidth": 0,
             "ticks": ""
            },
            "colorscale": [
             [
              0,
              "#0d0887"
             ],
             [
              0.1111111111111111,
              "#46039f"
             ],
             [
              0.2222222222222222,
              "#7201a8"
             ],
             [
              0.3333333333333333,
              "#9c179e"
             ],
             [
              0.4444444444444444,
              "#bd3786"
             ],
             [
              0.5555555555555556,
              "#d8576b"
             ],
             [
              0.6666666666666666,
              "#ed7953"
             ],
             [
              0.7777777777777778,
              "#fb9f3a"
             ],
             [
              0.8888888888888888,
              "#fdca26"
             ],
             [
              1,
              "#f0f921"
             ]
            ],
            "type": "surface"
           }
          ],
          "table": [
           {
            "cells": {
             "fill": {
              "color": "#EBF0F8"
             },
             "line": {
              "color": "white"
             }
            },
            "header": {
             "fill": {
              "color": "#C8D4E3"
             },
             "line": {
              "color": "white"
             }
            },
            "type": "table"
           }
          ]
         },
         "layout": {
          "annotationdefaults": {
           "arrowcolor": "#2a3f5f",
           "arrowhead": 0,
           "arrowwidth": 1
          },
          "autotypenumbers": "strict",
          "coloraxis": {
           "colorbar": {
            "outlinewidth": 0,
            "ticks": ""
           }
          },
          "colorscale": {
           "diverging": [
            [
             0,
             "#8e0152"
            ],
            [
             0.1,
             "#c51b7d"
            ],
            [
             0.2,
             "#de77ae"
            ],
            [
             0.3,
             "#f1b6da"
            ],
            [
             0.4,
             "#fde0ef"
            ],
            [
             0.5,
             "#f7f7f7"
            ],
            [
             0.6,
             "#e6f5d0"
            ],
            [
             0.7,
             "#b8e186"
            ],
            [
             0.8,
             "#7fbc41"
            ],
            [
             0.9,
             "#4d9221"
            ],
            [
             1,
             "#276419"
            ]
           ],
           "sequential": [
            [
             0,
             "#0d0887"
            ],
            [
             0.1111111111111111,
             "#46039f"
            ],
            [
             0.2222222222222222,
             "#7201a8"
            ],
            [
             0.3333333333333333,
             "#9c179e"
            ],
            [
             0.4444444444444444,
             "#bd3786"
            ],
            [
             0.5555555555555556,
             "#d8576b"
            ],
            [
             0.6666666666666666,
             "#ed7953"
            ],
            [
             0.7777777777777778,
             "#fb9f3a"
            ],
            [
             0.8888888888888888,
             "#fdca26"
            ],
            [
             1,
             "#f0f921"
            ]
           ],
           "sequentialminus": [
            [
             0,
             "#0d0887"
            ],
            [
             0.1111111111111111,
             "#46039f"
            ],
            [
             0.2222222222222222,
             "#7201a8"
            ],
            [
             0.3333333333333333,
             "#9c179e"
            ],
            [
             0.4444444444444444,
             "#bd3786"
            ],
            [
             0.5555555555555556,
             "#d8576b"
            ],
            [
             0.6666666666666666,
             "#ed7953"
            ],
            [
             0.7777777777777778,
             "#fb9f3a"
            ],
            [
             0.8888888888888888,
             "#fdca26"
            ],
            [
             1,
             "#f0f921"
            ]
           ]
          },
          "colorway": [
           "#636efa",
           "#EF553B",
           "#00cc96",
           "#ab63fa",
           "#FFA15A",
           "#19d3f3",
           "#FF6692",
           "#B6E880",
           "#FF97FF",
           "#FECB52"
          ],
          "font": {
           "color": "#2a3f5f"
          },
          "geo": {
           "bgcolor": "white",
           "lakecolor": "white",
           "landcolor": "#E5ECF6",
           "showlakes": true,
           "showland": true,
           "subunitcolor": "white"
          },
          "hoverlabel": {
           "align": "left"
          },
          "hovermode": "closest",
          "mapbox": {
           "style": "light"
          },
          "paper_bgcolor": "white",
          "plot_bgcolor": "#E5ECF6",
          "polar": {
           "angularaxis": {
            "gridcolor": "white",
            "linecolor": "white",
            "ticks": ""
           },
           "bgcolor": "#E5ECF6",
           "radialaxis": {
            "gridcolor": "white",
            "linecolor": "white",
            "ticks": ""
           }
          },
          "scene": {
           "xaxis": {
            "backgroundcolor": "#E5ECF6",
            "gridcolor": "white",
            "gridwidth": 2,
            "linecolor": "white",
            "showbackground": true,
            "ticks": "",
            "zerolinecolor": "white"
           },
           "yaxis": {
            "backgroundcolor": "#E5ECF6",
            "gridcolor": "white",
            "gridwidth": 2,
            "linecolor": "white",
            "showbackground": true,
            "ticks": "",
            "zerolinecolor": "white"
           },
           "zaxis": {
            "backgroundcolor": "#E5ECF6",
            "gridcolor": "white",
            "gridwidth": 2,
            "linecolor": "white",
            "showbackground": true,
            "ticks": "",
            "zerolinecolor": "white"
           }
          },
          "shapedefaults": {
           "line": {
            "color": "#2a3f5f"
           }
          },
          "ternary": {
           "aaxis": {
            "gridcolor": "white",
            "linecolor": "white",
            "ticks": ""
           },
           "baxis": {
            "gridcolor": "white",
            "linecolor": "white",
            "ticks": ""
           },
           "bgcolor": "#E5ECF6",
           "caxis": {
            "gridcolor": "white",
            "linecolor": "white",
            "ticks": ""
           }
          },
          "title": {
           "x": 0.05
          },
          "xaxis": {
           "automargin": true,
           "gridcolor": "white",
           "linecolor": "white",
           "ticks": "",
           "title": {
            "standoff": 15
           },
           "zerolinecolor": "white",
           "zerolinewidth": 2
          },
          "yaxis": {
           "automargin": true,
           "gridcolor": "white",
           "linecolor": "white",
           "ticks": "",
           "title": {
            "standoff": 15
           },
           "zerolinecolor": "white",
           "zerolinewidth": 2
          }
         }
        },
        "title": {
         "text": "Top 10 Countries"
        },
        "xaxis": {
         "anchor": "y",
         "domain": [
          0,
          1
         ],
         "title": {
          "text": "x"
         }
        },
        "yaxis": {
         "anchor": "x",
         "domain": [
          0,
          1
         ],
         "title": {
          "text": "y"
         }
        }
       }
      },
      "text/html": [
       "<div>                            <div id=\"f4acfab3-7b92-47cc-9be7-cb1c3248ea9f\" class=\"plotly-graph-div\" style=\"height:525px; width:100%;\"></div>            <script type=\"text/javascript\">                require([\"plotly\"], function(Plotly) {                    window.PLOTLYENV=window.PLOTLYENV || {};                                    if (document.getElementById(\"f4acfab3-7b92-47cc-9be7-cb1c3248ea9f\")) {                    Plotly.newPlot(                        \"f4acfab3-7b92-47cc-9be7-cb1c3248ea9f\",                        [{\"alignmentgroup\":\"True\",\"hovertemplate\":\"color=Nicaragua\\u003cbr\\u003ex=%{x}\\u003cbr\\u003ey=%{y}\\u003cextra\\u003e\\u003c\\u002fextra\\u003e\",\"legendgroup\":\"Nicaragua\",\"marker\":{\"color\":\"#636efa\",\"pattern\":{\"shape\":\"\"}},\"name\":\"Nicaragua\",\"offsetgroup\":\"Nicaragua\",\"orientation\":\"v\",\"showlegend\":true,\"textposition\":\"auto\",\"x\":[\"Nicaragua\"],\"xaxis\":\"x\",\"y\":[1],\"yaxis\":\"y\",\"type\":\"bar\"},{\"alignmentgroup\":\"True\",\"hovertemplate\":\"color=Afghanistan\\u003cbr\\u003ex=%{x}\\u003cbr\\u003ey=%{y}\\u003cextra\\u003e\\u003c\\u002fextra\\u003e\",\"legendgroup\":\"Afghanistan\",\"marker\":{\"color\":\"#EF553B\",\"pattern\":{\"shape\":\"\"}},\"name\":\"Afghanistan\",\"offsetgroup\":\"Afghanistan\",\"orientation\":\"v\",\"showlegend\":true,\"textposition\":\"auto\",\"x\":[\"Afghanistan\"],\"xaxis\":\"x\",\"y\":[2],\"yaxis\":\"y\",\"type\":\"bar\"},{\"alignmentgroup\":\"True\",\"hovertemplate\":\"color=Ecuador\\u003cbr\\u003ex=%{x}\\u003cbr\\u003ey=%{y}\\u003cextra\\u003e\\u003c\\u002fextra\\u003e\",\"legendgroup\":\"Ecuador\",\"marker\":{\"color\":\"#00cc96\",\"pattern\":{\"shape\":\"\"}},\"name\":\"Ecuador\",\"offsetgroup\":\"Ecuador\",\"orientation\":\"v\",\"showlegend\":true,\"textposition\":\"auto\",\"x\":[\"Ecuador\"],\"xaxis\":\"x\",\"y\":[12],\"yaxis\":\"y\",\"type\":\"bar\"},{\"alignmentgroup\":\"True\",\"hovertemplate\":\"color=Latvia\\u003cbr\\u003ex=%{x}\\u003cbr\\u003ey=%{y}\\u003cextra\\u003e\\u003c\\u002fextra\\u003e\",\"legendgroup\":\"Latvia\",\"marker\":{\"color\":\"#ab63fa\",\"pattern\":{\"shape\":\"\"}},\"name\":\"Latvia\",\"offsetgroup\":\"Latvia\",\"orientation\":\"v\",\"showlegend\":true,\"textposition\":\"auto\",\"x\":[\"Latvia\"],\"xaxis\":\"x\",\"y\":[22],\"yaxis\":\"y\",\"type\":\"bar\"},{\"alignmentgroup\":\"True\",\"hovertemplate\":\"color=Poland,\\u003cbr\\u003ex=%{x}\\u003cbr\\u003ey=%{y}\\u003cextra\\u003e\\u003c\\u002fextra\\u003e\",\"legendgroup\":\"Poland,\",\"marker\":{\"color\":\"#FFA15A\",\"pattern\":{\"shape\":\"\"}},\"name\":\"Poland,\",\"offsetgroup\":\"Poland,\",\"orientation\":\"v\",\"showlegend\":true,\"textposition\":\"auto\",\"x\":[\"Poland,\"],\"xaxis\":\"x\",\"y\":[27],\"yaxis\":\"y\",\"type\":\"bar\"},{\"alignmentgroup\":\"True\",\"hovertemplate\":\"color=Nepal\\u003cbr\\u003ex=%{x}\\u003cbr\\u003ey=%{y}\\u003cextra\\u003e\\u003c\\u002fextra\\u003e\",\"legendgroup\":\"Nepal\",\"marker\":{\"color\":\"#19d3f3\",\"pattern\":{\"shape\":\"\"}},\"name\":\"Nepal\",\"offsetgroup\":\"Nepal\",\"orientation\":\"v\",\"showlegend\":true,\"textposition\":\"auto\",\"x\":[\"Nepal\"],\"xaxis\":\"x\",\"y\":[48],\"yaxis\":\"y\",\"type\":\"bar\"},{\"alignmentgroup\":\"True\",\"hovertemplate\":\"color=Cambodia\\u003cbr\\u003ex=%{x}\\u003cbr\\u003ey=%{y}\\u003cextra\\u003e\\u003c\\u002fextra\\u003e\",\"legendgroup\":\"Cambodia\",\"marker\":{\"color\":\"#FF6692\",\"pattern\":{\"shape\":\"\"}},\"name\":\"Cambodia\",\"offsetgroup\":\"Cambodia\",\"orientation\":\"v\",\"showlegend\":true,\"textposition\":\"auto\",\"x\":[\"Cambodia\"],\"xaxis\":\"x\",\"y\":[90],\"yaxis\":\"y\",\"type\":\"bar\"},{\"alignmentgroup\":\"True\",\"hovertemplate\":\"color=Bulgaria\\u003cbr\\u003ex=%{x}\\u003cbr\\u003ey=%{y}\\u003cextra\\u003e\\u003c\\u002fextra\\u003e\",\"legendgroup\":\"Bulgaria\",\"marker\":{\"color\":\"#B6E880\",\"pattern\":{\"shape\":\"\"}},\"name\":\"Bulgaria\",\"offsetgroup\":\"Bulgaria\",\"orientation\":\"v\",\"showlegend\":true,\"textposition\":\"auto\",\"x\":[\"Bulgaria\"],\"xaxis\":\"x\",\"y\":[173],\"yaxis\":\"y\",\"type\":\"bar\"},{\"alignmentgroup\":\"True\",\"hovertemplate\":\"color=Romania\\u003cbr\\u003ex=%{x}\\u003cbr\\u003ey=%{y}\\u003cextra\\u003e\\u003c\\u002fextra\\u003e\",\"legendgroup\":\"Romania\",\"marker\":{\"color\":\"#FF97FF\",\"pattern\":{\"shape\":\"\"}},\"name\":\"Romania\",\"offsetgroup\":\"Romania\",\"orientation\":\"v\",\"showlegend\":true,\"textposition\":\"auto\",\"x\":[\"Romania\"],\"xaxis\":\"x\",\"y\":[279],\"yaxis\":\"y\",\"type\":\"bar\"},{\"alignmentgroup\":\"True\",\"hovertemplate\":\"color=New Zealand\\u003cbr\\u003ex=%{x}\\u003cbr\\u003ey=%{y}\\u003cextra\\u003e\\u003c\\u002fextra\\u003e\",\"legendgroup\":\"New Zealand\",\"marker\":{\"color\":\"#FECB52\",\"pattern\":{\"shape\":\"\"}},\"name\":\"New Zealand\",\"offsetgroup\":\"New Zealand\",\"orientation\":\"v\",\"showlegend\":true,\"textposition\":\"auto\",\"x\":[\"New Zealand\"],\"xaxis\":\"x\",\"y\":[579],\"yaxis\":\"y\",\"type\":\"bar\"},{\"alignmentgroup\":\"True\",\"hovertemplate\":\"color=Ireland\\u003cbr\\u003ex=%{x}\\u003cbr\\u003ey=%{y}\\u003cextra\\u003e\\u003c\\u002fextra\\u003e\",\"legendgroup\":\"Ireland\",\"marker\":{\"color\":\"#636efa\",\"pattern\":{\"shape\":\"\"}},\"name\":\"Ireland\",\"offsetgroup\":\"Ireland\",\"orientation\":\"v\",\"showlegend\":true,\"textposition\":\"auto\",\"x\":[\"Ireland\"],\"xaxis\":\"x\",\"y\":[1071],\"yaxis\":\"y\",\"type\":\"bar\"},{\"alignmentgroup\":\"True\",\"hovertemplate\":\"color=Indonesia\\u003cbr\\u003ex=%{x}\\u003cbr\\u003ey=%{y}\\u003cextra\\u003e\\u003c\\u002fextra\\u003e\",\"legendgroup\":\"Indonesia\",\"marker\":{\"color\":\"#EF553B\",\"pattern\":{\"shape\":\"\"}},\"name\":\"Indonesia\",\"offsetgroup\":\"Indonesia\",\"orientation\":\"v\",\"showlegend\":true,\"textposition\":\"auto\",\"x\":[\"Indonesia\"],\"xaxis\":\"x\",\"y\":[2126],\"yaxis\":\"y\",\"type\":\"bar\"},{\"alignmentgroup\":\"True\",\"hovertemplate\":\"color=Spain\\u003cbr\\u003ex=%{x}\\u003cbr\\u003ey=%{y}\\u003cextra\\u003e\\u003c\\u002fextra\\u003e\",\"legendgroup\":\"Spain\",\"marker\":{\"color\":\"#00cc96\",\"pattern\":{\"shape\":\"\"}},\"name\":\"Spain\",\"offsetgroup\":\"Spain\",\"orientation\":\"v\",\"showlegend\":true,\"textposition\":\"auto\",\"x\":[\"Spain\"],\"xaxis\":\"x\",\"y\":[5315],\"yaxis\":\"y\",\"type\":\"bar\"}],                        {\"template\":{\"data\":{\"histogram2dcontour\":[{\"type\":\"histogram2dcontour\",\"colorbar\":{\"outlinewidth\":0,\"ticks\":\"\"},\"colorscale\":[[0.0,\"#0d0887\"],[0.1111111111111111,\"#46039f\"],[0.2222222222222222,\"#7201a8\"],[0.3333333333333333,\"#9c179e\"],[0.4444444444444444,\"#bd3786\"],[0.5555555555555556,\"#d8576b\"],[0.6666666666666666,\"#ed7953\"],[0.7777777777777778,\"#fb9f3a\"],[0.8888888888888888,\"#fdca26\"],[1.0,\"#f0f921\"]]}],\"choropleth\":[{\"type\":\"choropleth\",\"colorbar\":{\"outlinewidth\":0,\"ticks\":\"\"}}],\"histogram2d\":[{\"type\":\"histogram2d\",\"colorbar\":{\"outlinewidth\":0,\"ticks\":\"\"},\"colorscale\":[[0.0,\"#0d0887\"],[0.1111111111111111,\"#46039f\"],[0.2222222222222222,\"#7201a8\"],[0.3333333333333333,\"#9c179e\"],[0.4444444444444444,\"#bd3786\"],[0.5555555555555556,\"#d8576b\"],[0.6666666666666666,\"#ed7953\"],[0.7777777777777778,\"#fb9f3a\"],[0.8888888888888888,\"#fdca26\"],[1.0,\"#f0f921\"]]}],\"heatmap\":[{\"type\":\"heatmap\",\"colorbar\":{\"outlinewidth\":0,\"ticks\":\"\"},\"colorscale\":[[0.0,\"#0d0887\"],[0.1111111111111111,\"#46039f\"],[0.2222222222222222,\"#7201a8\"],[0.3333333333333333,\"#9c179e\"],[0.4444444444444444,\"#bd3786\"],[0.5555555555555556,\"#d8576b\"],[0.6666666666666666,\"#ed7953\"],[0.7777777777777778,\"#fb9f3a\"],[0.8888888888888888,\"#fdca26\"],[1.0,\"#f0f921\"]]}],\"heatmapgl\":[{\"type\":\"heatmapgl\",\"colorbar\":{\"outlinewidth\":0,\"ticks\":\"\"},\"colorscale\":[[0.0,\"#0d0887\"],[0.1111111111111111,\"#46039f\"],[0.2222222222222222,\"#7201a8\"],[0.3333333333333333,\"#9c179e\"],[0.4444444444444444,\"#bd3786\"],[0.5555555555555556,\"#d8576b\"],[0.6666666666666666,\"#ed7953\"],[0.7777777777777778,\"#fb9f3a\"],[0.8888888888888888,\"#fdca26\"],[1.0,\"#f0f921\"]]}],\"contourcarpet\":[{\"type\":\"contourcarpet\",\"colorbar\":{\"outlinewidth\":0,\"ticks\":\"\"}}],\"contour\":[{\"type\":\"contour\",\"colorbar\":{\"outlinewidth\":0,\"ticks\":\"\"},\"colorscale\":[[0.0,\"#0d0887\"],[0.1111111111111111,\"#46039f\"],[0.2222222222222222,\"#7201a8\"],[0.3333333333333333,\"#9c179e\"],[0.4444444444444444,\"#bd3786\"],[0.5555555555555556,\"#d8576b\"],[0.6666666666666666,\"#ed7953\"],[0.7777777777777778,\"#fb9f3a\"],[0.8888888888888888,\"#fdca26\"],[1.0,\"#f0f921\"]]}],\"surface\":[{\"type\":\"surface\",\"colorbar\":{\"outlinewidth\":0,\"ticks\":\"\"},\"colorscale\":[[0.0,\"#0d0887\"],[0.1111111111111111,\"#46039f\"],[0.2222222222222222,\"#7201a8\"],[0.3333333333333333,\"#9c179e\"],[0.4444444444444444,\"#bd3786\"],[0.5555555555555556,\"#d8576b\"],[0.6666666666666666,\"#ed7953\"],[0.7777777777777778,\"#fb9f3a\"],[0.8888888888888888,\"#fdca26\"],[1.0,\"#f0f921\"]]}],\"mesh3d\":[{\"type\":\"mesh3d\",\"colorbar\":{\"outlinewidth\":0,\"ticks\":\"\"}}],\"scatter\":[{\"fillpattern\":{\"fillmode\":\"overlay\",\"size\":10,\"solidity\":0.2},\"type\":\"scatter\"}],\"parcoords\":[{\"type\":\"parcoords\",\"line\":{\"colorbar\":{\"outlinewidth\":0,\"ticks\":\"\"}}}],\"scatterpolargl\":[{\"type\":\"scatterpolargl\",\"marker\":{\"colorbar\":{\"outlinewidth\":0,\"ticks\":\"\"}}}],\"bar\":[{\"error_x\":{\"color\":\"#2a3f5f\"},\"error_y\":{\"color\":\"#2a3f5f\"},\"marker\":{\"line\":{\"color\":\"#E5ECF6\",\"width\":0.5},\"pattern\":{\"fillmode\":\"overlay\",\"size\":10,\"solidity\":0.2}},\"type\":\"bar\"}],\"scattergeo\":[{\"type\":\"scattergeo\",\"marker\":{\"colorbar\":{\"outlinewidth\":0,\"ticks\":\"\"}}}],\"scatterpolar\":[{\"type\":\"scatterpolar\",\"marker\":{\"colorbar\":{\"outlinewidth\":0,\"ticks\":\"\"}}}],\"histogram\":[{\"marker\":{\"pattern\":{\"fillmode\":\"overlay\",\"size\":10,\"solidity\":0.2}},\"type\":\"histogram\"}],\"scattergl\":[{\"type\":\"scattergl\",\"marker\":{\"colorbar\":{\"outlinewidth\":0,\"ticks\":\"\"}}}],\"scatter3d\":[{\"type\":\"scatter3d\",\"line\":{\"colorbar\":{\"outlinewidth\":0,\"ticks\":\"\"}},\"marker\":{\"colorbar\":{\"outlinewidth\":0,\"ticks\":\"\"}}}],\"scattermapbox\":[{\"type\":\"scattermapbox\",\"marker\":{\"colorbar\":{\"outlinewidth\":0,\"ticks\":\"\"}}}],\"scatterternary\":[{\"type\":\"scatterternary\",\"marker\":{\"colorbar\":{\"outlinewidth\":0,\"ticks\":\"\"}}}],\"scattercarpet\":[{\"type\":\"scattercarpet\",\"marker\":{\"colorbar\":{\"outlinewidth\":0,\"ticks\":\"\"}}}],\"carpet\":[{\"aaxis\":{\"endlinecolor\":\"#2a3f5f\",\"gridcolor\":\"white\",\"linecolor\":\"white\",\"minorgridcolor\":\"white\",\"startlinecolor\":\"#2a3f5f\"},\"baxis\":{\"endlinecolor\":\"#2a3f5f\",\"gridcolor\":\"white\",\"linecolor\":\"white\",\"minorgridcolor\":\"white\",\"startlinecolor\":\"#2a3f5f\"},\"type\":\"carpet\"}],\"table\":[{\"cells\":{\"fill\":{\"color\":\"#EBF0F8\"},\"line\":{\"color\":\"white\"}},\"header\":{\"fill\":{\"color\":\"#C8D4E3\"},\"line\":{\"color\":\"white\"}},\"type\":\"table\"}],\"barpolar\":[{\"marker\":{\"line\":{\"color\":\"#E5ECF6\",\"width\":0.5},\"pattern\":{\"fillmode\":\"overlay\",\"size\":10,\"solidity\":0.2}},\"type\":\"barpolar\"}],\"pie\":[{\"automargin\":true,\"type\":\"pie\"}]},\"layout\":{\"autotypenumbers\":\"strict\",\"colorway\":[\"#636efa\",\"#EF553B\",\"#00cc96\",\"#ab63fa\",\"#FFA15A\",\"#19d3f3\",\"#FF6692\",\"#B6E880\",\"#FF97FF\",\"#FECB52\"],\"font\":{\"color\":\"#2a3f5f\"},\"hovermode\":\"closest\",\"hoverlabel\":{\"align\":\"left\"},\"paper_bgcolor\":\"white\",\"plot_bgcolor\":\"#E5ECF6\",\"polar\":{\"bgcolor\":\"#E5ECF6\",\"angularaxis\":{\"gridcolor\":\"white\",\"linecolor\":\"white\",\"ticks\":\"\"},\"radialaxis\":{\"gridcolor\":\"white\",\"linecolor\":\"white\",\"ticks\":\"\"}},\"ternary\":{\"bgcolor\":\"#E5ECF6\",\"aaxis\":{\"gridcolor\":\"white\",\"linecolor\":\"white\",\"ticks\":\"\"},\"baxis\":{\"gridcolor\":\"white\",\"linecolor\":\"white\",\"ticks\":\"\"},\"caxis\":{\"gridcolor\":\"white\",\"linecolor\":\"white\",\"ticks\":\"\"}},\"coloraxis\":{\"colorbar\":{\"outlinewidth\":0,\"ticks\":\"\"}},\"colorscale\":{\"sequential\":[[0.0,\"#0d0887\"],[0.1111111111111111,\"#46039f\"],[0.2222222222222222,\"#7201a8\"],[0.3333333333333333,\"#9c179e\"],[0.4444444444444444,\"#bd3786\"],[0.5555555555555556,\"#d8576b\"],[0.6666666666666666,\"#ed7953\"],[0.7777777777777778,\"#fb9f3a\"],[0.8888888888888888,\"#fdca26\"],[1.0,\"#f0f921\"]],\"sequentialminus\":[[0.0,\"#0d0887\"],[0.1111111111111111,\"#46039f\"],[0.2222222222222222,\"#7201a8\"],[0.3333333333333333,\"#9c179e\"],[0.4444444444444444,\"#bd3786\"],[0.5555555555555556,\"#d8576b\"],[0.6666666666666666,\"#ed7953\"],[0.7777777777777778,\"#fb9f3a\"],[0.8888888888888888,\"#fdca26\"],[1.0,\"#f0f921\"]],\"diverging\":[[0,\"#8e0152\"],[0.1,\"#c51b7d\"],[0.2,\"#de77ae\"],[0.3,\"#f1b6da\"],[0.4,\"#fde0ef\"],[0.5,\"#f7f7f7\"],[0.6,\"#e6f5d0\"],[0.7,\"#b8e186\"],[0.8,\"#7fbc41\"],[0.9,\"#4d9221\"],[1,\"#276419\"]]},\"xaxis\":{\"gridcolor\":\"white\",\"linecolor\":\"white\",\"ticks\":\"\",\"title\":{\"standoff\":15},\"zerolinecolor\":\"white\",\"automargin\":true,\"zerolinewidth\":2},\"yaxis\":{\"gridcolor\":\"white\",\"linecolor\":\"white\",\"ticks\":\"\",\"title\":{\"standoff\":15},\"zerolinecolor\":\"white\",\"automargin\":true,\"zerolinewidth\":2},\"scene\":{\"xaxis\":{\"backgroundcolor\":\"#E5ECF6\",\"gridcolor\":\"white\",\"linecolor\":\"white\",\"showbackground\":true,\"ticks\":\"\",\"zerolinecolor\":\"white\",\"gridwidth\":2},\"yaxis\":{\"backgroundcolor\":\"#E5ECF6\",\"gridcolor\":\"white\",\"linecolor\":\"white\",\"showbackground\":true,\"ticks\":\"\",\"zerolinecolor\":\"white\",\"gridwidth\":2},\"zaxis\":{\"backgroundcolor\":\"#E5ECF6\",\"gridcolor\":\"white\",\"linecolor\":\"white\",\"showbackground\":true,\"ticks\":\"\",\"zerolinecolor\":\"white\",\"gridwidth\":2}},\"shapedefaults\":{\"line\":{\"color\":\"#2a3f5f\"}},\"annotationdefaults\":{\"arrowcolor\":\"#2a3f5f\",\"arrowhead\":0,\"arrowwidth\":1},\"geo\":{\"bgcolor\":\"white\",\"landcolor\":\"#E5ECF6\",\"subunitcolor\":\"white\",\"showland\":true,\"showlakes\":true,\"lakecolor\":\"white\"},\"title\":{\"x\":0.05},\"mapbox\":{\"style\":\"light\"}}},\"xaxis\":{\"anchor\":\"y\",\"domain\":[0.0,1.0],\"title\":{\"text\":\"x\"}},\"yaxis\":{\"anchor\":\"x\",\"domain\":[0.0,1.0],\"title\":{\"text\":\"y\"}},\"legend\":{\"title\":{\"text\":\"color\"},\"tracegroupgap\":0},\"title\":{\"text\":\"Top 10 Countries\"},\"barmode\":\"relative\"},                        {\"responsive\": true}                    ).then(function(){\n",
       "                            \n",
       "var gd = document.getElementById('f4acfab3-7b92-47cc-9be7-cb1c3248ea9f');\n",
       "var x = new MutationObserver(function (mutations, observer) {{\n",
       "        var display = window.getComputedStyle(gd).display;\n",
       "        if (!display || display === 'none') {{\n",
       "            console.log([gd, 'removed!']);\n",
       "            Plotly.purge(gd);\n",
       "            observer.disconnect();\n",
       "        }}\n",
       "}});\n",
       "\n",
       "// Listen for the removal of the full notebook cells\n",
       "var notebookContainer = gd.closest('#notebook-container');\n",
       "if (notebookContainer) {{\n",
       "    x.observe(notebookContainer, {childList: true});\n",
       "}}\n",
       "\n",
       "// Listen for the clearing of the current output cell\n",
       "var outputEl = gd.closest('.output');\n",
       "if (outputEl) {{\n",
       "    x.observe(outputEl, {childList: true});\n",
       "}}\n",
       "\n",
       "                        })                };                });            </script>        </div>"
      ]
     },
     "metadata": {},
     "output_type": "display_data"
    }
   ],
   "source": [
    "\n",
    "\n",
    "df_country_mn = df['country'].value_counts()[::-10]\n",
    "fig = px.bar(x=df_country_mn.index, y=df_country_mn.values, color=df_country_mn.index, title='Top 10 Countries')\n",
    "fig.show()\n"
   ]
  },
  {
   "cell_type": "markdown",
   "id": "d4f1c38d",
   "metadata": {},
   "source": [
    "Nicaragua, Afghanistan and Ecuador are the countries with less or NO content available on Netflix"
   ]
  },
  {
   "cell_type": "markdown",
   "id": "72af5ab5",
   "metadata": {},
   "source": [
    "### Content based on Genre Analysis Movies"
   ]
  },
  {
   "cell_type": "code",
   "execution_count": 200,
   "id": "3ee2e7d0",
   "metadata": {},
   "outputs": [
    {
     "data": {
      "image/png": "[encoded data removed]",
      "text/plain": [
       "<Figure size 1080x360 with 1 Axes>"
      ]
     },
     "metadata": {
      "needs_background": "light"
     },
     "output_type": "display_data"
    }
   ],
   "source": [
    "\n",
    "\n",
    "plt.figure(figsize=(15, 5))\n",
    "sns.barplot(x=df_movies[\"listed_in\"].value_counts().head(10).index,\n",
    "            y=df_movies[\"listed_in\"].value_counts().head(10).values,\n",
    "            palette=\"RdGy\")\n",
    "plt.xticks(rotation=45)\n",
    "plt.title(\"Top 10 Genre in Movies\", fontweight=\"bold\")\n",
    "plt.show()\n"
   ]
  },
  {
   "cell_type": "markdown",
   "id": "9136ec71",
   "metadata": {},
   "source": [
    "### Top 3 Genres in Movies:\n",
    "1. Drama 2. International Movies 3. Comedies"
   ]
  },
  {
   "cell_type": "markdown",
   "id": "530071ba",
   "metadata": {},
   "source": [
    "## TV Shows"
   ]
  },
  {
   "cell_type": "code",
   "execution_count": 201,
   "id": "648955fc",
   "metadata": {},
   "outputs": [
    {
     "data": {
      "image/png": "[encoded data removed]",
      "text/plain": [
       "<Figure size 1080x360 with 1 Axes>"
      ]
     },
     "metadata": {
      "needs_background": "light"
     },
     "output_type": "display_data"
    }
   ],
   "source": [
    "\n",
    "\n",
    "plt.figure(figsize=(15, 5))\n",
    "sns.barplot(x=df_tv_show[\"listed_in\"].value_counts().head(10).index,\n",
    "            y=df_tv_show[\"listed_in\"].value_counts().head(10).values,\n",
    "            palette=\"RdGy\")\n",
    "plt.xticks(rotation=45)\n",
    "plt.title(\"Top 10 Genre in TV shows\", fontweight=\"bold\")\n",
    "plt.show()\n"
   ]
  },
  {
   "cell_type": "markdown",
   "id": "17e0483c",
   "metadata": {},
   "source": [
    "### Top 3 Genres in TV Shows:\n",
    "1. International TV Shows 2.TV Dramas 3.TV Comedies"
   ]
  },
  {
   "cell_type": "markdown",
   "id": "e76c8789",
   "metadata": {},
   "source": [
    "## Content vs Director\n",
    "### Number of movies based on Director"
   ]
  },
  {
   "cell_type": "code",
   "execution_count": 202,
   "id": "94967e2d",
   "metadata": {},
   "outputs": [],
   "source": [
    "\n",
    "\n",
    "movies_director = df_movies[\"director\"].value_counts()[1:]\n",
    "movies_director = pd.DataFrame(movies_director)\n",
    "\n",
    "# or directly without creating a separate variable:\n",
    "# movies_director = pd.DataFrame(df_movies[\"director\"].value_counts()[1:])\n"
   ]
  },
  {
   "cell_type": "code",
   "execution_count": 203,
   "id": "94a126c3",
   "metadata": {},
   "outputs": [
    {
     "data": {
      "image/png": "[encoded data removed]",
      "text/plain": [
       "<Figure size 720x360 with 1 Axes>"
      ]
     },
     "metadata": {
      "needs_background": "light"
     },
     "output_type": "display_data"
    }
   ],
   "source": [
    "movies_director[:15].plot(kind=\"bar\", figsize=(10, 5))\n",
    "plt.title(\"Top 15 Directors and Their Total Movie Count\")\n",
    "plt.xlabel(\"Director\")\n",
    "plt.ylabel(\"Total Movies\")\n",
    "plt.show()\n"
   ]
  },
  {
   "cell_type": "markdown",
   "id": "23b522a5",
   "metadata": {},
   "source": [
    "### Number of TV Shows based on director"
   ]
  },
  {
   "cell_type": "code",
   "execution_count": 204,
   "id": "a22e3ec6",
   "metadata": {},
   "outputs": [],
   "source": [
    "directortv = df_tv_show[\"director\"]. value_counts()[1:]\n",
    "director_tv = pd.DataFrame(directortv)"
   ]
  },
  {
   "cell_type": "code",
   "execution_count": 205,
   "id": "b322bcd3",
   "metadata": {},
   "outputs": [
    {
     "data": {
      "text/plain": [
       "Text(0.5, 1.0, '15 Director and their total TV Show count')"
      ]
     },
     "execution_count": 205,
     "metadata": {},
     "output_type": "execute_result"
    },
    {
     "data": {
      "image/png": "[encoded data removed]",
      "text/plain": [
       "<Figure size 720x360 with 1 Axes>"
      ]
     },
     "metadata": {
      "needs_background": "light"
     },
     "output_type": "display_data"
    }
   ],
   "source": [
    "director_tv[:15].plot(kind=\"bar\", figsize=(10,5))\n",
    "plt.title(\"15 Director and their total TV Show count\")"
   ]
  },
  {
   "cell_type": "markdown",
   "id": "b10af1c2",
   "metadata": {},
   "source": [
    "### Content added based on Month\n",
    "### Movies added based on the month"
   ]
  },
  {
   "cell_type": "code",
   "execution_count": 206,
   "id": "4a742515",
   "metadata": {},
   "outputs": [
    {
     "data": {
      "image/png": "[encoded data removed]",
      "text/plain": [
       "<Figure size 1080x360 with 1 Axes>"
      ]
     },
     "metadata": {
      "needs_background": "light"
     },
     "output_type": "display_data"
    }
   ],
   "source": [
    "plt.figure(figsize=(15, 5))\n",
    "\n",
    "sns.barplot(x=df_movies[\"month_name\"].value_counts().index,\n",
    "            y=df_movies[\"month_name\"].value_counts().values,\n",
    "            palette=\"RdGy\")\n",
    "plt.xticks(rotation=45)\n",
    "\n",
    "plt.title(\"Top 10 Months in Movies\", fontweight=\"bold\")\n",
    "plt.show()\n"
   ]
  },
  {
   "cell_type": "markdown",
   "id": "f67023ad",
   "metadata": {},
   "source": [
    "### Most preferred months for adding new\n",
    "Movies:\n",
    "1.July 2.January 3.October"
   ]
  },
  {
   "cell_type": "markdown",
   "id": "e13a05ba",
   "metadata": {},
   "source": [
    "### TV Shows added based on months"
   ]
  },
  {
   "cell_type": "code",
   "execution_count": 207,
   "id": "e905066e",
   "metadata": {},
   "outputs": [
    {
     "data": {
      "image/png": "[encoded data removed]",
      "text/plain": [
       "<Figure size 1080x360 with 1 Axes>"
      ]
     },
     "metadata": {
      "needs_background": "light"
     },
     "output_type": "display_data"
    }
   ],
   "source": [
    "plt.figure(figsize=(15, 5))\n",
    "\n",
    "sns.barplot(x=df_tv_show[\"month_name\"].value_counts().index,\n",
    "            y=df_tv_show[\"month_name\"].value_counts().values,\n",
    "            palette=\"RdGy\")\n",
    "\n",
    "plt.xticks(rotation=45)\n",
    "plt.title(\"Top months in TV Shows\", fontweight=\"bold\")\n",
    "plt.show()\n"
   ]
  },
  {
   "cell_type": "markdown",
   "id": "7b4582d8",
   "metadata": {},
   "source": [
    "### Most preferred months for releasing new seasons:\n",
    "1.December 2.July 3.August"
   ]
  },
  {
   "cell_type": "markdown",
   "id": "8cc84f94",
   "metadata": {},
   "source": [
    "### Genre Analysis"
   ]
  },
  {
   "cell_type": "markdown",
   "id": "d2af3e2e",
   "metadata": {},
   "source": [
    "### Director vs Genre"
   ]
  },
  {
   "cell_type": "code",
   "execution_count": 208,
   "id": "a314616f",
   "metadata": {},
   "outputs": [
    {
     "name": "stdout",
     "output_type": "stream",
     "text": [
      "              listed_in     director show_id   type      title date_added  \\\n",
      "0    Action & Adventure    A. Salaam   s5550  Movie  Salaakhen 2017-04-01   \n",
      "1    Action & Adventure    A. Salaam   s5550  Movie  Salaakhen 2017-04-01   \n",
      "2    Action & Adventure    A. Salaam   s5550  Movie  Salaakhen 2017-04-01   \n",
      "3    Action & Adventure    A. Salaam   s5550  Movie  Salaakhen 2017-04-01   \n",
      "4    Action & Adventure    A. Salaam   s5550  Movie  Salaakhen 2017-04-01   \n",
      "..                  ...          ...     ...    ...        ...        ...   \n",
      "205           Thrillers  Aaron Burns   s7375  Movie      Madre 2017-08-26   \n",
      "206           Thrillers  Aaron Burns   s7375  Movie      Madre 2017-08-26   \n",
      "207           Thrillers  Aaron Burns   s7375  Movie      Madre 2017-08-26   \n",
      "208           Thrillers  Aaron Burns   s7375  Movie      Madre 2017-08-26   \n",
      "209           Thrillers  Aaron Burns   s7375  Movie      Madre 2017-08-26   \n",
      "\n",
      "    release_year rating duration                   cast country  month_added  \\\n",
      "0           1975  TV-14  134 min            Amrish Puri   India            4   \n",
      "1           1975  TV-14  134 min          Anjana Mumtaz   India            4   \n",
      "2           1975  TV-14  134 min                 Sudhir   India            4   \n",
      "3           1975  TV-14  134 min               M. Rajan   India            4   \n",
      "4           1975  TV-14  134 min              Mac Mohan   India            4   \n",
      "..           ...    ...      ...                    ...     ...          ...   \n",
      "205         2016  TV-MA   95 min                   Aida   Chile            8   \n",
      "206         2016  TV-MA   95 min  Cristobal Tapia Montt   Chile            8   \n",
      "207         2016  TV-MA   95 min        Daniela Ramírez   Chile            8   \n",
      "208         2016  TV-MA   95 min       Ignacia Allamand   Chile            8   \n",
      "209         2016  TV-MA   95 min           Matías Bassi   Chile            8   \n",
      "\n",
      "    month_name  year_added  Target_audience  0  \n",
      "0        April        2017            Teens  1  \n",
      "1        April        2017            Teens  1  \n",
      "2        April        2017            Teens  1  \n",
      "3        April        2017            Teens  1  \n",
      "4        April        2017            Teens  1  \n",
      "..         ...         ...              ... ..  \n",
      "205     August        2017  Mature Audience  1  \n",
      "206     August        2017  Mature Audience  1  \n",
      "207     August        2017  Mature Audience  1  \n",
      "208     August        2017  Mature Audience  1  \n",
      "209     August        2017  Mature Audience  1  \n",
      "\n",
      "[210 rows x 16 columns]\n"
     ]
    }
   ],
   "source": [
    "\n",
    "df_dir_genre = df.loc[df['director'] != 'NA']\n",
    "dir_genre_director_grouped = df_dir_genre.groupby(['listed_in', 'director']).value_counts().groupby(level=0, group_keys=False).nlargest(5)\n",
    "\n",
    "# If you want to reset the index after the second groupby:\n",
    "dir_genre_director_grouped = dir_genre_director_grouped.reset_index()\n",
    "\n",
    "# If you want to display the resulting DataFrame:\n",
    "print(dir_genre_director_grouped)\n",
    "\n",
    "\n",
    "\n"
   ]
  },
  {
   "cell_type": "code",
   "execution_count": 209,
   "id": "81a694ed",
   "metadata": {},
   "outputs": [],
   "source": [
    "df_year_genre = df.loc[df['listed_in'] != 'NA']"
   ]
  },
  {
   "cell_type": "code",
   "execution_count": 210,
   "id": "5be00113",
   "metadata": {},
   "outputs": [],
   "source": [
    "df_year_genre = df['listed_in'].groupby(df['year_added']).value_counts().groupby(level=0)\n",
    "\n"
   ]
  },
  {
   "cell_type": "code",
   "execution_count": 211,
   "id": "be2d4d9e",
   "metadata": {},
   "outputs": [
    {
     "data": {
      "text/plain": [
       "Index(['show_id', 'type', 'title', 'date_added', 'release_year', 'rating',\n",
       "       'duration', 'cast', 'director', 'country', 'listed_in', 'month_added',\n",
       "       'month_name', 'year_added', 'Target_audience'],\n",
       "      dtype='object')"
      ]
     },
     "execution_count": 211,
     "metadata": {},
     "output_type": "execute_result"
    }
   ],
   "source": [
    "df.columns\n"
   ]
  },
  {
   "cell_type": "code",
   "execution_count": 212,
   "id": "61c2d71e",
   "metadata": {},
   "outputs": [],
   "source": [
    "df_month_genre = df.loc[df['listed_in'] != 'NA']"
   ]
  },
  {
   "cell_type": "markdown",
   "id": "15b34de0",
   "metadata": {},
   "source": [
    "## Genres of movies added in each month of every year"
   ]
  },
  {
   "cell_type": "code",
   "execution_count": 213,
   "id": "8e4de195",
   "metadata": {},
   "outputs": [],
   "source": [
    "df_1 = df_movies.groupby('year_added')['month_name'].value_counts().unstack().fillna(0)\n"
   ]
  },
  {
   "cell_type": "code",
   "execution_count": 214,
   "id": "40b02708",
   "metadata": {},
   "outputs": [
    {
     "data": {
      "text/plain": [
       "Text(0.5, 1.0, 'Netflix Movies Update by months')"
      ]
     },
     "execution_count": 214,
     "metadata": {},
     "output_type": "execute_result"
    },
    {
     "data": {
      "image/png": "[encoded data removed]",
      "text/plain": [
       "<Figure size 720x504 with 2 Axes>"
      ]
     },
     "metadata": {
      "needs_background": "light"
     },
     "output_type": "display_data"
    }
   ],
   "source": [
    "plt. figure(figsize=(10,7))\n",
    "sns.heatmap (df_1, cmap=\"Reds\")\n",
    "plt. title( 'Netflix Movies Update by months')"
   ]
  },
  {
   "cell_type": "markdown",
   "id": "d650687a",
   "metadata": {},
   "source": [
    "1.Most movie additions in 2019 occurred in November followed by December 2.Most movie additions in 2020 occurred in January followed by July 3.Most movie additions in 2021 occurred in July followed by April"
   ]
  },
  {
   "cell_type": "markdown",
   "id": "c1094909",
   "metadata": {},
   "source": [
    "## Genres of TV Shows added in each month of every year"
   ]
  },
  {
   "cell_type": "code",
   "execution_count": 215,
   "id": "5200327d",
   "metadata": {},
   "outputs": [
    {
     "data": {
      "image/png": "[encoded data removed]",
      "text/plain": [
       "<Figure size 720x504 with 2 Axes>"
      ]
     },
     "metadata": {
      "needs_background": "light"
     },
     "output_type": "display_data"
    }
   ],
   "source": [
    "\n",
    "\n",
    "df_2 = df_tv_show.groupby('year_added')['month_name'].value_counts().unstack().fillna(0)\n",
    "\n",
    "# Transpose the DataFrame\n",
    "df_2 = df_2.transpose()\n",
    "\n",
    "plt.figure(figsize=(10, 7))\n",
    "sns.heatmap(df_2, cmap=\"Reds\")\n",
    "plt.title('Netflix TV Shows Update by Months')\n",
    "plt.xlabel('Year Added')\n",
    "plt.ylabel('Month')\n",
    "plt.show()\n"
   ]
  },
  {
   "cell_type": "markdown",
   "id": "86f83053",
   "metadata": {},
   "source": [
    "1.Most TV Show additions in 2019 occurred in November followed by October 2.Most TV Show additions in 2020 occurred in December followed by May 3. Most TV Show additions in 2021 occurred in July followed by June"
   ]
  },
  {
   "cell_type": "markdown",
   "id": "0898bdbf",
   "metadata": {},
   "source": [
    "## Genres of movies added based on month"
   ]
  },
  {
   "cell_type": "code",
   "execution_count": 216,
   "id": "13edf0d3",
   "metadata": {},
   "outputs": [],
   "source": [
    "df_3 = df_movies.groupby ('month_name') ['listed_in']. value_counts().unstack(). fillna(0)"
   ]
  },
  {
   "cell_type": "code",
   "execution_count": 217,
   "id": "905dea25",
   "metadata": {},
   "outputs": [
    {
     "data": {
      "text/plain": [
       "Text(0.5, 1.0, 'Netflix Genre-movies Update by months')"
      ]
     },
     "execution_count": 217,
     "metadata": {},
     "output_type": "execute_result"
    },
    {
     "data": {
      "image/png": "[encoded data removed]",
      "text/plain": [
       "<Figure size 720x504 with 2 Axes>"
      ]
     },
     "metadata": {
      "needs_background": "light"
     },
     "output_type": "display_data"
    }
   ],
   "source": [
    "df_3 = df_3.transpose()\n",
    "plt.figure (figsize=(10,7))\n",
    "sns.heatmap (df_3,cmap=\"Reds\")\n",
    "plt.title( 'Netflix Genre-movies Update by months')"
   ]
  },
  {
   "cell_type": "markdown",
   "id": "1a581431",
   "metadata": {},
   "source": [
    "In any month, top 3 movies added are of genres Dramas, International Movies and Comedies"
   ]
  },
  {
   "cell_type": "markdown",
   "id": "4323d9b0",
   "metadata": {},
   "source": [
    "### Genres of TV Shows based on month_added"
   ]
  },
  {
   "cell_type": "code",
   "execution_count": 218,
   "id": "697385c3",
   "metadata": {},
   "outputs": [],
   "source": [
    "df_4 = df_tv_show.groupby ('month_name')['listed_in']. value_counts(). unstack(). fillna(0)"
   ]
  },
  {
   "cell_type": "code",
   "execution_count": 219,
   "id": "037a75cc",
   "metadata": {},
   "outputs": [],
   "source": [
    "df_4 = df_4.transpose"
   ]
  },
  {
   "cell_type": "code",
   "execution_count": 220,
   "id": "e05f8686",
   "metadata": {},
   "outputs": [
    {
     "data": {
      "image/png": "[encoded data removed]",
      "text/plain": [
       "<Figure size 720x504 with 2 Axes>"
      ]
     },
     "metadata": {
      "needs_background": "light"
     },
     "output_type": "display_data"
    }
   ],
   "source": [
    "import matplotlib.pyplot as plt\n",
    "import seaborn as sns\n",
    "\n",
    "df_4 = df_tv_show.groupby('month_name')['listed_in'].value_counts().unstack().fillna(0)\n",
    "\n",
    "# Transpose the DataFrame\n",
    "df_4 = df_4.transpose()\n",
    "\n",
    "plt.figure(figsize=(10, 7))\n",
    "sns.heatmap(df_4, cmap=\"Reds\")\n",
    "plt.title('Netflix TV Shows Genres Update by Months')\n",
    "plt.xlabel('Month')\n",
    "plt.ylabel('Genre')\n",
    "plt.show()\n"
   ]
  },
  {
   "cell_type": "markdown",
   "id": "31b9520b",
   "metadata": {},
   "source": [
    "In any month, TV Shows added are mostly of genres International TV Shows and TV Dramas"
   ]
  },
  {
   "cell_type": "markdown",
   "id": "7ec578e4",
   "metadata": {},
   "source": [
    "### Genres of movies_added in every year"
   ]
  },
  {
   "cell_type": "code",
   "execution_count": 221,
   "id": "c2a55fd4",
   "metadata": {},
   "outputs": [
    {
     "data": {
      "image/png": "[encoded data removed]",
      "text/plain": [
       "<Figure size 720x504 with 2 Axes>"
      ]
     },
     "metadata": {
      "needs_background": "light"
     },
     "output_type": "display_data"
    }
   ],
   "source": [
    "\n",
    "\n",
    "df_5 = df_movies.groupby('year_added')['listed_in'].value_counts().unstack().fillna(0)\n",
    "df_5= df_5.transpose()\n",
    "plt.figure(figsize=(10, 7))\n",
    "sns.heatmap(df_5, cmap=\"Reds\")\n",
    "plt.title('Netflix Genres/Movies Update by Years')\n",
    "plt.xlabel('Genre')\n",
    "plt.ylabel('Year Added')\n",
    "plt.show()\n"
   ]
  },
  {
   "cell_type": "markdown",
   "id": "d83b30b9",
   "metadata": {},
   "source": [
    "## Genres of TV Shows in every year"
   ]
  },
  {
   "cell_type": "code",
   "execution_count": 222,
   "id": "ee66db51",
   "metadata": {},
   "outputs": [
    {
     "data": {
      "image/png": "[encoded data removed]",
      "text/plain": [
       "<Figure size 720x504 with 2 Axes>"
      ]
     },
     "metadata": {
      "needs_background": "light"
     },
     "output_type": "display_data"
    }
   ],
   "source": [
    "\n",
    "df_6 = df_tv_show.groupby('year_added')['listed_in'].value_counts().unstack().fillna(0)\n",
    "df_6=df_6.transpose()\n",
    "plt.figure(figsize=(10, 7))\n",
    "sns.heatmap(df_6, cmap=\"Reds\")\n",
    "plt.title('Netflix Genre/TV Shows Update by Years')\n",
    "plt.xlabel('Genre')\n",
    "plt.ylabel('Year Added')\n",
    "plt.show()\n"
   ]
  },
  {
   "cell_type": "markdown",
   "id": "4ea9b8b2",
   "metadata": {},
   "source": [
    "### Target Audience movies Analysis\n",
    "### Movies released in every month based on target _audience"
   ]
  },
  {
   "cell_type": "code",
   "execution_count": 223,
   "id": "1f1fe262",
   "metadata": {},
   "outputs": [
    {
     "data": {
      "image/png": "[encoded data removed]",
      "text/plain": [
       "<Figure size 720x504 with 2 Axes>"
      ]
     },
     "metadata": {
      "needs_background": "light"
     },
     "output_type": "display_data"
    }
   ],
   "source": [
    "\n",
    "df_7 = df_movies.groupby('Target_audience')['month_name'].value_counts().unstack().fillna(0)\n",
    "df_7=df_7.transpose()\n",
    "plt.figure(figsize=(10, 7))\n",
    "sns.heatmap(df_7, cmap=\"Blues\")\n",
    "plt.title('Netflix Movies Update by Months Based on Target Audience')\n",
    "plt.xlabel('Month')\n",
    "plt.ylabel('Target Audience')\n",
    "plt.show()\n"
   ]
  },
  {
   "cell_type": "markdown",
   "id": "461b4edf",
   "metadata": {},
   "source": [
    "### TV Shows released in every month based on target_audience"
   ]
  },
  {
   "cell_type": "code",
   "execution_count": 224,
   "id": "2625ff8b",
   "metadata": {},
   "outputs": [
    {
     "data": {
      "image/png": "[encoded data removed]",
      "text/plain": [
       "<Figure size 720x504 with 2 Axes>"
      ]
     },
     "metadata": {
      "needs_background": "light"
     },
     "output_type": "display_data"
    }
   ],
   "source": [
    "\n",
    "\n",
    "df_8 = df_tv_show.groupby('Target_audience')['month_name'].value_counts().unstack().fillna(0)\n",
    "df_8=df_8.transpose()\n",
    "plt.figure(figsize=(10, 7))\n",
    "sns.heatmap(df_8, cmap=\"Blues\")\n",
    "plt.title('Netflix TV Shows Update by Months Based on Target Audience')\n",
    "plt.xlabel('Month')\n",
    "plt.ylabel('Target Audience')\n",
    "plt.show()\n"
   ]
  },
  {
   "cell_type": "markdown",
   "id": "3b45e553",
   "metadata": {},
   "source": [
    "In every month, TV Shows added for Mature Audience are highest followed by Teens"
   ]
  },
  {
   "cell_type": "markdown",
   "id": "8fd4eb88",
   "metadata": {},
   "source": [
    "## Insights\n",
    "\n",
    "1.Number of movies in Netflix is more than Number of TV Shows on Netflix\n",
    "\n",
    "2.Content added in year 2019 is greater than 2020 and 2021.\n",
    "\n",
    "3.Number of movies added is highest in 2019 followed by 2020 and 2018, wheras for TV Shows it is highest in 2020 followed by 2019 and 2021.\n",
    "\n",
    "4.There is more content for Mature Audience in Netflix followed by Teens and \"Kids with Parental Guidance\" in both Movies and TV Shows\n"
   ]
  },
  {
   "cell_type": "markdown",
   "id": "9331421e",
   "metadata": {},
   "source": [
    "## Movies Analysis\n",
    "\n",
    "1.Netflix has very few short films\n",
    "\n",
    "2.There are maximum number of films closer to 100 minutes"
   ]
  },
  {
   "cell_type": "markdown",
   "id": "875f8e87",
   "metadata": {},
   "source": [
    "## TV Show Analysis\n",
    "1.Most of the TV Shows available o netflix has only one season. 2.Very few TV Shows have more than 8 seasons\n",
    "\n",
    "* United States has the maximum content available followed by India and United Kingdom\n",
    "\n",
    "\n",
    "* Nicaragua, Afghanistan and Ecuador are the countries with less or NO content available on Netflix\n",
    "\n",
    "\n",
    "*  Top 3 Genres in Movies and TV Shows \n",
    "i) Dramas ii) International Movies iii) Comedies\n",
    "\n",
    " \n",
    " \n",
    "*  Most preferred months for adding new Movies:\n",
    "    i) July ii) January iii) October\n",
    "    \n",
    "    \n",
    "*  Most preferred months for releasing new seasons: i) December ii) July iii) August\n",
    "\n",
    "\n",
    "* Most movie additions in 2019 occurred in November followed by December,whereas for 2020 they are added in January followed by July and for 2021 they are added in July followed by April.\n",
    "\n",
    "\n",
    "* Most TV Show additions in 2019 occurred in November followed by October, whereas for 2020 they are added in December followed by May and for 2021 they are added in July followed bv June\n",
    "\n"
   ]
  },
  {
   "cell_type": "markdown",
   "id": "d864e134",
   "metadata": {},
   "source": [
    "* In any month, maximum number of TV Shows or Movies added to netflix have genres Dramas and International Movies/TV shows\n",
    "\n",
    "\n",
    "\n",
    "* In every month, movies added for Mature Audience are highest followed by Teens"
   ]
  },
  {
   "cell_type": "markdown",
   "id": "9cc2f002",
   "metadata": {},
   "source": [
    "## Recommendations:\n",
    "\n",
    "As it is working fine for Netflix all these years, I would like to recommend the follwoing things:\n",
    "\n",
    "1. If any Movie or TV Show has to be added to Netflix, the preferred months are July and January, because of Summer break in July and Winter break in January\n",
    "\n",
    "\n",
    "2. Company should focus on adding more movies or TV Shows related to Dramas and International Movies\n",
    "\n",
    "\n",
    "3. Apart from United States, Netflix should add more Content in India and United Kingdom as there is growing popularity in these countries.\n",
    "\n",
    "\n",
    "4. While adding any new movies, Netflix should focus on adding those movies which have duration of 1.5-2hr than anyother duration.\n",
    "\n",
    "\n",
    "5. Coming to TV Shows, netflix should focus on those TV Shows which have number of seasons less than 5"
   ]
  },
  {
   "cell_type": "code",
   "execution_count": null,
   "id": "7a9f16c3",
   "metadata": {},
   "outputs": [],
   "source": []
  },
  {
   "cell_type": "code",
   "execution_count": null,
   "id": "73145e28",
   "metadata": {},
   "outputs": [],
   "source": []
  }
 ],
 "metadata": {
  "kernelspec": {
   "display_name": "Python 3 (ipykernel)",
   "language": "python",
   "name": "python3"
  },
  "language_info": {
   "codemirror_mode": {
    "name": "ipython",
    "version": 3
   },
   "file_extension": ".py",
   "mimetype": "text/x-python",
   "name": "python",
   "nbconvert_exporter": "python",
   "pygments_lexer": "ipython3",
   "version": "3.8.2"
  }
 },
 "nbformat": 4,
 "nbformat_minor": 5
}
